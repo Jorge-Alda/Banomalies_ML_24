{
 "cells": [
  {
   "cell_type": "markdown",
   "id": "9c7e1f61-d48a-4808-a628-308c8c30f11d",
   "metadata": {},
   "source": [
    "# 01: Global Fits"
   ]
  },
  {
   "cell_type": "code",
   "execution_count": null,
   "id": "e0e6179f-63d2-4607-a59a-3507928b7e72",
   "metadata": {},
   "outputs": [],
   "source": [
    "import SMEFT19\n",
    "import numpy as np\n",
    "import matplotlib.pyplot as plt\n",
    "import pandas as pd\n",
    "from flavio.statistics.functions import pull\n",
    "import warnings"
   ]
  },
  {
   "cell_type": "code",
   "execution_count": null,
   "id": "69eb7139-776c-46c0-bcfd-dc8eee584097",
   "metadata": {},
   "outputs": [],
   "source": [
    "with warnings.catch_warnings():\n",
    "    warnings.simplefilter(\"ignore\")\n",
    "    SMEFT19.SMEFTglob.gl.make_measurement()"
   ]
  },
  {
   "cell_type": "code",
   "execution_count": null,
   "id": "03385f3e-3bcf-4d6c-9d37-2eacf70cccc2",
   "metadata": {},
   "outputs": [],
   "source": [
    "def fit_I(x):\n",
    "    return -SMEFT19.likelihood_global(x, SMEFT19.scenarios.rotBI)"
   ]
  },
  {
   "cell_type": "code",
   "execution_count": null,
   "id": "2fae73c6-5c90-4fb9-8450-dfbf3e6d7dab",
   "metadata": {},
   "outputs": [],
   "source": [
    "bf, v, d, L = SMEFT19.ellipse.minimum(fit_I, [-0.13, 0, 0.851])"
   ]
  },
  {
   "cell_type": "code",
   "execution_count": null,
   "id": "42b282df-263f-451f-b24c-dce2cc2bb016",
   "metadata": {},
   "outputs": [],
   "source": [
    "SMEFT19.__path__"
   ]
  },
  {
   "cell_type": "code",
   "execution_count": null,
   "id": "d581bbf9-3d01-401a-8959-4500592bf916",
   "metadata": {},
   "outputs": [],
   "source": [
    "SMEFT19.SMEFTglob.likelihood_fits([-0.13, 0, 0.851], SMEFT19.scenarios.rotBI)"
   ]
  },
  {
   "cell_type": "code",
   "execution_count": null,
   "id": "3ebd4b8e-7733-49ee-bd83-32435e82f13a",
   "metadata": {},
   "outputs": [],
   "source": [
    "d1 = {5: 'a', 7: 'b', 4.3: 'c'}"
   ]
  },
  {
   "cell_type": "code",
   "execution_count": null,
   "id": "8efa5fd1-8797-4070-8524-276750c6301e",
   "metadata": {},
   "outputs": [],
   "source": [
    "d1[4.3]"
   ]
  },
  {
   "cell_type": "code",
   "execution_count": null,
   "id": "5bc45ab6-a068-4aab-8876-02b98fbad9a1",
   "metadata": {},
   "outputs": [],
   "source": [
    "SMEFT19.scenarios.rotBI([-0.13, 0, 0.851]).wc.values.keys()"
   ]
  },
  {
   "cell_type": "code",
   "execution_count": null,
   "id": "527ff2d9-78a7-4c90-968a-cfc7fccf4cc7",
   "metadata": {},
   "outputs": [],
   "source": [
    "from wilson import Wilson"
   ]
  },
  {
   "cell_type": "code",
   "execution_count": null,
   "id": "0efa655f-4666-45ee-bc92-3fd9e2bb55a8",
   "metadata": {},
   "outputs": [],
   "source": [
    "from collections import defaultdict"
   ]
  },
  {
   "cell_type": "code",
   "execution_count": null,
   "id": "64658922-9354-4224-9137-8710d0ee3531",
   "metadata": {},
   "outputs": [],
   "source": [
    "d = defaultdict(float)"
   ]
  },
  {
   "cell_type": "code",
   "execution_count": null,
   "id": "c6b89e25-03ea-4255-a6b1-c2970d74d44a",
   "metadata": {},
   "outputs": [],
   "source": [
    "d['a'] += 7"
   ]
  },
  {
   "cell_type": "code",
   "execution_count": null,
   "id": "a3fb334b-84f5-481a-9482-a7f3a11003bf",
   "metadata": {},
   "outputs": [],
   "source": [
    "d['a']"
   ]
  },
  {
   "cell_type": "code",
   "execution_count": null,
   "id": "9719216a-5c3b-4181-897f-fcf914f2ad8e",
   "metadata": {},
   "outputs": [],
   "source": [
    "d['b'] -= 2.3"
   ]
  },
  {
   "cell_type": "code",
   "execution_count": null,
   "id": "83c7cfd6-b175-473d-bf02-6ebd4857699b",
   "metadata": {},
   "outputs": [],
   "source": [
    "d['b']"
   ]
  },
  {
   "cell_type": "code",
   "execution_count": null,
   "id": "d8430e89-e331-443d-95be-41a525f15d6a",
   "metadata": {},
   "outputs": [],
   "source": [
    "dict(d)"
   ]
  },
  {
   "cell_type": "code",
   "execution_count": null,
   "id": "e1d282e5-d2e1-42cb-a87f-83d95a53c6ac",
   "metadata": {},
   "outputs": [],
   "source": [
    "cache_running = {125.0: {}, 91.1876: {}, 4.8: {}, 1.8: {} }"
   ]
  },
  {
   "cell_type": "code",
   "execution_count": null,
   "id": "785898d5-4402-4575-9ed5-d1cee18e83a4",
   "metadata": {},
   "outputs": [],
   "source": [
    "fit_scale = {'fast_likelihood_quarks.yaml': 4.8,\n",
    "                 'fast_likelihood_leptons.yaml': 1.8,\n",
    "                 'likelihood_ewpt.yaml': 91.1876,\n",
    "                 'likelihood_eeww.yaml': 91.1876,\n",
    "                 'likelihood_lept.yaml': 1.8,\n",
    "                 'likelihood_rd_rds.yaml': 4.8,\n",
    "                 'likelihood_lfu_fccc.yaml': 4.8,\n",
    "                 'likelihood_lfu_fcnc.yaml': 4.8,\n",
    "                 'likelihood_bcpv.yaml': 4.8,\n",
    "                 'likelihood_bqnunu.yaml': 4.8,\n",
    "                 'likelihood_lfv.yaml': 4.8,\n",
    "                 'likelihood_zlfv.yaml': 91.1876,\n",
    "                 'likelihood_higgs.yaml': 125.0\n",
    "                 }"
   ]
  },
  {
   "cell_type": "code",
   "execution_count": null,
   "id": "d39e7b74-6c67-4481-b06d-c5fff2d89b6d",
   "metadata": {},
   "outputs": [],
   "source": [
    "with warnings.catch_warnings():\n",
    "    warnings.simplefilter(\"ignore\")\n",
    "    glfit = {}\n",
    "    for fit in fit_scale.keys():\n",
    "            scale = fit_scale[fit]\n",
    "            if scale > 80:\n",
    "                eft = 'SMEFT'\n",
    "                basis = 'Warsaw'\n",
    "            else:\n",
    "                eft = 'WET'\n",
    "                basis = 'flavio'\n",
    "            glfit[fit] = smelli.GlobalLikelihood(eft=eft, include_likelihoods=[fit,])\n",
    "            glfit[fit].make_measurement()"
   ]
  },
  {
   "cell_type": "code",
   "execution_count": null,
   "id": "ebf1258d-f194-4b78-ab11-7815cfe076d3",
   "metadata": {},
   "outputs": [],
   "source": [
    "import smelli"
   ]
  },
  {
   "cell_type": "code",
   "execution_count": null,
   "id": "835e1d09-f6fb-44eb-b36e-d1764488708a",
   "metadata": {},
   "outputs": [],
   "source": [
    "def likelihood_fits_cached(x, wfun):\n",
    "    global cache_running\n",
    "    res = {}\n",
    "    for fit in fit_scale.keys():\n",
    "        scale = fit_scale[fit]\n",
    "        if scale > 80:\n",
    "            eft = 'SMEFT'\n",
    "            basis = 'Warsaw'\n",
    "        else:\n",
    "            eft = 'WET'\n",
    "            basis = 'flavio'\n",
    "        w0 = wfun(x)\n",
    "        wc_res = defaultdict(float)\n",
    "        for wc in w0.wc.values.keys():\n",
    "            if wc not in cache_running[scale].keys():\n",
    "                cache_running[scale][wc] = Wilson({wc: 1e-6}, scale=1e3, basis='Warsaw', eft='SMEFT').match_run(scale=scale, eft=eft, basis=basis).values\n",
    "            for w in cache_running[scale][wc].keys():\n",
    "                if isinstance(cache_running[scale][wc][w], float):\n",
    "                    wc_res[w] += cache_running[scale][wc][w]/1e-6 * w0.wc.values[wc]\n",
    "                else:\n",
    "                    wc_res[w] += (cache_running[scale][wc][w]['Re']+cache_running[scale][wc][w]['Im'])/1e-6 * w0.wc.values[wc]\n",
    "        res[fit] = glfit[fit].parameter_point(Wilson(dict(wc_res), scale=scale, eft=eft, basis=basis )).log_likelihood_global()\n",
    "    res['global'] = sum(res[fit] for fit in fit_scale.keys())\n",
    "    return res"
   ]
  },
  {
   "cell_type": "code",
   "execution_count": null,
   "id": "acab9bea-f25a-45a4-8cd1-5dc59747fbbf",
   "metadata": {
    "editable": true,
    "slideshow": {
     "slide_type": ""
    },
    "tags": []
   },
   "outputs": [],
   "source": [
    "t0 = time.time()\n",
    "with warnings.catch_warnings():\n",
    "    warnings.simplefilter(\"ignore\")\n",
    "    l1 = likelihood_fits_cached([-0.13, 0, 0.851], SMEFT19.scenarios.rotBI)\n",
    "tf = time.time()"
   ]
  },
  {
   "cell_type": "code",
   "execution_count": null,
   "id": "f3dc3802-976c-45e9-a762-ee0bb30ac395",
   "metadata": {},
   "outputs": [],
   "source": [
    "import time"
   ]
  },
  {
   "cell_type": "code",
   "execution_count": null,
   "id": "1e37aab9-4af5-4560-adc7-6129b356b5b2",
   "metadata": {},
   "outputs": [],
   "source": [
    "with warnings.catch_warnings():\n",
    "    warnings.simplefilter(\"ignore\")\n",
    "    print(l1['fast_likelihood_quarks.yaml'].log_likelihood_global())"
   ]
  },
  {
   "cell_type": "code",
   "execution_count": null,
   "id": "89e7ffd2-f6e0-4e05-80d4-f6b05cd1eb24",
   "metadata": {},
   "outputs": [],
   "source": [
    "tf-t0"
   ]
  },
  {
   "cell_type": "code",
   "execution_count": null,
   "id": "080749a4-1ceb-43b0-be55-d10dfbbfe7cf",
   "metadata": {},
   "outputs": [],
   "source": [
    "l1['global']"
   ]
  },
  {
   "cell_type": "code",
   "execution_count": null,
   "id": "61baa30c-526d-49c7-b6b8-eeef3c134fb7",
   "metadata": {},
   "outputs": [],
   "source": [
    "def fit_I(x):\n",
    "    with warnings.catch_warnings():\n",
    "        warnings.simplefilter(\"ignore\")\n",
    "        return -likelihood_fits_cached(x, SMEFT19.scenarios.rotBI)['global']"
   ]
  },
  {
   "cell_type": "code",
   "execution_count": null,
   "id": "60eeec0a-cfda-4800-b729-cc296f73d9f2",
   "metadata": {},
   "outputs": [],
   "source": [
    "bf_I, v_I, d_I, L_I = SMEFT19.ellipse.minimum(fit_I, [-0.13, 0, 0.851])"
   ]
  },
  {
   "cell_type": "code",
   "execution_count": null,
   "id": "a9cbbf35-4261-49d0-9cb1-26eaaec4a39c",
   "metadata": {},
   "outputs": [],
   "source": [
    "cache_running"
   ]
  },
  {
   "cell_type": "code",
   "execution_count": null,
   "id": "8b745543-0d4e-48ed-a071-d6da507dc02a",
   "metadata": {},
   "outputs": [],
   "source": []
  }
 ],
 "metadata": {
  "kernelspec": {
   "display_name": "ml_banomalies",
   "language": "python",
   "name": "ml_banomalies"
  },
  "language_info": {
   "codemirror_mode": {
    "name": "ipython",
    "version": 3
   },
   "file_extension": ".py",
   "mimetype": "text/x-python",
   "name": "python",
   "nbconvert_exporter": "python",
   "pygments_lexer": "ipython3",
   "version": "3.10.14"
  }
 },
 "nbformat": 4,
 "nbformat_minor": 5
}
