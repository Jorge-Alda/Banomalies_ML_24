{
 "cells": [
  {
   "cell_type": "markdown",
   "id": "9c7e1f61-d48a-4808-a628-308c8c30f11d",
   "metadata": {},
   "source": [
    "# 01: Global Fits"
   ]
  },
  {
   "cell_type": "code",
   "execution_count": 1,
   "id": "e0e6179f-63d2-4607-a59a-3507928b7e72",
   "metadata": {},
   "outputs": [
    {
     "name": "stderr",
     "output_type": "stream",
     "text": [
      "/home/jorge/.cache/pypoetry/virtualenvs/banomalies-ml-24-q3wM3yKA-py3.10/lib/python3.10/site-packages/smelli/classes.py:174: UserWarning: There was a problem loading the SM covariances. Please recompute them with `make_measurement`.\n",
      "  warnings.warn(\"There was a problem loading the SM covariances. \"\n",
      "/home/jorge/.cache/pypoetry/virtualenvs/banomalies-ml-24-q3wM3yKA-py3.10/lib/python3.10/site-packages/ckmutil/ckm.py:23: ComplexWarning: Casting complex values to real discards the imaginary part\n",
      "  c12 = cos(t12)\n",
      "/home/jorge/.cache/pypoetry/virtualenvs/banomalies-ml-24-q3wM3yKA-py3.10/lib/python3.10/site-packages/ckmutil/ckm.py:25: ComplexWarning: Casting complex values to real discards the imaginary part\n",
      "  c23 = cos(t23)\n",
      "/home/jorge/.cache/pypoetry/virtualenvs/banomalies-ml-24-q3wM3yKA-py3.10/lib/python3.10/site-packages/ckmutil/ckm.py:26: ComplexWarning: Casting complex values to real discards the imaginary part\n",
      "  s12 = sin(t12)\n",
      "/home/jorge/.cache/pypoetry/virtualenvs/banomalies-ml-24-q3wM3yKA-py3.10/lib/python3.10/site-packages/ckmutil/ckm.py:28: ComplexWarning: Casting complex values to real discards the imaginary part\n",
      "  s23 = sin(t23)\n",
      "/home/jorge/.cache/pypoetry/virtualenvs/banomalies-ml-24-q3wM3yKA-py3.10/lib/python3.10/site-packages/ckmutil/ckm.py:23: ComplexWarning: Casting complex values to real discards the imaginary part\n",
      "  c12 = cos(t12)\n",
      "/home/jorge/.cache/pypoetry/virtualenvs/banomalies-ml-24-q3wM3yKA-py3.10/lib/python3.10/site-packages/ckmutil/ckm.py:25: ComplexWarning: Casting complex values to real discards the imaginary part\n",
      "  c23 = cos(t23)\n",
      "/home/jorge/.cache/pypoetry/virtualenvs/banomalies-ml-24-q3wM3yKA-py3.10/lib/python3.10/site-packages/ckmutil/ckm.py:26: ComplexWarning: Casting complex values to real discards the imaginary part\n",
      "  s12 = sin(t12)\n",
      "/home/jorge/.cache/pypoetry/virtualenvs/banomalies-ml-24-q3wM3yKA-py3.10/lib/python3.10/site-packages/ckmutil/ckm.py:28: ComplexWarning: Casting complex values to real discards the imaginary part\n",
      "  s23 = sin(t23)\n",
      "/home/jorge/.cache/pypoetry/virtualenvs/banomalies-ml-24-q3wM3yKA-py3.10/lib/python3.10/site-packages/ckmutil/ckm.py:23: ComplexWarning: Casting complex values to real discards the imaginary part\n",
      "  c12 = cos(t12)\n",
      "/home/jorge/.cache/pypoetry/virtualenvs/banomalies-ml-24-q3wM3yKA-py3.10/lib/python3.10/site-packages/ckmutil/ckm.py:25: ComplexWarning: Casting complex values to real discards the imaginary part\n",
      "  c23 = cos(t23)\n",
      "/home/jorge/.cache/pypoetry/virtualenvs/banomalies-ml-24-q3wM3yKA-py3.10/lib/python3.10/site-packages/ckmutil/ckm.py:26: ComplexWarning: Casting complex values to real discards the imaginary part\n",
      "  s12 = sin(t12)\n",
      "/home/jorge/.cache/pypoetry/virtualenvs/banomalies-ml-24-q3wM3yKA-py3.10/lib/python3.10/site-packages/ckmutil/ckm.py:28: ComplexWarning: Casting complex values to real discards the imaginary part\n",
      "  s23 = sin(t23)\n",
      "/home/jorge/.cache/pypoetry/virtualenvs/banomalies-ml-24-q3wM3yKA-py3.10/lib/python3.10/site-packages/ckmutil/ckm.py:23: ComplexWarning: Casting complex values to real discards the imaginary part\n",
      "  c12 = cos(t12)\n",
      "/home/jorge/.cache/pypoetry/virtualenvs/banomalies-ml-24-q3wM3yKA-py3.10/lib/python3.10/site-packages/ckmutil/ckm.py:25: ComplexWarning: Casting complex values to real discards the imaginary part\n",
      "  c23 = cos(t23)\n",
      "/home/jorge/.cache/pypoetry/virtualenvs/banomalies-ml-24-q3wM3yKA-py3.10/lib/python3.10/site-packages/ckmutil/ckm.py:26: ComplexWarning: Casting complex values to real discards the imaginary part\n",
      "  s12 = sin(t12)\n",
      "/home/jorge/.cache/pypoetry/virtualenvs/banomalies-ml-24-q3wM3yKA-py3.10/lib/python3.10/site-packages/ckmutil/ckm.py:28: ComplexWarning: Casting complex values to real discards the imaginary part\n",
      "  s23 = sin(t23)\n",
      "/home/jorge/.cache/pypoetry/virtualenvs/banomalies-ml-24-q3wM3yKA-py3.10/lib/python3.10/site-packages/ckmutil/ckm.py:23: ComplexWarning: Casting complex values to real discards the imaginary part\n",
      "  c12 = cos(t12)\n",
      "/home/jorge/.cache/pypoetry/virtualenvs/banomalies-ml-24-q3wM3yKA-py3.10/lib/python3.10/site-packages/ckmutil/ckm.py:25: ComplexWarning: Casting complex values to real discards the imaginary part\n",
      "  c23 = cos(t23)\n",
      "/home/jorge/.cache/pypoetry/virtualenvs/banomalies-ml-24-q3wM3yKA-py3.10/lib/python3.10/site-packages/ckmutil/ckm.py:26: ComplexWarning: Casting complex values to real discards the imaginary part\n",
      "  s12 = sin(t12)\n",
      "/home/jorge/.cache/pypoetry/virtualenvs/banomalies-ml-24-q3wM3yKA-py3.10/lib/python3.10/site-packages/ckmutil/ckm.py:28: ComplexWarning: Casting complex values to real discards the imaginary part\n",
      "  s23 = sin(t23)\n",
      "/home/jorge/.cache/pypoetry/virtualenvs/banomalies-ml-24-q3wM3yKA-py3.10/lib/python3.10/site-packages/ckmutil/ckm.py:23: ComplexWarning: Casting complex values to real discards the imaginary part\n",
      "  c12 = cos(t12)\n",
      "/home/jorge/.cache/pypoetry/virtualenvs/banomalies-ml-24-q3wM3yKA-py3.10/lib/python3.10/site-packages/ckmutil/ckm.py:25: ComplexWarning: Casting complex values to real discards the imaginary part\n",
      "  c23 = cos(t23)\n",
      "/home/jorge/.cache/pypoetry/virtualenvs/banomalies-ml-24-q3wM3yKA-py3.10/lib/python3.10/site-packages/ckmutil/ckm.py:26: ComplexWarning: Casting complex values to real discards the imaginary part\n",
      "  s12 = sin(t12)\n",
      "/home/jorge/.cache/pypoetry/virtualenvs/banomalies-ml-24-q3wM3yKA-py3.10/lib/python3.10/site-packages/ckmutil/ckm.py:28: ComplexWarning: Casting complex values to real discards the imaginary part\n",
      "  s23 = sin(t23)\n",
      "/home/jorge/.cache/pypoetry/virtualenvs/banomalies-ml-24-q3wM3yKA-py3.10/lib/python3.10/site-packages/ckmutil/ckm.py:23: ComplexWarning: Casting complex values to real discards the imaginary part\n",
      "  c12 = cos(t12)\n",
      "/home/jorge/.cache/pypoetry/virtualenvs/banomalies-ml-24-q3wM3yKA-py3.10/lib/python3.10/site-packages/ckmutil/ckm.py:25: ComplexWarning: Casting complex values to real discards the imaginary part\n",
      "  c23 = cos(t23)\n",
      "/home/jorge/.cache/pypoetry/virtualenvs/banomalies-ml-24-q3wM3yKA-py3.10/lib/python3.10/site-packages/ckmutil/ckm.py:26: ComplexWarning: Casting complex values to real discards the imaginary part\n",
      "  s12 = sin(t12)\n",
      "/home/jorge/.cache/pypoetry/virtualenvs/banomalies-ml-24-q3wM3yKA-py3.10/lib/python3.10/site-packages/ckmutil/ckm.py:28: ComplexWarning: Casting complex values to real discards the imaginary part\n",
      "  s23 = sin(t23)\n",
      "/home/jorge/.cache/pypoetry/virtualenvs/banomalies-ml-24-q3wM3yKA-py3.10/lib/python3.10/site-packages/ckmutil/ckm.py:23: ComplexWarning: Casting complex values to real discards the imaginary part\n",
      "  c12 = cos(t12)\n",
      "/home/jorge/.cache/pypoetry/virtualenvs/banomalies-ml-24-q3wM3yKA-py3.10/lib/python3.10/site-packages/ckmutil/ckm.py:25: ComplexWarning: Casting complex values to real discards the imaginary part\n",
      "  c23 = cos(t23)\n",
      "/home/jorge/.cache/pypoetry/virtualenvs/banomalies-ml-24-q3wM3yKA-py3.10/lib/python3.10/site-packages/ckmutil/ckm.py:26: ComplexWarning: Casting complex values to real discards the imaginary part\n",
      "  s12 = sin(t12)\n",
      "/home/jorge/.cache/pypoetry/virtualenvs/banomalies-ml-24-q3wM3yKA-py3.10/lib/python3.10/site-packages/ckmutil/ckm.py:28: ComplexWarning: Casting complex values to real discards the imaginary part\n",
      "  s23 = sin(t23)\n",
      "/home/jorge/.cache/pypoetry/virtualenvs/banomalies-ml-24-q3wM3yKA-py3.10/lib/python3.10/site-packages/ckmutil/ckm.py:23: ComplexWarning: Casting complex values to real discards the imaginary part\n",
      "  c12 = cos(t12)\n",
      "/home/jorge/.cache/pypoetry/virtualenvs/banomalies-ml-24-q3wM3yKA-py3.10/lib/python3.10/site-packages/ckmutil/ckm.py:25: ComplexWarning: Casting complex values to real discards the imaginary part\n",
      "  c23 = cos(t23)\n",
      "/home/jorge/.cache/pypoetry/virtualenvs/banomalies-ml-24-q3wM3yKA-py3.10/lib/python3.10/site-packages/ckmutil/ckm.py:26: ComplexWarning: Casting complex values to real discards the imaginary part\n",
      "  s12 = sin(t12)\n",
      "/home/jorge/.cache/pypoetry/virtualenvs/banomalies-ml-24-q3wM3yKA-py3.10/lib/python3.10/site-packages/ckmutil/ckm.py:28: ComplexWarning: Casting complex values to real discards the imaginary part\n",
      "  s23 = sin(t23)\n",
      "/home/jorge/.cache/pypoetry/virtualenvs/banomalies-ml-24-q3wM3yKA-py3.10/lib/python3.10/site-packages/ckmutil/ckm.py:23: ComplexWarning: Casting complex values to real discards the imaginary part\n",
      "  c12 = cos(t12)\n",
      "/home/jorge/.cache/pypoetry/virtualenvs/banomalies-ml-24-q3wM3yKA-py3.10/lib/python3.10/site-packages/ckmutil/ckm.py:25: ComplexWarning: Casting complex values to real discards the imaginary part\n",
      "  c23 = cos(t23)\n",
      "/home/jorge/.cache/pypoetry/virtualenvs/banomalies-ml-24-q3wM3yKA-py3.10/lib/python3.10/site-packages/ckmutil/ckm.py:26: ComplexWarning: Casting complex values to real discards the imaginary part\n",
      "  s12 = sin(t12)\n",
      "/home/jorge/.cache/pypoetry/virtualenvs/banomalies-ml-24-q3wM3yKA-py3.10/lib/python3.10/site-packages/ckmutil/ckm.py:28: ComplexWarning: Casting complex values to real discards the imaginary part\n",
      "  s23 = sin(t23)\n",
      "/home/jorge/.cache/pypoetry/virtualenvs/banomalies-ml-24-q3wM3yKA-py3.10/lib/python3.10/site-packages/ckmutil/ckm.py:23: ComplexWarning: Casting complex values to real discards the imaginary part\n",
      "  c12 = cos(t12)\n",
      "/home/jorge/.cache/pypoetry/virtualenvs/banomalies-ml-24-q3wM3yKA-py3.10/lib/python3.10/site-packages/ckmutil/ckm.py:25: ComplexWarning: Casting complex values to real discards the imaginary part\n",
      "  c23 = cos(t23)\n",
      "/home/jorge/.cache/pypoetry/virtualenvs/banomalies-ml-24-q3wM3yKA-py3.10/lib/python3.10/site-packages/ckmutil/ckm.py:26: ComplexWarning: Casting complex values to real discards the imaginary part\n",
      "  s12 = sin(t12)\n",
      "/home/jorge/.cache/pypoetry/virtualenvs/banomalies-ml-24-q3wM3yKA-py3.10/lib/python3.10/site-packages/ckmutil/ckm.py:28: ComplexWarning: Casting complex values to real discards the imaginary part\n",
      "  s23 = sin(t23)\n",
      "/home/jorge/.cache/pypoetry/virtualenvs/banomalies-ml-24-q3wM3yKA-py3.10/lib/python3.10/site-packages/ckmutil/ckm.py:23: ComplexWarning: Casting complex values to real discards the imaginary part\n",
      "  c12 = cos(t12)\n",
      "/home/jorge/.cache/pypoetry/virtualenvs/banomalies-ml-24-q3wM3yKA-py3.10/lib/python3.10/site-packages/ckmutil/ckm.py:25: ComplexWarning: Casting complex values to real discards the imaginary part\n",
      "  c23 = cos(t23)\n",
      "/home/jorge/.cache/pypoetry/virtualenvs/banomalies-ml-24-q3wM3yKA-py3.10/lib/python3.10/site-packages/ckmutil/ckm.py:26: ComplexWarning: Casting complex values to real discards the imaginary part\n",
      "  s12 = sin(t12)\n",
      "/home/jorge/.cache/pypoetry/virtualenvs/banomalies-ml-24-q3wM3yKA-py3.10/lib/python3.10/site-packages/ckmutil/ckm.py:28: ComplexWarning: Casting complex values to real discards the imaginary part\n",
      "  s23 = sin(t23)\n",
      "/home/jorge/.cache/pypoetry/virtualenvs/banomalies-ml-24-q3wM3yKA-py3.10/lib/python3.10/site-packages/ckmutil/ckm.py:23: ComplexWarning: Casting complex values to real discards the imaginary part\n",
      "  c12 = cos(t12)\n",
      "/home/jorge/.cache/pypoetry/virtualenvs/banomalies-ml-24-q3wM3yKA-py3.10/lib/python3.10/site-packages/ckmutil/ckm.py:25: ComplexWarning: Casting complex values to real discards the imaginary part\n",
      "  c23 = cos(t23)\n",
      "/home/jorge/.cache/pypoetry/virtualenvs/banomalies-ml-24-q3wM3yKA-py3.10/lib/python3.10/site-packages/ckmutil/ckm.py:26: ComplexWarning: Casting complex values to real discards the imaginary part\n",
      "  s12 = sin(t12)\n",
      "/home/jorge/.cache/pypoetry/virtualenvs/banomalies-ml-24-q3wM3yKA-py3.10/lib/python3.10/site-packages/ckmutil/ckm.py:28: ComplexWarning: Casting complex values to real discards the imaginary part\n",
      "  s23 = sin(t23)\n",
      "/home/jorge/.cache/pypoetry/virtualenvs/banomalies-ml-24-q3wM3yKA-py3.10/lib/python3.10/site-packages/ckmutil/ckm.py:23: ComplexWarning: Casting complex values to real discards the imaginary part\n",
      "  c12 = cos(t12)\n",
      "/home/jorge/.cache/pypoetry/virtualenvs/banomalies-ml-24-q3wM3yKA-py3.10/lib/python3.10/site-packages/ckmutil/ckm.py:25: ComplexWarning: Casting complex values to real discards the imaginary part\n",
      "  c23 = cos(t23)\n",
      "/home/jorge/.cache/pypoetry/virtualenvs/banomalies-ml-24-q3wM3yKA-py3.10/lib/python3.10/site-packages/ckmutil/ckm.py:26: ComplexWarning: Casting complex values to real discards the imaginary part\n",
      "  s12 = sin(t12)\n",
      "/home/jorge/.cache/pypoetry/virtualenvs/banomalies-ml-24-q3wM3yKA-py3.10/lib/python3.10/site-packages/ckmutil/ckm.py:28: ComplexWarning: Casting complex values to real discards the imaginary part\n",
      "  s23 = sin(t23)\n",
      "/home/jorge/.cache/pypoetry/virtualenvs/banomalies-ml-24-q3wM3yKA-py3.10/lib/python3.10/site-packages/ckmutil/ckm.py:23: ComplexWarning: Casting complex values to real discards the imaginary part\n",
      "  c12 = cos(t12)\n",
      "/home/jorge/.cache/pypoetry/virtualenvs/banomalies-ml-24-q3wM3yKA-py3.10/lib/python3.10/site-packages/ckmutil/ckm.py:25: ComplexWarning: Casting complex values to real discards the imaginary part\n",
      "  c23 = cos(t23)\n",
      "/home/jorge/.cache/pypoetry/virtualenvs/banomalies-ml-24-q3wM3yKA-py3.10/lib/python3.10/site-packages/ckmutil/ckm.py:26: ComplexWarning: Casting complex values to real discards the imaginary part\n",
      "  s12 = sin(t12)\n",
      "/home/jorge/.cache/pypoetry/virtualenvs/banomalies-ml-24-q3wM3yKA-py3.10/lib/python3.10/site-packages/ckmutil/ckm.py:28: ComplexWarning: Casting complex values to real discards the imaginary part\n",
      "  s23 = sin(t23)\n",
      "/home/jorge/.cache/pypoetry/virtualenvs/banomalies-ml-24-q3wM3yKA-py3.10/lib/python3.10/site-packages/ckmutil/ckm.py:23: ComplexWarning: Casting complex values to real discards the imaginary part\n",
      "  c12 = cos(t12)\n",
      "/home/jorge/.cache/pypoetry/virtualenvs/banomalies-ml-24-q3wM3yKA-py3.10/lib/python3.10/site-packages/ckmutil/ckm.py:25: ComplexWarning: Casting complex values to real discards the imaginary part\n",
      "  c23 = cos(t23)\n",
      "/home/jorge/.cache/pypoetry/virtualenvs/banomalies-ml-24-q3wM3yKA-py3.10/lib/python3.10/site-packages/ckmutil/ckm.py:26: ComplexWarning: Casting complex values to real discards the imaginary part\n",
      "  s12 = sin(t12)\n",
      "/home/jorge/.cache/pypoetry/virtualenvs/banomalies-ml-24-q3wM3yKA-py3.10/lib/python3.10/site-packages/ckmutil/ckm.py:28: ComplexWarning: Casting complex values to real discards the imaginary part\n",
      "  s23 = sin(t23)\n",
      "/home/jorge/.cache/pypoetry/virtualenvs/banomalies-ml-24-q3wM3yKA-py3.10/lib/python3.10/site-packages/ckmutil/ckm.py:23: ComplexWarning: Casting complex values to real discards the imaginary part\n",
      "  c12 = cos(t12)\n",
      "/home/jorge/.cache/pypoetry/virtualenvs/banomalies-ml-24-q3wM3yKA-py3.10/lib/python3.10/site-packages/ckmutil/ckm.py:25: ComplexWarning: Casting complex values to real discards the imaginary part\n",
      "  c23 = cos(t23)\n",
      "/home/jorge/.cache/pypoetry/virtualenvs/banomalies-ml-24-q3wM3yKA-py3.10/lib/python3.10/site-packages/ckmutil/ckm.py:26: ComplexWarning: Casting complex values to real discards the imaginary part\n",
      "  s12 = sin(t12)\n",
      "/home/jorge/.cache/pypoetry/virtualenvs/banomalies-ml-24-q3wM3yKA-py3.10/lib/python3.10/site-packages/ckmutil/ckm.py:28: ComplexWarning: Casting complex values to real discards the imaginary part\n",
      "  s23 = sin(t23)\n",
      "/home/jorge/.cache/pypoetry/virtualenvs/banomalies-ml-24-q3wM3yKA-py3.10/lib/python3.10/site-packages/ckmutil/ckm.py:23: ComplexWarning: Casting complex values to real discards the imaginary part\n",
      "  c12 = cos(t12)\n",
      "/home/jorge/.cache/pypoetry/virtualenvs/banomalies-ml-24-q3wM3yKA-py3.10/lib/python3.10/site-packages/ckmutil/ckm.py:25: ComplexWarning: Casting complex values to real discards the imaginary part\n",
      "  c23 = cos(t23)\n",
      "/home/jorge/.cache/pypoetry/virtualenvs/banomalies-ml-24-q3wM3yKA-py3.10/lib/python3.10/site-packages/ckmutil/ckm.py:26: ComplexWarning: Casting complex values to real discards the imaginary part\n",
      "  s12 = sin(t12)\n",
      "/home/jorge/.cache/pypoetry/virtualenvs/banomalies-ml-24-q3wM3yKA-py3.10/lib/python3.10/site-packages/ckmutil/ckm.py:28: ComplexWarning: Casting complex values to real discards the imaginary part\n",
      "  s23 = sin(t23)\n",
      "/home/jorge/.cache/pypoetry/virtualenvs/banomalies-ml-24-q3wM3yKA-py3.10/lib/python3.10/site-packages/ckmutil/ckm.py:23: ComplexWarning: Casting complex values to real discards the imaginary part\n",
      "  c12 = cos(t12)\n",
      "/home/jorge/.cache/pypoetry/virtualenvs/banomalies-ml-24-q3wM3yKA-py3.10/lib/python3.10/site-packages/ckmutil/ckm.py:25: ComplexWarning: Casting complex values to real discards the imaginary part\n",
      "  c23 = cos(t23)\n",
      "/home/jorge/.cache/pypoetry/virtualenvs/banomalies-ml-24-q3wM3yKA-py3.10/lib/python3.10/site-packages/ckmutil/ckm.py:26: ComplexWarning: Casting complex values to real discards the imaginary part\n",
      "  s12 = sin(t12)\n",
      "/home/jorge/.cache/pypoetry/virtualenvs/banomalies-ml-24-q3wM3yKA-py3.10/lib/python3.10/site-packages/ckmutil/ckm.py:28: ComplexWarning: Casting complex values to real discards the imaginary part\n",
      "  s23 = sin(t23)\n",
      "/home/jorge/.cache/pypoetry/virtualenvs/banomalies-ml-24-q3wM3yKA-py3.10/lib/python3.10/site-packages/ckmutil/ckm.py:23: ComplexWarning: Casting complex values to real discards the imaginary part\n",
      "  c12 = cos(t12)\n",
      "/home/jorge/.cache/pypoetry/virtualenvs/banomalies-ml-24-q3wM3yKA-py3.10/lib/python3.10/site-packages/ckmutil/ckm.py:25: ComplexWarning: Casting complex values to real discards the imaginary part\n",
      "  c23 = cos(t23)\n",
      "/home/jorge/.cache/pypoetry/virtualenvs/banomalies-ml-24-q3wM3yKA-py3.10/lib/python3.10/site-packages/ckmutil/ckm.py:26: ComplexWarning: Casting complex values to real discards the imaginary part\n",
      "  s12 = sin(t12)\n",
      "/home/jorge/.cache/pypoetry/virtualenvs/banomalies-ml-24-q3wM3yKA-py3.10/lib/python3.10/site-packages/ckmutil/ckm.py:28: ComplexWarning: Casting complex values to real discards the imaginary part\n",
      "  s23 = sin(t23)\n",
      "/home/jorge/.cache/pypoetry/virtualenvs/banomalies-ml-24-q3wM3yKA-py3.10/lib/python3.10/site-packages/ckmutil/ckm.py:23: ComplexWarning: Casting complex values to real discards the imaginary part\n",
      "  c12 = cos(t12)\n",
      "/home/jorge/.cache/pypoetry/virtualenvs/banomalies-ml-24-q3wM3yKA-py3.10/lib/python3.10/site-packages/ckmutil/ckm.py:25: ComplexWarning: Casting complex values to real discards the imaginary part\n",
      "  c23 = cos(t23)\n",
      "/home/jorge/.cache/pypoetry/virtualenvs/banomalies-ml-24-q3wM3yKA-py3.10/lib/python3.10/site-packages/ckmutil/ckm.py:26: ComplexWarning: Casting complex values to real discards the imaginary part\n",
      "  s12 = sin(t12)\n",
      "/home/jorge/.cache/pypoetry/virtualenvs/banomalies-ml-24-q3wM3yKA-py3.10/lib/python3.10/site-packages/ckmutil/ckm.py:28: ComplexWarning: Casting complex values to real discards the imaginary part\n",
      "  s23 = sin(t23)\n",
      "/home/jorge/.cache/pypoetry/virtualenvs/banomalies-ml-24-q3wM3yKA-py3.10/lib/python3.10/site-packages/ckmutil/ckm.py:23: ComplexWarning: Casting complex values to real discards the imaginary part\n",
      "  c12 = cos(t12)\n",
      "/home/jorge/.cache/pypoetry/virtualenvs/banomalies-ml-24-q3wM3yKA-py3.10/lib/python3.10/site-packages/ckmutil/ckm.py:25: ComplexWarning: Casting complex values to real discards the imaginary part\n",
      "  c23 = cos(t23)\n",
      "/home/jorge/.cache/pypoetry/virtualenvs/banomalies-ml-24-q3wM3yKA-py3.10/lib/python3.10/site-packages/ckmutil/ckm.py:26: ComplexWarning: Casting complex values to real discards the imaginary part\n",
      "  s12 = sin(t12)\n",
      "/home/jorge/.cache/pypoetry/virtualenvs/banomalies-ml-24-q3wM3yKA-py3.10/lib/python3.10/site-packages/ckmutil/ckm.py:28: ComplexWarning: Casting complex values to real discards the imaginary part\n",
      "  s23 = sin(t23)\n",
      "/home/jorge/.cache/pypoetry/virtualenvs/banomalies-ml-24-q3wM3yKA-py3.10/lib/python3.10/site-packages/ckmutil/ckm.py:23: ComplexWarning: Casting complex values to real discards the imaginary part\n",
      "  c12 = cos(t12)\n",
      "/home/jorge/.cache/pypoetry/virtualenvs/banomalies-ml-24-q3wM3yKA-py3.10/lib/python3.10/site-packages/ckmutil/ckm.py:25: ComplexWarning: Casting complex values to real discards the imaginary part\n",
      "  c23 = cos(t23)\n",
      "/home/jorge/.cache/pypoetry/virtualenvs/banomalies-ml-24-q3wM3yKA-py3.10/lib/python3.10/site-packages/ckmutil/ckm.py:26: ComplexWarning: Casting complex values to real discards the imaginary part\n",
      "  s12 = sin(t12)\n",
      "/home/jorge/.cache/pypoetry/virtualenvs/banomalies-ml-24-q3wM3yKA-py3.10/lib/python3.10/site-packages/ckmutil/ckm.py:28: ComplexWarning: Casting complex values to real discards the imaginary part\n",
      "  s23 = sin(t23)\n",
      "/home/jorge/.cache/pypoetry/virtualenvs/banomalies-ml-24-q3wM3yKA-py3.10/lib/python3.10/site-packages/ckmutil/ckm.py:23: ComplexWarning: Casting complex values to real discards the imaginary part\n",
      "  c12 = cos(t12)\n",
      "/home/jorge/.cache/pypoetry/virtualenvs/banomalies-ml-24-q3wM3yKA-py3.10/lib/python3.10/site-packages/ckmutil/ckm.py:25: ComplexWarning: Casting complex values to real discards the imaginary part\n",
      "  c23 = cos(t23)\n",
      "/home/jorge/.cache/pypoetry/virtualenvs/banomalies-ml-24-q3wM3yKA-py3.10/lib/python3.10/site-packages/ckmutil/ckm.py:26: ComplexWarning: Casting complex values to real discards the imaginary part\n",
      "  s12 = sin(t12)\n",
      "/home/jorge/.cache/pypoetry/virtualenvs/banomalies-ml-24-q3wM3yKA-py3.10/lib/python3.10/site-packages/ckmutil/ckm.py:28: ComplexWarning: Casting complex values to real discards the imaginary part\n",
      "  s23 = sin(t23)\n",
      "/home/jorge/.cache/pypoetry/virtualenvs/banomalies-ml-24-q3wM3yKA-py3.10/lib/python3.10/site-packages/ckmutil/ckm.py:23: ComplexWarning: Casting complex values to real discards the imaginary part\n",
      "  c12 = cos(t12)\n",
      "/home/jorge/.cache/pypoetry/virtualenvs/banomalies-ml-24-q3wM3yKA-py3.10/lib/python3.10/site-packages/ckmutil/ckm.py:25: ComplexWarning: Casting complex values to real discards the imaginary part\n",
      "  c23 = cos(t23)\n",
      "/home/jorge/.cache/pypoetry/virtualenvs/banomalies-ml-24-q3wM3yKA-py3.10/lib/python3.10/site-packages/ckmutil/ckm.py:26: ComplexWarning: Casting complex values to real discards the imaginary part\n",
      "  s12 = sin(t12)\n",
      "/home/jorge/.cache/pypoetry/virtualenvs/banomalies-ml-24-q3wM3yKA-py3.10/lib/python3.10/site-packages/ckmutil/ckm.py:28: ComplexWarning: Casting complex values to real discards the imaginary part\n",
      "  s23 = sin(t23)\n",
      "/home/jorge/.cache/pypoetry/virtualenvs/banomalies-ml-24-q3wM3yKA-py3.10/lib/python3.10/site-packages/ckmutil/ckm.py:23: ComplexWarning: Casting complex values to real discards the imaginary part\n",
      "  c12 = cos(t12)\n",
      "/home/jorge/.cache/pypoetry/virtualenvs/banomalies-ml-24-q3wM3yKA-py3.10/lib/python3.10/site-packages/ckmutil/ckm.py:25: ComplexWarning: Casting complex values to real discards the imaginary part\n",
      "  c23 = cos(t23)\n",
      "/home/jorge/.cache/pypoetry/virtualenvs/banomalies-ml-24-q3wM3yKA-py3.10/lib/python3.10/site-packages/ckmutil/ckm.py:26: ComplexWarning: Casting complex values to real discards the imaginary part\n",
      "  s12 = sin(t12)\n",
      "/home/jorge/.cache/pypoetry/virtualenvs/banomalies-ml-24-q3wM3yKA-py3.10/lib/python3.10/site-packages/ckmutil/ckm.py:28: ComplexWarning: Casting complex values to real discards the imaginary part\n",
      "  s23 = sin(t23)\n",
      "/home/jorge/.cache/pypoetry/virtualenvs/banomalies-ml-24-q3wM3yKA-py3.10/lib/python3.10/site-packages/ckmutil/ckm.py:23: ComplexWarning: Casting complex values to real discards the imaginary part\n",
      "  c12 = cos(t12)\n",
      "/home/jorge/.cache/pypoetry/virtualenvs/banomalies-ml-24-q3wM3yKA-py3.10/lib/python3.10/site-packages/ckmutil/ckm.py:25: ComplexWarning: Casting complex values to real discards the imaginary part\n",
      "  c23 = cos(t23)\n",
      "/home/jorge/.cache/pypoetry/virtualenvs/banomalies-ml-24-q3wM3yKA-py3.10/lib/python3.10/site-packages/ckmutil/ckm.py:26: ComplexWarning: Casting complex values to real discards the imaginary part\n",
      "  s12 = sin(t12)\n",
      "/home/jorge/.cache/pypoetry/virtualenvs/banomalies-ml-24-q3wM3yKA-py3.10/lib/python3.10/site-packages/ckmutil/ckm.py:28: ComplexWarning: Casting complex values to real discards the imaginary part\n",
      "  s23 = sin(t23)\n",
      "/home/jorge/.cache/pypoetry/virtualenvs/banomalies-ml-24-q3wM3yKA-py3.10/lib/python3.10/site-packages/ckmutil/ckm.py:23: ComplexWarning: Casting complex values to real discards the imaginary part\n",
      "  c12 = cos(t12)\n",
      "/home/jorge/.cache/pypoetry/virtualenvs/banomalies-ml-24-q3wM3yKA-py3.10/lib/python3.10/site-packages/ckmutil/ckm.py:25: ComplexWarning: Casting complex values to real discards the imaginary part\n",
      "  c23 = cos(t23)\n",
      "/home/jorge/.cache/pypoetry/virtualenvs/banomalies-ml-24-q3wM3yKA-py3.10/lib/python3.10/site-packages/ckmutil/ckm.py:26: ComplexWarning: Casting complex values to real discards the imaginary part\n",
      "  s12 = sin(t12)\n",
      "/home/jorge/.cache/pypoetry/virtualenvs/banomalies-ml-24-q3wM3yKA-py3.10/lib/python3.10/site-packages/ckmutil/ckm.py:28: ComplexWarning: Casting complex values to real discards the imaginary part\n",
      "  s23 = sin(t23)\n",
      "/home/jorge/.cache/pypoetry/virtualenvs/banomalies-ml-24-q3wM3yKA-py3.10/lib/python3.10/site-packages/ckmutil/ckm.py:23: ComplexWarning: Casting complex values to real discards the imaginary part\n",
      "  c12 = cos(t12)\n",
      "/home/jorge/.cache/pypoetry/virtualenvs/banomalies-ml-24-q3wM3yKA-py3.10/lib/python3.10/site-packages/ckmutil/ckm.py:25: ComplexWarning: Casting complex values to real discards the imaginary part\n",
      "  c23 = cos(t23)\n",
      "/home/jorge/.cache/pypoetry/virtualenvs/banomalies-ml-24-q3wM3yKA-py3.10/lib/python3.10/site-packages/ckmutil/ckm.py:26: ComplexWarning: Casting complex values to real discards the imaginary part\n",
      "  s12 = sin(t12)\n",
      "/home/jorge/.cache/pypoetry/virtualenvs/banomalies-ml-24-q3wM3yKA-py3.10/lib/python3.10/site-packages/ckmutil/ckm.py:28: ComplexWarning: Casting complex values to real discards the imaginary part\n",
      "  s23 = sin(t23)\n",
      "/home/jorge/.cache/pypoetry/virtualenvs/banomalies-ml-24-q3wM3yKA-py3.10/lib/python3.10/site-packages/ckmutil/ckm.py:23: ComplexWarning: Casting complex values to real discards the imaginary part\n",
      "  c12 = cos(t12)\n",
      "/home/jorge/.cache/pypoetry/virtualenvs/banomalies-ml-24-q3wM3yKA-py3.10/lib/python3.10/site-packages/ckmutil/ckm.py:25: ComplexWarning: Casting complex values to real discards the imaginary part\n",
      "  c23 = cos(t23)\n",
      "/home/jorge/.cache/pypoetry/virtualenvs/banomalies-ml-24-q3wM3yKA-py3.10/lib/python3.10/site-packages/ckmutil/ckm.py:26: ComplexWarning: Casting complex values to real discards the imaginary part\n",
      "  s12 = sin(t12)\n",
      "/home/jorge/.cache/pypoetry/virtualenvs/banomalies-ml-24-q3wM3yKA-py3.10/lib/python3.10/site-packages/ckmutil/ckm.py:28: ComplexWarning: Casting complex values to real discards the imaginary part\n",
      "  s23 = sin(t23)\n",
      "/home/jorge/.cache/pypoetry/virtualenvs/banomalies-ml-24-q3wM3yKA-py3.10/lib/python3.10/site-packages/ckmutil/ckm.py:23: ComplexWarning: Casting complex values to real discards the imaginary part\n",
      "  c12 = cos(t12)\n",
      "/home/jorge/.cache/pypoetry/virtualenvs/banomalies-ml-24-q3wM3yKA-py3.10/lib/python3.10/site-packages/ckmutil/ckm.py:25: ComplexWarning: Casting complex values to real discards the imaginary part\n",
      "  c23 = cos(t23)\n",
      "/home/jorge/.cache/pypoetry/virtualenvs/banomalies-ml-24-q3wM3yKA-py3.10/lib/python3.10/site-packages/ckmutil/ckm.py:26: ComplexWarning: Casting complex values to real discards the imaginary part\n",
      "  s12 = sin(t12)\n",
      "/home/jorge/.cache/pypoetry/virtualenvs/banomalies-ml-24-q3wM3yKA-py3.10/lib/python3.10/site-packages/ckmutil/ckm.py:28: ComplexWarning: Casting complex values to real discards the imaginary part\n",
      "  s23 = sin(t23)\n",
      "/home/jorge/.cache/pypoetry/virtualenvs/banomalies-ml-24-q3wM3yKA-py3.10/lib/python3.10/site-packages/ckmutil/ckm.py:23: ComplexWarning: Casting complex values to real discards the imaginary part\n",
      "  c12 = cos(t12)\n",
      "/home/jorge/.cache/pypoetry/virtualenvs/banomalies-ml-24-q3wM3yKA-py3.10/lib/python3.10/site-packages/ckmutil/ckm.py:25: ComplexWarning: Casting complex values to real discards the imaginary part\n",
      "  c23 = cos(t23)\n",
      "/home/jorge/.cache/pypoetry/virtualenvs/banomalies-ml-24-q3wM3yKA-py3.10/lib/python3.10/site-packages/ckmutil/ckm.py:26: ComplexWarning: Casting complex values to real discards the imaginary part\n",
      "  s12 = sin(t12)\n",
      "/home/jorge/.cache/pypoetry/virtualenvs/banomalies-ml-24-q3wM3yKA-py3.10/lib/python3.10/site-packages/ckmutil/ckm.py:28: ComplexWarning: Casting complex values to real discards the imaginary part\n",
      "  s23 = sin(t23)\n",
      "/home/jorge/.cache/pypoetry/virtualenvs/banomalies-ml-24-q3wM3yKA-py3.10/lib/python3.10/site-packages/ckmutil/ckm.py:23: ComplexWarning: Casting complex values to real discards the imaginary part\n",
      "  c12 = cos(t12)\n",
      "/home/jorge/.cache/pypoetry/virtualenvs/banomalies-ml-24-q3wM3yKA-py3.10/lib/python3.10/site-packages/ckmutil/ckm.py:25: ComplexWarning: Casting complex values to real discards the imaginary part\n",
      "  c23 = cos(t23)\n",
      "/home/jorge/.cache/pypoetry/virtualenvs/banomalies-ml-24-q3wM3yKA-py3.10/lib/python3.10/site-packages/ckmutil/ckm.py:26: ComplexWarning: Casting complex values to real discards the imaginary part\n",
      "  s12 = sin(t12)\n",
      "/home/jorge/.cache/pypoetry/virtualenvs/banomalies-ml-24-q3wM3yKA-py3.10/lib/python3.10/site-packages/ckmutil/ckm.py:28: ComplexWarning: Casting complex values to real discards the imaginary part\n",
      "  s23 = sin(t23)\n",
      "/home/jorge/.cache/pypoetry/virtualenvs/banomalies-ml-24-q3wM3yKA-py3.10/lib/python3.10/site-packages/ckmutil/ckm.py:23: ComplexWarning: Casting complex values to real discards the imaginary part\n",
      "  c12 = cos(t12)\n",
      "/home/jorge/.cache/pypoetry/virtualenvs/banomalies-ml-24-q3wM3yKA-py3.10/lib/python3.10/site-packages/ckmutil/ckm.py:25: ComplexWarning: Casting complex values to real discards the imaginary part\n",
      "  c23 = cos(t23)\n",
      "/home/jorge/.cache/pypoetry/virtualenvs/banomalies-ml-24-q3wM3yKA-py3.10/lib/python3.10/site-packages/ckmutil/ckm.py:26: ComplexWarning: Casting complex values to real discards the imaginary part\n",
      "  s12 = sin(t12)\n",
      "/home/jorge/.cache/pypoetry/virtualenvs/banomalies-ml-24-q3wM3yKA-py3.10/lib/python3.10/site-packages/ckmutil/ckm.py:28: ComplexWarning: Casting complex values to real discards the imaginary part\n",
      "  s23 = sin(t23)\n",
      "/home/jorge/.cache/pypoetry/virtualenvs/banomalies-ml-24-q3wM3yKA-py3.10/lib/python3.10/site-packages/ckmutil/ckm.py:23: ComplexWarning: Casting complex values to real discards the imaginary part\n",
      "  c12 = cos(t12)\n",
      "/home/jorge/.cache/pypoetry/virtualenvs/banomalies-ml-24-q3wM3yKA-py3.10/lib/python3.10/site-packages/ckmutil/ckm.py:25: ComplexWarning: Casting complex values to real discards the imaginary part\n",
      "  c23 = cos(t23)\n",
      "/home/jorge/.cache/pypoetry/virtualenvs/banomalies-ml-24-q3wM3yKA-py3.10/lib/python3.10/site-packages/ckmutil/ckm.py:26: ComplexWarning: Casting complex values to real discards the imaginary part\n",
      "  s12 = sin(t12)\n",
      "/home/jorge/.cache/pypoetry/virtualenvs/banomalies-ml-24-q3wM3yKA-py3.10/lib/python3.10/site-packages/ckmutil/ckm.py:28: ComplexWarning: Casting complex values to real discards the imaginary part\n",
      "  s23 = sin(t23)\n",
      "/home/jorge/.cache/pypoetry/virtualenvs/banomalies-ml-24-q3wM3yKA-py3.10/lib/python3.10/site-packages/ckmutil/ckm.py:23: ComplexWarning: Casting complex values to real discards the imaginary part\n",
      "  c12 = cos(t12)\n",
      "/home/jorge/.cache/pypoetry/virtualenvs/banomalies-ml-24-q3wM3yKA-py3.10/lib/python3.10/site-packages/ckmutil/ckm.py:25: ComplexWarning: Casting complex values to real discards the imaginary part\n",
      "  c23 = cos(t23)\n",
      "/home/jorge/.cache/pypoetry/virtualenvs/banomalies-ml-24-q3wM3yKA-py3.10/lib/python3.10/site-packages/ckmutil/ckm.py:26: ComplexWarning: Casting complex values to real discards the imaginary part\n",
      "  s12 = sin(t12)\n",
      "/home/jorge/.cache/pypoetry/virtualenvs/banomalies-ml-24-q3wM3yKA-py3.10/lib/python3.10/site-packages/ckmutil/ckm.py:28: ComplexWarning: Casting complex values to real discards the imaginary part\n",
      "  s23 = sin(t23)\n",
      "/home/jorge/.cache/pypoetry/virtualenvs/banomalies-ml-24-q3wM3yKA-py3.10/lib/python3.10/site-packages/ckmutil/ckm.py:23: ComplexWarning: Casting complex values to real discards the imaginary part\n",
      "  c12 = cos(t12)\n",
      "/home/jorge/.cache/pypoetry/virtualenvs/banomalies-ml-24-q3wM3yKA-py3.10/lib/python3.10/site-packages/ckmutil/ckm.py:25: ComplexWarning: Casting complex values to real discards the imaginary part\n",
      "  c23 = cos(t23)\n",
      "/home/jorge/.cache/pypoetry/virtualenvs/banomalies-ml-24-q3wM3yKA-py3.10/lib/python3.10/site-packages/ckmutil/ckm.py:26: ComplexWarning: Casting complex values to real discards the imaginary part\n",
      "  s12 = sin(t12)\n",
      "/home/jorge/.cache/pypoetry/virtualenvs/banomalies-ml-24-q3wM3yKA-py3.10/lib/python3.10/site-packages/ckmutil/ckm.py:28: ComplexWarning: Casting complex values to real discards the imaginary part\n",
      "  s23 = sin(t23)\n",
      "/home/jorge/.cache/pypoetry/virtualenvs/banomalies-ml-24-q3wM3yKA-py3.10/lib/python3.10/site-packages/ckmutil/ckm.py:23: ComplexWarning: Casting complex values to real discards the imaginary part\n",
      "  c12 = cos(t12)\n",
      "/home/jorge/.cache/pypoetry/virtualenvs/banomalies-ml-24-q3wM3yKA-py3.10/lib/python3.10/site-packages/ckmutil/ckm.py:25: ComplexWarning: Casting complex values to real discards the imaginary part\n",
      "  c23 = cos(t23)\n",
      "/home/jorge/.cache/pypoetry/virtualenvs/banomalies-ml-24-q3wM3yKA-py3.10/lib/python3.10/site-packages/ckmutil/ckm.py:26: ComplexWarning: Casting complex values to real discards the imaginary part\n",
      "  s12 = sin(t12)\n",
      "/home/jorge/.cache/pypoetry/virtualenvs/banomalies-ml-24-q3wM3yKA-py3.10/lib/python3.10/site-packages/ckmutil/ckm.py:28: ComplexWarning: Casting complex values to real discards the imaginary part\n",
      "  s23 = sin(t23)\n",
      "/home/jorge/.cache/pypoetry/virtualenvs/banomalies-ml-24-q3wM3yKA-py3.10/lib/python3.10/site-packages/ckmutil/ckm.py:23: ComplexWarning: Casting complex values to real discards the imaginary part\n",
      "  c12 = cos(t12)\n",
      "/home/jorge/.cache/pypoetry/virtualenvs/banomalies-ml-24-q3wM3yKA-py3.10/lib/python3.10/site-packages/ckmutil/ckm.py:25: ComplexWarning: Casting complex values to real discards the imaginary part\n",
      "  c23 = cos(t23)\n",
      "/home/jorge/.cache/pypoetry/virtualenvs/banomalies-ml-24-q3wM3yKA-py3.10/lib/python3.10/site-packages/ckmutil/ckm.py:26: ComplexWarning: Casting complex values to real discards the imaginary part\n",
      "  s12 = sin(t12)\n",
      "/home/jorge/.cache/pypoetry/virtualenvs/banomalies-ml-24-q3wM3yKA-py3.10/lib/python3.10/site-packages/ckmutil/ckm.py:28: ComplexWarning: Casting complex values to real discards the imaginary part\n",
      "  s23 = sin(t23)\n",
      "/home/jorge/.cache/pypoetry/virtualenvs/banomalies-ml-24-q3wM3yKA-py3.10/lib/python3.10/site-packages/ckmutil/ckm.py:23: ComplexWarning: Casting complex values to real discards the imaginary part\n",
      "  c12 = cos(t12)\n",
      "/home/jorge/.cache/pypoetry/virtualenvs/banomalies-ml-24-q3wM3yKA-py3.10/lib/python3.10/site-packages/ckmutil/ckm.py:25: ComplexWarning: Casting complex values to real discards the imaginary part\n",
      "  c23 = cos(t23)\n",
      "/home/jorge/.cache/pypoetry/virtualenvs/banomalies-ml-24-q3wM3yKA-py3.10/lib/python3.10/site-packages/ckmutil/ckm.py:26: ComplexWarning: Casting complex values to real discards the imaginary part\n",
      "  s12 = sin(t12)\n",
      "/home/jorge/.cache/pypoetry/virtualenvs/banomalies-ml-24-q3wM3yKA-py3.10/lib/python3.10/site-packages/ckmutil/ckm.py:28: ComplexWarning: Casting complex values to real discards the imaginary part\n",
      "  s23 = sin(t23)\n",
      "/home/jorge/.cache/pypoetry/virtualenvs/banomalies-ml-24-q3wM3yKA-py3.10/lib/python3.10/site-packages/ckmutil/ckm.py:23: ComplexWarning: Casting complex values to real discards the imaginary part\n",
      "  c12 = cos(t12)\n",
      "/home/jorge/.cache/pypoetry/virtualenvs/banomalies-ml-24-q3wM3yKA-py3.10/lib/python3.10/site-packages/ckmutil/ckm.py:25: ComplexWarning: Casting complex values to real discards the imaginary part\n",
      "  c23 = cos(t23)\n",
      "/home/jorge/.cache/pypoetry/virtualenvs/banomalies-ml-24-q3wM3yKA-py3.10/lib/python3.10/site-packages/ckmutil/ckm.py:26: ComplexWarning: Casting complex values to real discards the imaginary part\n",
      "  s12 = sin(t12)\n",
      "/home/jorge/.cache/pypoetry/virtualenvs/banomalies-ml-24-q3wM3yKA-py3.10/lib/python3.10/site-packages/ckmutil/ckm.py:28: ComplexWarning: Casting complex values to real discards the imaginary part\n",
      "  s23 = sin(t23)\n",
      "/home/jorge/.cache/pypoetry/virtualenvs/banomalies-ml-24-q3wM3yKA-py3.10/lib/python3.10/site-packages/ckmutil/ckm.py:23: ComplexWarning: Casting complex values to real discards the imaginary part\n",
      "  c12 = cos(t12)\n",
      "/home/jorge/.cache/pypoetry/virtualenvs/banomalies-ml-24-q3wM3yKA-py3.10/lib/python3.10/site-packages/ckmutil/ckm.py:25: ComplexWarning: Casting complex values to real discards the imaginary part\n",
      "  c23 = cos(t23)\n",
      "/home/jorge/.cache/pypoetry/virtualenvs/banomalies-ml-24-q3wM3yKA-py3.10/lib/python3.10/site-packages/ckmutil/ckm.py:26: ComplexWarning: Casting complex values to real discards the imaginary part\n",
      "  s12 = sin(t12)\n",
      "/home/jorge/.cache/pypoetry/virtualenvs/banomalies-ml-24-q3wM3yKA-py3.10/lib/python3.10/site-packages/ckmutil/ckm.py:28: ComplexWarning: Casting complex values to real discards the imaginary part\n",
      "  s23 = sin(t23)\n",
      "/home/jorge/.cache/pypoetry/virtualenvs/banomalies-ml-24-q3wM3yKA-py3.10/lib/python3.10/site-packages/ckmutil/ckm.py:23: ComplexWarning: Casting complex values to real discards the imaginary part\n",
      "  c12 = cos(t12)\n",
      "/home/jorge/.cache/pypoetry/virtualenvs/banomalies-ml-24-q3wM3yKA-py3.10/lib/python3.10/site-packages/ckmutil/ckm.py:25: ComplexWarning: Casting complex values to real discards the imaginary part\n",
      "  c23 = cos(t23)\n",
      "/home/jorge/.cache/pypoetry/virtualenvs/banomalies-ml-24-q3wM3yKA-py3.10/lib/python3.10/site-packages/ckmutil/ckm.py:26: ComplexWarning: Casting complex values to real discards the imaginary part\n",
      "  s12 = sin(t12)\n",
      "/home/jorge/.cache/pypoetry/virtualenvs/banomalies-ml-24-q3wM3yKA-py3.10/lib/python3.10/site-packages/ckmutil/ckm.py:28: ComplexWarning: Casting complex values to real discards the imaginary part\n",
      "  s23 = sin(t23)\n",
      "/home/jorge/.cache/pypoetry/virtualenvs/banomalies-ml-24-q3wM3yKA-py3.10/lib/python3.10/site-packages/ckmutil/ckm.py:23: ComplexWarning: Casting complex values to real discards the imaginary part\n",
      "  c12 = cos(t12)\n",
      "/home/jorge/.cache/pypoetry/virtualenvs/banomalies-ml-24-q3wM3yKA-py3.10/lib/python3.10/site-packages/ckmutil/ckm.py:25: ComplexWarning: Casting complex values to real discards the imaginary part\n",
      "  c23 = cos(t23)\n",
      "/home/jorge/.cache/pypoetry/virtualenvs/banomalies-ml-24-q3wM3yKA-py3.10/lib/python3.10/site-packages/ckmutil/ckm.py:26: ComplexWarning: Casting complex values to real discards the imaginary part\n",
      "  s12 = sin(t12)\n",
      "/home/jorge/.cache/pypoetry/virtualenvs/banomalies-ml-24-q3wM3yKA-py3.10/lib/python3.10/site-packages/ckmutil/ckm.py:28: ComplexWarning: Casting complex values to real discards the imaginary part\n",
      "  s23 = sin(t23)\n",
      "/home/jorge/.cache/pypoetry/virtualenvs/banomalies-ml-24-q3wM3yKA-py3.10/lib/python3.10/site-packages/ckmutil/ckm.py:23: ComplexWarning: Casting complex values to real discards the imaginary part\n",
      "  c12 = cos(t12)\n",
      "/home/jorge/.cache/pypoetry/virtualenvs/banomalies-ml-24-q3wM3yKA-py3.10/lib/python3.10/site-packages/ckmutil/ckm.py:25: ComplexWarning: Casting complex values to real discards the imaginary part\n",
      "  c23 = cos(t23)\n",
      "/home/jorge/.cache/pypoetry/virtualenvs/banomalies-ml-24-q3wM3yKA-py3.10/lib/python3.10/site-packages/ckmutil/ckm.py:26: ComplexWarning: Casting complex values to real discards the imaginary part\n",
      "  s12 = sin(t12)\n",
      "/home/jorge/.cache/pypoetry/virtualenvs/banomalies-ml-24-q3wM3yKA-py3.10/lib/python3.10/site-packages/ckmutil/ckm.py:28: ComplexWarning: Casting complex values to real discards the imaginary part\n",
      "  s23 = sin(t23)\n",
      "/home/jorge/.cache/pypoetry/virtualenvs/banomalies-ml-24-q3wM3yKA-py3.10/lib/python3.10/site-packages/ckmutil/ckm.py:23: ComplexWarning: Casting complex values to real discards the imaginary part\n",
      "  c12 = cos(t12)\n",
      "/home/jorge/.cache/pypoetry/virtualenvs/banomalies-ml-24-q3wM3yKA-py3.10/lib/python3.10/site-packages/ckmutil/ckm.py:25: ComplexWarning: Casting complex values to real discards the imaginary part\n",
      "  c23 = cos(t23)\n",
      "/home/jorge/.cache/pypoetry/virtualenvs/banomalies-ml-24-q3wM3yKA-py3.10/lib/python3.10/site-packages/ckmutil/ckm.py:26: ComplexWarning: Casting complex values to real discards the imaginary part\n",
      "  s12 = sin(t12)\n",
      "/home/jorge/.cache/pypoetry/virtualenvs/banomalies-ml-24-q3wM3yKA-py3.10/lib/python3.10/site-packages/ckmutil/ckm.py:28: ComplexWarning: Casting complex values to real discards the imaginary part\n",
      "  s23 = sin(t23)\n",
      "/home/jorge/.cache/pypoetry/virtualenvs/banomalies-ml-24-q3wM3yKA-py3.10/lib/python3.10/site-packages/ckmutil/ckm.py:23: ComplexWarning: Casting complex values to real discards the imaginary part\n",
      "  c12 = cos(t12)\n",
      "/home/jorge/.cache/pypoetry/virtualenvs/banomalies-ml-24-q3wM3yKA-py3.10/lib/python3.10/site-packages/ckmutil/ckm.py:25: ComplexWarning: Casting complex values to real discards the imaginary part\n",
      "  c23 = cos(t23)\n",
      "/home/jorge/.cache/pypoetry/virtualenvs/banomalies-ml-24-q3wM3yKA-py3.10/lib/python3.10/site-packages/ckmutil/ckm.py:26: ComplexWarning: Casting complex values to real discards the imaginary part\n",
      "  s12 = sin(t12)\n",
      "/home/jorge/.cache/pypoetry/virtualenvs/banomalies-ml-24-q3wM3yKA-py3.10/lib/python3.10/site-packages/ckmutil/ckm.py:28: ComplexWarning: Casting complex values to real discards the imaginary part\n",
      "  s23 = sin(t23)\n",
      "/home/jorge/.cache/pypoetry/virtualenvs/banomalies-ml-24-q3wM3yKA-py3.10/lib/python3.10/site-packages/ckmutil/ckm.py:23: ComplexWarning: Casting complex values to real discards the imaginary part\n",
      "  c12 = cos(t12)\n",
      "/home/jorge/.cache/pypoetry/virtualenvs/banomalies-ml-24-q3wM3yKA-py3.10/lib/python3.10/site-packages/ckmutil/ckm.py:25: ComplexWarning: Casting complex values to real discards the imaginary part\n",
      "  c23 = cos(t23)\n",
      "/home/jorge/.cache/pypoetry/virtualenvs/banomalies-ml-24-q3wM3yKA-py3.10/lib/python3.10/site-packages/ckmutil/ckm.py:26: ComplexWarning: Casting complex values to real discards the imaginary part\n",
      "  s12 = sin(t12)\n",
      "/home/jorge/.cache/pypoetry/virtualenvs/banomalies-ml-24-q3wM3yKA-py3.10/lib/python3.10/site-packages/ckmutil/ckm.py:28: ComplexWarning: Casting complex values to real discards the imaginary part\n",
      "  s23 = sin(t23)\n",
      "/home/jorge/.cache/pypoetry/virtualenvs/banomalies-ml-24-q3wM3yKA-py3.10/lib/python3.10/site-packages/ckmutil/ckm.py:23: ComplexWarning: Casting complex values to real discards the imaginary part\n",
      "  c12 = cos(t12)\n",
      "/home/jorge/.cache/pypoetry/virtualenvs/banomalies-ml-24-q3wM3yKA-py3.10/lib/python3.10/site-packages/ckmutil/ckm.py:25: ComplexWarning: Casting complex values to real discards the imaginary part\n",
      "  c23 = cos(t23)\n",
      "/home/jorge/.cache/pypoetry/virtualenvs/banomalies-ml-24-q3wM3yKA-py3.10/lib/python3.10/site-packages/ckmutil/ckm.py:26: ComplexWarning: Casting complex values to real discards the imaginary part\n",
      "  s12 = sin(t12)\n",
      "/home/jorge/.cache/pypoetry/virtualenvs/banomalies-ml-24-q3wM3yKA-py3.10/lib/python3.10/site-packages/ckmutil/ckm.py:28: ComplexWarning: Casting complex values to real discards the imaginary part\n",
      "  s23 = sin(t23)\n",
      "/home/jorge/.cache/pypoetry/virtualenvs/banomalies-ml-24-q3wM3yKA-py3.10/lib/python3.10/site-packages/ckmutil/ckm.py:23: ComplexWarning: Casting complex values to real discards the imaginary part\n",
      "  c12 = cos(t12)\n",
      "/home/jorge/.cache/pypoetry/virtualenvs/banomalies-ml-24-q3wM3yKA-py3.10/lib/python3.10/site-packages/ckmutil/ckm.py:25: ComplexWarning: Casting complex values to real discards the imaginary part\n",
      "  c23 = cos(t23)\n",
      "/home/jorge/.cache/pypoetry/virtualenvs/banomalies-ml-24-q3wM3yKA-py3.10/lib/python3.10/site-packages/ckmutil/ckm.py:26: ComplexWarning: Casting complex values to real discards the imaginary part\n",
      "  s12 = sin(t12)\n",
      "/home/jorge/.cache/pypoetry/virtualenvs/banomalies-ml-24-q3wM3yKA-py3.10/lib/python3.10/site-packages/ckmutil/ckm.py:28: ComplexWarning: Casting complex values to real discards the imaginary part\n",
      "  s23 = sin(t23)\n",
      "/home/jorge/.cache/pypoetry/virtualenvs/banomalies-ml-24-q3wM3yKA-py3.10/lib/python3.10/site-packages/ckmutil/ckm.py:23: ComplexWarning: Casting complex values to real discards the imaginary part\n",
      "  c12 = cos(t12)\n",
      "/home/jorge/.cache/pypoetry/virtualenvs/banomalies-ml-24-q3wM3yKA-py3.10/lib/python3.10/site-packages/ckmutil/ckm.py:25: ComplexWarning: Casting complex values to real discards the imaginary part\n",
      "  c23 = cos(t23)\n",
      "/home/jorge/.cache/pypoetry/virtualenvs/banomalies-ml-24-q3wM3yKA-py3.10/lib/python3.10/site-packages/ckmutil/ckm.py:26: ComplexWarning: Casting complex values to real discards the imaginary part\n",
      "  s12 = sin(t12)\n",
      "/home/jorge/.cache/pypoetry/virtualenvs/banomalies-ml-24-q3wM3yKA-py3.10/lib/python3.10/site-packages/ckmutil/ckm.py:28: ComplexWarning: Casting complex values to real discards the imaginary part\n",
      "  s23 = sin(t23)\n",
      "/home/jorge/.cache/pypoetry/virtualenvs/banomalies-ml-24-q3wM3yKA-py3.10/lib/python3.10/site-packages/ckmutil/ckm.py:23: ComplexWarning: Casting complex values to real discards the imaginary part\n",
      "  c12 = cos(t12)\n",
      "/home/jorge/.cache/pypoetry/virtualenvs/banomalies-ml-24-q3wM3yKA-py3.10/lib/python3.10/site-packages/ckmutil/ckm.py:25: ComplexWarning: Casting complex values to real discards the imaginary part\n",
      "  c23 = cos(t23)\n",
      "/home/jorge/.cache/pypoetry/virtualenvs/banomalies-ml-24-q3wM3yKA-py3.10/lib/python3.10/site-packages/ckmutil/ckm.py:26: ComplexWarning: Casting complex values to real discards the imaginary part\n",
      "  s12 = sin(t12)\n",
      "/home/jorge/.cache/pypoetry/virtualenvs/banomalies-ml-24-q3wM3yKA-py3.10/lib/python3.10/site-packages/ckmutil/ckm.py:28: ComplexWarning: Casting complex values to real discards the imaginary part\n",
      "  s23 = sin(t23)\n",
      "/home/jorge/.cache/pypoetry/virtualenvs/banomalies-ml-24-q3wM3yKA-py3.10/lib/python3.10/site-packages/ckmutil/ckm.py:23: ComplexWarning: Casting complex values to real discards the imaginary part\n",
      "  c12 = cos(t12)\n",
      "/home/jorge/.cache/pypoetry/virtualenvs/banomalies-ml-24-q3wM3yKA-py3.10/lib/python3.10/site-packages/ckmutil/ckm.py:25: ComplexWarning: Casting complex values to real discards the imaginary part\n",
      "  c23 = cos(t23)\n",
      "/home/jorge/.cache/pypoetry/virtualenvs/banomalies-ml-24-q3wM3yKA-py3.10/lib/python3.10/site-packages/ckmutil/ckm.py:26: ComplexWarning: Casting complex values to real discards the imaginary part\n",
      "  s12 = sin(t12)\n",
      "/home/jorge/.cache/pypoetry/virtualenvs/banomalies-ml-24-q3wM3yKA-py3.10/lib/python3.10/site-packages/ckmutil/ckm.py:28: ComplexWarning: Casting complex values to real discards the imaginary part\n",
      "  s23 = sin(t23)\n",
      "/home/jorge/.cache/pypoetry/virtualenvs/banomalies-ml-24-q3wM3yKA-py3.10/lib/python3.10/site-packages/ckmutil/ckm.py:23: ComplexWarning: Casting complex values to real discards the imaginary part\n",
      "  c12 = cos(t12)\n",
      "/home/jorge/.cache/pypoetry/virtualenvs/banomalies-ml-24-q3wM3yKA-py3.10/lib/python3.10/site-packages/ckmutil/ckm.py:25: ComplexWarning: Casting complex values to real discards the imaginary part\n",
      "  c23 = cos(t23)\n",
      "/home/jorge/.cache/pypoetry/virtualenvs/banomalies-ml-24-q3wM3yKA-py3.10/lib/python3.10/site-packages/ckmutil/ckm.py:26: ComplexWarning: Casting complex values to real discards the imaginary part\n",
      "  s12 = sin(t12)\n",
      "/home/jorge/.cache/pypoetry/virtualenvs/banomalies-ml-24-q3wM3yKA-py3.10/lib/python3.10/site-packages/ckmutil/ckm.py:28: ComplexWarning: Casting complex values to real discards the imaginary part\n",
      "  s23 = sin(t23)\n",
      "/home/jorge/.cache/pypoetry/virtualenvs/banomalies-ml-24-q3wM3yKA-py3.10/lib/python3.10/site-packages/ckmutil/ckm.py:23: ComplexWarning: Casting complex values to real discards the imaginary part\n",
      "  c12 = cos(t12)\n",
      "/home/jorge/.cache/pypoetry/virtualenvs/banomalies-ml-24-q3wM3yKA-py3.10/lib/python3.10/site-packages/ckmutil/ckm.py:25: ComplexWarning: Casting complex values to real discards the imaginary part\n",
      "  c23 = cos(t23)\n",
      "/home/jorge/.cache/pypoetry/virtualenvs/banomalies-ml-24-q3wM3yKA-py3.10/lib/python3.10/site-packages/ckmutil/ckm.py:26: ComplexWarning: Casting complex values to real discards the imaginary part\n",
      "  s12 = sin(t12)\n",
      "/home/jorge/.cache/pypoetry/virtualenvs/banomalies-ml-24-q3wM3yKA-py3.10/lib/python3.10/site-packages/ckmutil/ckm.py:28: ComplexWarning: Casting complex values to real discards the imaginary part\n",
      "  s23 = sin(t23)\n",
      "/home/jorge/.cache/pypoetry/virtualenvs/banomalies-ml-24-q3wM3yKA-py3.10/lib/python3.10/site-packages/ckmutil/ckm.py:23: ComplexWarning: Casting complex values to real discards the imaginary part\n",
      "  c12 = cos(t12)\n",
      "/home/jorge/.cache/pypoetry/virtualenvs/banomalies-ml-24-q3wM3yKA-py3.10/lib/python3.10/site-packages/ckmutil/ckm.py:25: ComplexWarning: Casting complex values to real discards the imaginary part\n",
      "  c23 = cos(t23)\n",
      "/home/jorge/.cache/pypoetry/virtualenvs/banomalies-ml-24-q3wM3yKA-py3.10/lib/python3.10/site-packages/ckmutil/ckm.py:26: ComplexWarning: Casting complex values to real discards the imaginary part\n",
      "  s12 = sin(t12)\n",
      "/home/jorge/.cache/pypoetry/virtualenvs/banomalies-ml-24-q3wM3yKA-py3.10/lib/python3.10/site-packages/ckmutil/ckm.py:28: ComplexWarning: Casting complex values to real discards the imaginary part\n",
      "  s23 = sin(t23)\n",
      "/home/jorge/.cache/pypoetry/virtualenvs/banomalies-ml-24-q3wM3yKA-py3.10/lib/python3.10/site-packages/ckmutil/ckm.py:23: ComplexWarning: Casting complex values to real discards the imaginary part\n",
      "  c12 = cos(t12)\n",
      "/home/jorge/.cache/pypoetry/virtualenvs/banomalies-ml-24-q3wM3yKA-py3.10/lib/python3.10/site-packages/ckmutil/ckm.py:25: ComplexWarning: Casting complex values to real discards the imaginary part\n",
      "  c23 = cos(t23)\n",
      "/home/jorge/.cache/pypoetry/virtualenvs/banomalies-ml-24-q3wM3yKA-py3.10/lib/python3.10/site-packages/ckmutil/ckm.py:26: ComplexWarning: Casting complex values to real discards the imaginary part\n",
      "  s12 = sin(t12)\n",
      "/home/jorge/.cache/pypoetry/virtualenvs/banomalies-ml-24-q3wM3yKA-py3.10/lib/python3.10/site-packages/ckmutil/ckm.py:28: ComplexWarning: Casting complex values to real discards the imaginary part\n",
      "  s23 = sin(t23)\n",
      "/home/jorge/.cache/pypoetry/virtualenvs/banomalies-ml-24-q3wM3yKA-py3.10/lib/python3.10/site-packages/ckmutil/ckm.py:23: ComplexWarning: Casting complex values to real discards the imaginary part\n",
      "  c12 = cos(t12)\n",
      "/home/jorge/.cache/pypoetry/virtualenvs/banomalies-ml-24-q3wM3yKA-py3.10/lib/python3.10/site-packages/ckmutil/ckm.py:25: ComplexWarning: Casting complex values to real discards the imaginary part\n",
      "  c23 = cos(t23)\n",
      "/home/jorge/.cache/pypoetry/virtualenvs/banomalies-ml-24-q3wM3yKA-py3.10/lib/python3.10/site-packages/ckmutil/ckm.py:26: ComplexWarning: Casting complex values to real discards the imaginary part\n",
      "  s12 = sin(t12)\n",
      "/home/jorge/.cache/pypoetry/virtualenvs/banomalies-ml-24-q3wM3yKA-py3.10/lib/python3.10/site-packages/ckmutil/ckm.py:28: ComplexWarning: Casting complex values to real discards the imaginary part\n",
      "  s23 = sin(t23)\n",
      "/home/jorge/.cache/pypoetry/virtualenvs/banomalies-ml-24-q3wM3yKA-py3.10/lib/python3.10/site-packages/ckmutil/ckm.py:23: ComplexWarning: Casting complex values to real discards the imaginary part\n",
      "  c12 = cos(t12)\n",
      "/home/jorge/.cache/pypoetry/virtualenvs/banomalies-ml-24-q3wM3yKA-py3.10/lib/python3.10/site-packages/ckmutil/ckm.py:25: ComplexWarning: Casting complex values to real discards the imaginary part\n",
      "  c23 = cos(t23)\n",
      "/home/jorge/.cache/pypoetry/virtualenvs/banomalies-ml-24-q3wM3yKA-py3.10/lib/python3.10/site-packages/ckmutil/ckm.py:26: ComplexWarning: Casting complex values to real discards the imaginary part\n",
      "  s12 = sin(t12)\n",
      "/home/jorge/.cache/pypoetry/virtualenvs/banomalies-ml-24-q3wM3yKA-py3.10/lib/python3.10/site-packages/ckmutil/ckm.py:28: ComplexWarning: Casting complex values to real discards the imaginary part\n",
      "  s23 = sin(t23)\n",
      "/home/jorge/.cache/pypoetry/virtualenvs/banomalies-ml-24-q3wM3yKA-py3.10/lib/python3.10/site-packages/ckmutil/ckm.py:23: ComplexWarning: Casting complex values to real discards the imaginary part\n",
      "  c12 = cos(t12)\n",
      "/home/jorge/.cache/pypoetry/virtualenvs/banomalies-ml-24-q3wM3yKA-py3.10/lib/python3.10/site-packages/ckmutil/ckm.py:25: ComplexWarning: Casting complex values to real discards the imaginary part\n",
      "  c23 = cos(t23)\n",
      "/home/jorge/.cache/pypoetry/virtualenvs/banomalies-ml-24-q3wM3yKA-py3.10/lib/python3.10/site-packages/ckmutil/ckm.py:26: ComplexWarning: Casting complex values to real discards the imaginary part\n",
      "  s12 = sin(t12)\n",
      "/home/jorge/.cache/pypoetry/virtualenvs/banomalies-ml-24-q3wM3yKA-py3.10/lib/python3.10/site-packages/ckmutil/ckm.py:28: ComplexWarning: Casting complex values to real discards the imaginary part\n",
      "  s23 = sin(t23)\n",
      "/home/jorge/.cache/pypoetry/virtualenvs/banomalies-ml-24-q3wM3yKA-py3.10/lib/python3.10/site-packages/ckmutil/ckm.py:23: ComplexWarning: Casting complex values to real discards the imaginary part\n",
      "  c12 = cos(t12)\n",
      "/home/jorge/.cache/pypoetry/virtualenvs/banomalies-ml-24-q3wM3yKA-py3.10/lib/python3.10/site-packages/ckmutil/ckm.py:25: ComplexWarning: Casting complex values to real discards the imaginary part\n",
      "  c23 = cos(t23)\n",
      "/home/jorge/.cache/pypoetry/virtualenvs/banomalies-ml-24-q3wM3yKA-py3.10/lib/python3.10/site-packages/ckmutil/ckm.py:26: ComplexWarning: Casting complex values to real discards the imaginary part\n",
      "  s12 = sin(t12)\n",
      "/home/jorge/.cache/pypoetry/virtualenvs/banomalies-ml-24-q3wM3yKA-py3.10/lib/python3.10/site-packages/ckmutil/ckm.py:28: ComplexWarning: Casting complex values to real discards the imaginary part\n",
      "  s23 = sin(t23)\n",
      "/home/jorge/.cache/pypoetry/virtualenvs/banomalies-ml-24-q3wM3yKA-py3.10/lib/python3.10/site-packages/ckmutil/ckm.py:23: ComplexWarning: Casting complex values to real discards the imaginary part\n",
      "  c12 = cos(t12)\n",
      "/home/jorge/.cache/pypoetry/virtualenvs/banomalies-ml-24-q3wM3yKA-py3.10/lib/python3.10/site-packages/ckmutil/ckm.py:25: ComplexWarning: Casting complex values to real discards the imaginary part\n",
      "  c23 = cos(t23)\n",
      "/home/jorge/.cache/pypoetry/virtualenvs/banomalies-ml-24-q3wM3yKA-py3.10/lib/python3.10/site-packages/ckmutil/ckm.py:26: ComplexWarning: Casting complex values to real discards the imaginary part\n",
      "  s12 = sin(t12)\n",
      "/home/jorge/.cache/pypoetry/virtualenvs/banomalies-ml-24-q3wM3yKA-py3.10/lib/python3.10/site-packages/ckmutil/ckm.py:28: ComplexWarning: Casting complex values to real discards the imaginary part\n",
      "  s23 = sin(t23)\n",
      "/home/jorge/.cache/pypoetry/virtualenvs/banomalies-ml-24-q3wM3yKA-py3.10/lib/python3.10/site-packages/ckmutil/ckm.py:23: ComplexWarning: Casting complex values to real discards the imaginary part\n",
      "  c12 = cos(t12)\n",
      "/home/jorge/.cache/pypoetry/virtualenvs/banomalies-ml-24-q3wM3yKA-py3.10/lib/python3.10/site-packages/ckmutil/ckm.py:25: ComplexWarning: Casting complex values to real discards the imaginary part\n",
      "  c23 = cos(t23)\n",
      "/home/jorge/.cache/pypoetry/virtualenvs/banomalies-ml-24-q3wM3yKA-py3.10/lib/python3.10/site-packages/ckmutil/ckm.py:26: ComplexWarning: Casting complex values to real discards the imaginary part\n",
      "  s12 = sin(t12)\n",
      "/home/jorge/.cache/pypoetry/virtualenvs/banomalies-ml-24-q3wM3yKA-py3.10/lib/python3.10/site-packages/ckmutil/ckm.py:28: ComplexWarning: Casting complex values to real discards the imaginary part\n",
      "  s23 = sin(t23)\n",
      "/home/jorge/.cache/pypoetry/virtualenvs/banomalies-ml-24-q3wM3yKA-py3.10/lib/python3.10/site-packages/ckmutil/ckm.py:23: ComplexWarning: Casting complex values to real discards the imaginary part\n",
      "  c12 = cos(t12)\n",
      "/home/jorge/.cache/pypoetry/virtualenvs/banomalies-ml-24-q3wM3yKA-py3.10/lib/python3.10/site-packages/ckmutil/ckm.py:25: ComplexWarning: Casting complex values to real discards the imaginary part\n",
      "  c23 = cos(t23)\n",
      "/home/jorge/.cache/pypoetry/virtualenvs/banomalies-ml-24-q3wM3yKA-py3.10/lib/python3.10/site-packages/ckmutil/ckm.py:26: ComplexWarning: Casting complex values to real discards the imaginary part\n",
      "  s12 = sin(t12)\n",
      "/home/jorge/.cache/pypoetry/virtualenvs/banomalies-ml-24-q3wM3yKA-py3.10/lib/python3.10/site-packages/ckmutil/ckm.py:28: ComplexWarning: Casting complex values to real discards the imaginary part\n",
      "  s23 = sin(t23)\n",
      "/home/jorge/.cache/pypoetry/virtualenvs/banomalies-ml-24-q3wM3yKA-py3.10/lib/python3.10/site-packages/ckmutil/ckm.py:23: ComplexWarning: Casting complex values to real discards the imaginary part\n",
      "  c12 = cos(t12)\n",
      "/home/jorge/.cache/pypoetry/virtualenvs/banomalies-ml-24-q3wM3yKA-py3.10/lib/python3.10/site-packages/ckmutil/ckm.py:25: ComplexWarning: Casting complex values to real discards the imaginary part\n",
      "  c23 = cos(t23)\n",
      "/home/jorge/.cache/pypoetry/virtualenvs/banomalies-ml-24-q3wM3yKA-py3.10/lib/python3.10/site-packages/ckmutil/ckm.py:26: ComplexWarning: Casting complex values to real discards the imaginary part\n",
      "  s12 = sin(t12)\n",
      "/home/jorge/.cache/pypoetry/virtualenvs/banomalies-ml-24-q3wM3yKA-py3.10/lib/python3.10/site-packages/ckmutil/ckm.py:28: ComplexWarning: Casting complex values to real discards the imaginary part\n",
      "  s23 = sin(t23)\n",
      "/home/jorge/.cache/pypoetry/virtualenvs/banomalies-ml-24-q3wM3yKA-py3.10/lib/python3.10/site-packages/ckmutil/ckm.py:23: ComplexWarning: Casting complex values to real discards the imaginary part\n",
      "  c12 = cos(t12)\n",
      "/home/jorge/.cache/pypoetry/virtualenvs/banomalies-ml-24-q3wM3yKA-py3.10/lib/python3.10/site-packages/ckmutil/ckm.py:25: ComplexWarning: Casting complex values to real discards the imaginary part\n",
      "  c23 = cos(t23)\n",
      "/home/jorge/.cache/pypoetry/virtualenvs/banomalies-ml-24-q3wM3yKA-py3.10/lib/python3.10/site-packages/ckmutil/ckm.py:26: ComplexWarning: Casting complex values to real discards the imaginary part\n",
      "  s12 = sin(t12)\n",
      "/home/jorge/.cache/pypoetry/virtualenvs/banomalies-ml-24-q3wM3yKA-py3.10/lib/python3.10/site-packages/ckmutil/ckm.py:28: ComplexWarning: Casting complex values to real discards the imaginary part\n",
      "  s23 = sin(t23)\n",
      "/home/jorge/.cache/pypoetry/virtualenvs/banomalies-ml-24-q3wM3yKA-py3.10/lib/python3.10/site-packages/ckmutil/ckm.py:23: ComplexWarning: Casting complex values to real discards the imaginary part\n",
      "  c12 = cos(t12)\n",
      "/home/jorge/.cache/pypoetry/virtualenvs/banomalies-ml-24-q3wM3yKA-py3.10/lib/python3.10/site-packages/ckmutil/ckm.py:25: ComplexWarning: Casting complex values to real discards the imaginary part\n",
      "  c23 = cos(t23)\n",
      "/home/jorge/.cache/pypoetry/virtualenvs/banomalies-ml-24-q3wM3yKA-py3.10/lib/python3.10/site-packages/ckmutil/ckm.py:26: ComplexWarning: Casting complex values to real discards the imaginary part\n",
      "  s12 = sin(t12)\n",
      "/home/jorge/.cache/pypoetry/virtualenvs/banomalies-ml-24-q3wM3yKA-py3.10/lib/python3.10/site-packages/ckmutil/ckm.py:28: ComplexWarning: Casting complex values to real discards the imaginary part\n",
      "  s23 = sin(t23)\n",
      "/home/jorge/.cache/pypoetry/virtualenvs/banomalies-ml-24-q3wM3yKA-py3.10/lib/python3.10/site-packages/ckmutil/ckm.py:23: ComplexWarning: Casting complex values to real discards the imaginary part\n",
      "  c12 = cos(t12)\n",
      "/home/jorge/.cache/pypoetry/virtualenvs/banomalies-ml-24-q3wM3yKA-py3.10/lib/python3.10/site-packages/ckmutil/ckm.py:25: ComplexWarning: Casting complex values to real discards the imaginary part\n",
      "  c23 = cos(t23)\n",
      "/home/jorge/.cache/pypoetry/virtualenvs/banomalies-ml-24-q3wM3yKA-py3.10/lib/python3.10/site-packages/ckmutil/ckm.py:26: ComplexWarning: Casting complex values to real discards the imaginary part\n",
      "  s12 = sin(t12)\n",
      "/home/jorge/.cache/pypoetry/virtualenvs/banomalies-ml-24-q3wM3yKA-py3.10/lib/python3.10/site-packages/ckmutil/ckm.py:28: ComplexWarning: Casting complex values to real discards the imaginary part\n",
      "  s23 = sin(t23)\n",
      "/home/jorge/.cache/pypoetry/virtualenvs/banomalies-ml-24-q3wM3yKA-py3.10/lib/python3.10/site-packages/ckmutil/ckm.py:23: ComplexWarning: Casting complex values to real discards the imaginary part\n",
      "  c12 = cos(t12)\n",
      "/home/jorge/.cache/pypoetry/virtualenvs/banomalies-ml-24-q3wM3yKA-py3.10/lib/python3.10/site-packages/ckmutil/ckm.py:25: ComplexWarning: Casting complex values to real discards the imaginary part\n",
      "  c23 = cos(t23)\n",
      "/home/jorge/.cache/pypoetry/virtualenvs/banomalies-ml-24-q3wM3yKA-py3.10/lib/python3.10/site-packages/ckmutil/ckm.py:26: ComplexWarning: Casting complex values to real discards the imaginary part\n",
      "  s12 = sin(t12)\n",
      "/home/jorge/.cache/pypoetry/virtualenvs/banomalies-ml-24-q3wM3yKA-py3.10/lib/python3.10/site-packages/ckmutil/ckm.py:28: ComplexWarning: Casting complex values to real discards the imaginary part\n",
      "  s23 = sin(t23)\n",
      "/home/jorge/.cache/pypoetry/virtualenvs/banomalies-ml-24-q3wM3yKA-py3.10/lib/python3.10/site-packages/ckmutil/ckm.py:23: ComplexWarning: Casting complex values to real discards the imaginary part\n",
      "  c12 = cos(t12)\n",
      "/home/jorge/.cache/pypoetry/virtualenvs/banomalies-ml-24-q3wM3yKA-py3.10/lib/python3.10/site-packages/ckmutil/ckm.py:25: ComplexWarning: Casting complex values to real discards the imaginary part\n",
      "  c23 = cos(t23)\n",
      "/home/jorge/.cache/pypoetry/virtualenvs/banomalies-ml-24-q3wM3yKA-py3.10/lib/python3.10/site-packages/ckmutil/ckm.py:26: ComplexWarning: Casting complex values to real discards the imaginary part\n",
      "  s12 = sin(t12)\n",
      "/home/jorge/.cache/pypoetry/virtualenvs/banomalies-ml-24-q3wM3yKA-py3.10/lib/python3.10/site-packages/ckmutil/ckm.py:28: ComplexWarning: Casting complex values to real discards the imaginary part\n",
      "  s23 = sin(t23)\n",
      "/home/jorge/.cache/pypoetry/virtualenvs/banomalies-ml-24-q3wM3yKA-py3.10/lib/python3.10/site-packages/ckmutil/ckm.py:23: ComplexWarning: Casting complex values to real discards the imaginary part\n",
      "  c12 = cos(t12)\n",
      "/home/jorge/.cache/pypoetry/virtualenvs/banomalies-ml-24-q3wM3yKA-py3.10/lib/python3.10/site-packages/ckmutil/ckm.py:25: ComplexWarning: Casting complex values to real discards the imaginary part\n",
      "  c23 = cos(t23)\n",
      "/home/jorge/.cache/pypoetry/virtualenvs/banomalies-ml-24-q3wM3yKA-py3.10/lib/python3.10/site-packages/ckmutil/ckm.py:26: ComplexWarning: Casting complex values to real discards the imaginary part\n",
      "  s12 = sin(t12)\n",
      "/home/jorge/.cache/pypoetry/virtualenvs/banomalies-ml-24-q3wM3yKA-py3.10/lib/python3.10/site-packages/ckmutil/ckm.py:28: ComplexWarning: Casting complex values to real discards the imaginary part\n",
      "  s23 = sin(t23)\n",
      "/home/jorge/.cache/pypoetry/virtualenvs/banomalies-ml-24-q3wM3yKA-py3.10/lib/python3.10/site-packages/ckmutil/ckm.py:23: ComplexWarning: Casting complex values to real discards the imaginary part\n",
      "  c12 = cos(t12)\n",
      "/home/jorge/.cache/pypoetry/virtualenvs/banomalies-ml-24-q3wM3yKA-py3.10/lib/python3.10/site-packages/ckmutil/ckm.py:25: ComplexWarning: Casting complex values to real discards the imaginary part\n",
      "  c23 = cos(t23)\n",
      "/home/jorge/.cache/pypoetry/virtualenvs/banomalies-ml-24-q3wM3yKA-py3.10/lib/python3.10/site-packages/ckmutil/ckm.py:26: ComplexWarning: Casting complex values to real discards the imaginary part\n",
      "  s12 = sin(t12)\n",
      "/home/jorge/.cache/pypoetry/virtualenvs/banomalies-ml-24-q3wM3yKA-py3.10/lib/python3.10/site-packages/ckmutil/ckm.py:28: ComplexWarning: Casting complex values to real discards the imaginary part\n",
      "  s23 = sin(t23)\n",
      "/home/jorge/.cache/pypoetry/virtualenvs/banomalies-ml-24-q3wM3yKA-py3.10/lib/python3.10/site-packages/ckmutil/ckm.py:23: ComplexWarning: Casting complex values to real discards the imaginary part\n",
      "  c12 = cos(t12)\n",
      "/home/jorge/.cache/pypoetry/virtualenvs/banomalies-ml-24-q3wM3yKA-py3.10/lib/python3.10/site-packages/ckmutil/ckm.py:25: ComplexWarning: Casting complex values to real discards the imaginary part\n",
      "  c23 = cos(t23)\n",
      "/home/jorge/.cache/pypoetry/virtualenvs/banomalies-ml-24-q3wM3yKA-py3.10/lib/python3.10/site-packages/ckmutil/ckm.py:26: ComplexWarning: Casting complex values to real discards the imaginary part\n",
      "  s12 = sin(t12)\n",
      "/home/jorge/.cache/pypoetry/virtualenvs/banomalies-ml-24-q3wM3yKA-py3.10/lib/python3.10/site-packages/ckmutil/ckm.py:28: ComplexWarning: Casting complex values to real discards the imaginary part\n",
      "  s23 = sin(t23)\n",
      "/home/jorge/.cache/pypoetry/virtualenvs/banomalies-ml-24-q3wM3yKA-py3.10/lib/python3.10/site-packages/ckmutil/ckm.py:23: ComplexWarning: Casting complex values to real discards the imaginary part\n",
      "  c12 = cos(t12)\n",
      "/home/jorge/.cache/pypoetry/virtualenvs/banomalies-ml-24-q3wM3yKA-py3.10/lib/python3.10/site-packages/ckmutil/ckm.py:25: ComplexWarning: Casting complex values to real discards the imaginary part\n",
      "  c23 = cos(t23)\n",
      "/home/jorge/.cache/pypoetry/virtualenvs/banomalies-ml-24-q3wM3yKA-py3.10/lib/python3.10/site-packages/ckmutil/ckm.py:26: ComplexWarning: Casting complex values to real discards the imaginary part\n",
      "  s12 = sin(t12)\n",
      "/home/jorge/.cache/pypoetry/virtualenvs/banomalies-ml-24-q3wM3yKA-py3.10/lib/python3.10/site-packages/ckmutil/ckm.py:28: ComplexWarning: Casting complex values to real discards the imaginary part\n",
      "  s23 = sin(t23)\n",
      "/home/jorge/.cache/pypoetry/virtualenvs/banomalies-ml-24-q3wM3yKA-py3.10/lib/python3.10/site-packages/ckmutil/ckm.py:23: ComplexWarning: Casting complex values to real discards the imaginary part\n",
      "  c12 = cos(t12)\n",
      "/home/jorge/.cache/pypoetry/virtualenvs/banomalies-ml-24-q3wM3yKA-py3.10/lib/python3.10/site-packages/ckmutil/ckm.py:25: ComplexWarning: Casting complex values to real discards the imaginary part\n",
      "  c23 = cos(t23)\n",
      "/home/jorge/.cache/pypoetry/virtualenvs/banomalies-ml-24-q3wM3yKA-py3.10/lib/python3.10/site-packages/ckmutil/ckm.py:26: ComplexWarning: Casting complex values to real discards the imaginary part\n",
      "  s12 = sin(t12)\n",
      "/home/jorge/.cache/pypoetry/virtualenvs/banomalies-ml-24-q3wM3yKA-py3.10/lib/python3.10/site-packages/ckmutil/ckm.py:28: ComplexWarning: Casting complex values to real discards the imaginary part\n",
      "  s23 = sin(t23)\n",
      "/home/jorge/.cache/pypoetry/virtualenvs/banomalies-ml-24-q3wM3yKA-py3.10/lib/python3.10/site-packages/ckmutil/ckm.py:23: ComplexWarning: Casting complex values to real discards the imaginary part\n",
      "  c12 = cos(t12)\n",
      "/home/jorge/.cache/pypoetry/virtualenvs/banomalies-ml-24-q3wM3yKA-py3.10/lib/python3.10/site-packages/ckmutil/ckm.py:25: ComplexWarning: Casting complex values to real discards the imaginary part\n",
      "  c23 = cos(t23)\n",
      "/home/jorge/.cache/pypoetry/virtualenvs/banomalies-ml-24-q3wM3yKA-py3.10/lib/python3.10/site-packages/ckmutil/ckm.py:26: ComplexWarning: Casting complex values to real discards the imaginary part\n",
      "  s12 = sin(t12)\n",
      "/home/jorge/.cache/pypoetry/virtualenvs/banomalies-ml-24-q3wM3yKA-py3.10/lib/python3.10/site-packages/ckmutil/ckm.py:28: ComplexWarning: Casting complex values to real discards the imaginary part\n",
      "  s23 = sin(t23)\n",
      "/home/jorge/.cache/pypoetry/virtualenvs/banomalies-ml-24-q3wM3yKA-py3.10/lib/python3.10/site-packages/ckmutil/ckm.py:23: ComplexWarning: Casting complex values to real discards the imaginary part\n",
      "  c12 = cos(t12)\n",
      "/home/jorge/.cache/pypoetry/virtualenvs/banomalies-ml-24-q3wM3yKA-py3.10/lib/python3.10/site-packages/ckmutil/ckm.py:25: ComplexWarning: Casting complex values to real discards the imaginary part\n",
      "  c23 = cos(t23)\n",
      "/home/jorge/.cache/pypoetry/virtualenvs/banomalies-ml-24-q3wM3yKA-py3.10/lib/python3.10/site-packages/ckmutil/ckm.py:26: ComplexWarning: Casting complex values to real discards the imaginary part\n",
      "  s12 = sin(t12)\n",
      "/home/jorge/.cache/pypoetry/virtualenvs/banomalies-ml-24-q3wM3yKA-py3.10/lib/python3.10/site-packages/ckmutil/ckm.py:28: ComplexWarning: Casting complex values to real discards the imaginary part\n",
      "  s23 = sin(t23)\n",
      "/home/jorge/.cache/pypoetry/virtualenvs/banomalies-ml-24-q3wM3yKA-py3.10/lib/python3.10/site-packages/ckmutil/ckm.py:23: ComplexWarning: Casting complex values to real discards the imaginary part\n",
      "  c12 = cos(t12)\n",
      "/home/jorge/.cache/pypoetry/virtualenvs/banomalies-ml-24-q3wM3yKA-py3.10/lib/python3.10/site-packages/ckmutil/ckm.py:25: ComplexWarning: Casting complex values to real discards the imaginary part\n",
      "  c23 = cos(t23)\n",
      "/home/jorge/.cache/pypoetry/virtualenvs/banomalies-ml-24-q3wM3yKA-py3.10/lib/python3.10/site-packages/ckmutil/ckm.py:26: ComplexWarning: Casting complex values to real discards the imaginary part\n",
      "  s12 = sin(t12)\n",
      "/home/jorge/.cache/pypoetry/virtualenvs/banomalies-ml-24-q3wM3yKA-py3.10/lib/python3.10/site-packages/ckmutil/ckm.py:28: ComplexWarning: Casting complex values to real discards the imaginary part\n",
      "  s23 = sin(t23)\n",
      "/home/jorge/.cache/pypoetry/virtualenvs/banomalies-ml-24-q3wM3yKA-py3.10/lib/python3.10/site-packages/ckmutil/ckm.py:23: ComplexWarning: Casting complex values to real discards the imaginary part\n",
      "  c12 = cos(t12)\n",
      "/home/jorge/.cache/pypoetry/virtualenvs/banomalies-ml-24-q3wM3yKA-py3.10/lib/python3.10/site-packages/ckmutil/ckm.py:25: ComplexWarning: Casting complex values to real discards the imaginary part\n",
      "  c23 = cos(t23)\n",
      "/home/jorge/.cache/pypoetry/virtualenvs/banomalies-ml-24-q3wM3yKA-py3.10/lib/python3.10/site-packages/ckmutil/ckm.py:26: ComplexWarning: Casting complex values to real discards the imaginary part\n",
      "  s12 = sin(t12)\n",
      "/home/jorge/.cache/pypoetry/virtualenvs/banomalies-ml-24-q3wM3yKA-py3.10/lib/python3.10/site-packages/ckmutil/ckm.py:28: ComplexWarning: Casting complex values to real discards the imaginary part\n",
      "  s23 = sin(t23)\n",
      "/home/jorge/.cache/pypoetry/virtualenvs/banomalies-ml-24-q3wM3yKA-py3.10/lib/python3.10/site-packages/ckmutil/ckm.py:23: ComplexWarning: Casting complex values to real discards the imaginary part\n",
      "  c12 = cos(t12)\n",
      "/home/jorge/.cache/pypoetry/virtualenvs/banomalies-ml-24-q3wM3yKA-py3.10/lib/python3.10/site-packages/ckmutil/ckm.py:25: ComplexWarning: Casting complex values to real discards the imaginary part\n",
      "  c23 = cos(t23)\n",
      "/home/jorge/.cache/pypoetry/virtualenvs/banomalies-ml-24-q3wM3yKA-py3.10/lib/python3.10/site-packages/ckmutil/ckm.py:26: ComplexWarning: Casting complex values to real discards the imaginary part\n",
      "  s12 = sin(t12)\n",
      "/home/jorge/.cache/pypoetry/virtualenvs/banomalies-ml-24-q3wM3yKA-py3.10/lib/python3.10/site-packages/ckmutil/ckm.py:28: ComplexWarning: Casting complex values to real discards the imaginary part\n",
      "  s23 = sin(t23)\n",
      "/home/jorge/.cache/pypoetry/virtualenvs/banomalies-ml-24-q3wM3yKA-py3.10/lib/python3.10/site-packages/ckmutil/ckm.py:23: ComplexWarning: Casting complex values to real discards the imaginary part\n",
      "  c12 = cos(t12)\n",
      "/home/jorge/.cache/pypoetry/virtualenvs/banomalies-ml-24-q3wM3yKA-py3.10/lib/python3.10/site-packages/ckmutil/ckm.py:25: ComplexWarning: Casting complex values to real discards the imaginary part\n",
      "  c23 = cos(t23)\n",
      "/home/jorge/.cache/pypoetry/virtualenvs/banomalies-ml-24-q3wM3yKA-py3.10/lib/python3.10/site-packages/ckmutil/ckm.py:26: ComplexWarning: Casting complex values to real discards the imaginary part\n",
      "  s12 = sin(t12)\n",
      "/home/jorge/.cache/pypoetry/virtualenvs/banomalies-ml-24-q3wM3yKA-py3.10/lib/python3.10/site-packages/ckmutil/ckm.py:28: ComplexWarning: Casting complex values to real discards the imaginary part\n",
      "  s23 = sin(t23)\n",
      "/home/jorge/.cache/pypoetry/virtualenvs/banomalies-ml-24-q3wM3yKA-py3.10/lib/python3.10/site-packages/ckmutil/ckm.py:23: ComplexWarning: Casting complex values to real discards the imaginary part\n",
      "  c12 = cos(t12)\n",
      "/home/jorge/.cache/pypoetry/virtualenvs/banomalies-ml-24-q3wM3yKA-py3.10/lib/python3.10/site-packages/ckmutil/ckm.py:25: ComplexWarning: Casting complex values to real discards the imaginary part\n",
      "  c23 = cos(t23)\n",
      "/home/jorge/.cache/pypoetry/virtualenvs/banomalies-ml-24-q3wM3yKA-py3.10/lib/python3.10/site-packages/ckmutil/ckm.py:26: ComplexWarning: Casting complex values to real discards the imaginary part\n",
      "  s12 = sin(t12)\n",
      "/home/jorge/.cache/pypoetry/virtualenvs/banomalies-ml-24-q3wM3yKA-py3.10/lib/python3.10/site-packages/ckmutil/ckm.py:28: ComplexWarning: Casting complex values to real discards the imaginary part\n",
      "  s23 = sin(t23)\n",
      "/home/jorge/.cache/pypoetry/virtualenvs/banomalies-ml-24-q3wM3yKA-py3.10/lib/python3.10/site-packages/ckmutil/ckm.py:23: ComplexWarning: Casting complex values to real discards the imaginary part\n",
      "  c12 = cos(t12)\n",
      "/home/jorge/.cache/pypoetry/virtualenvs/banomalies-ml-24-q3wM3yKA-py3.10/lib/python3.10/site-packages/ckmutil/ckm.py:25: ComplexWarning: Casting complex values to real discards the imaginary part\n",
      "  c23 = cos(t23)\n",
      "/home/jorge/.cache/pypoetry/virtualenvs/banomalies-ml-24-q3wM3yKA-py3.10/lib/python3.10/site-packages/ckmutil/ckm.py:26: ComplexWarning: Casting complex values to real discards the imaginary part\n",
      "  s12 = sin(t12)\n",
      "/home/jorge/.cache/pypoetry/virtualenvs/banomalies-ml-24-q3wM3yKA-py3.10/lib/python3.10/site-packages/ckmutil/ckm.py:28: ComplexWarning: Casting complex values to real discards the imaginary part\n",
      "  s23 = sin(t23)\n",
      "/home/jorge/.cache/pypoetry/virtualenvs/banomalies-ml-24-q3wM3yKA-py3.10/lib/python3.10/site-packages/ckmutil/ckm.py:23: ComplexWarning: Casting complex values to real discards the imaginary part\n",
      "  c12 = cos(t12)\n",
      "/home/jorge/.cache/pypoetry/virtualenvs/banomalies-ml-24-q3wM3yKA-py3.10/lib/python3.10/site-packages/ckmutil/ckm.py:25: ComplexWarning: Casting complex values to real discards the imaginary part\n",
      "  c23 = cos(t23)\n",
      "/home/jorge/.cache/pypoetry/virtualenvs/banomalies-ml-24-q3wM3yKA-py3.10/lib/python3.10/site-packages/ckmutil/ckm.py:26: ComplexWarning: Casting complex values to real discards the imaginary part\n",
      "  s12 = sin(t12)\n",
      "/home/jorge/.cache/pypoetry/virtualenvs/banomalies-ml-24-q3wM3yKA-py3.10/lib/python3.10/site-packages/ckmutil/ckm.py:28: ComplexWarning: Casting complex values to real discards the imaginary part\n",
      "  s23 = sin(t23)\n",
      "/home/jorge/.cache/pypoetry/virtualenvs/banomalies-ml-24-q3wM3yKA-py3.10/lib/python3.10/site-packages/ckmutil/ckm.py:23: ComplexWarning: Casting complex values to real discards the imaginary part\n",
      "  c12 = cos(t12)\n",
      "/home/jorge/.cache/pypoetry/virtualenvs/banomalies-ml-24-q3wM3yKA-py3.10/lib/python3.10/site-packages/ckmutil/ckm.py:25: ComplexWarning: Casting complex values to real discards the imaginary part\n",
      "  c23 = cos(t23)\n",
      "/home/jorge/.cache/pypoetry/virtualenvs/banomalies-ml-24-q3wM3yKA-py3.10/lib/python3.10/site-packages/ckmutil/ckm.py:26: ComplexWarning: Casting complex values to real discards the imaginary part\n",
      "  s12 = sin(t12)\n",
      "/home/jorge/.cache/pypoetry/virtualenvs/banomalies-ml-24-q3wM3yKA-py3.10/lib/python3.10/site-packages/ckmutil/ckm.py:28: ComplexWarning: Casting complex values to real discards the imaginary part\n",
      "  s23 = sin(t23)\n",
      "/home/jorge/.cache/pypoetry/virtualenvs/banomalies-ml-24-q3wM3yKA-py3.10/lib/python3.10/site-packages/ckmutil/ckm.py:23: ComplexWarning: Casting complex values to real discards the imaginary part\n",
      "  c12 = cos(t12)\n",
      "/home/jorge/.cache/pypoetry/virtualenvs/banomalies-ml-24-q3wM3yKA-py3.10/lib/python3.10/site-packages/ckmutil/ckm.py:25: ComplexWarning: Casting complex values to real discards the imaginary part\n",
      "  c23 = cos(t23)\n",
      "/home/jorge/.cache/pypoetry/virtualenvs/banomalies-ml-24-q3wM3yKA-py3.10/lib/python3.10/site-packages/ckmutil/ckm.py:26: ComplexWarning: Casting complex values to real discards the imaginary part\n",
      "  s12 = sin(t12)\n",
      "/home/jorge/.cache/pypoetry/virtualenvs/banomalies-ml-24-q3wM3yKA-py3.10/lib/python3.10/site-packages/ckmutil/ckm.py:28: ComplexWarning: Casting complex values to real discards the imaginary part\n",
      "  s23 = sin(t23)\n",
      "/home/jorge/.cache/pypoetry/virtualenvs/banomalies-ml-24-q3wM3yKA-py3.10/lib/python3.10/site-packages/ckmutil/ckm.py:23: ComplexWarning: Casting complex values to real discards the imaginary part\n",
      "  c12 = cos(t12)\n",
      "/home/jorge/.cache/pypoetry/virtualenvs/banomalies-ml-24-q3wM3yKA-py3.10/lib/python3.10/site-packages/ckmutil/ckm.py:25: ComplexWarning: Casting complex values to real discards the imaginary part\n",
      "  c23 = cos(t23)\n",
      "/home/jorge/.cache/pypoetry/virtualenvs/banomalies-ml-24-q3wM3yKA-py3.10/lib/python3.10/site-packages/ckmutil/ckm.py:26: ComplexWarning: Casting complex values to real discards the imaginary part\n",
      "  s12 = sin(t12)\n",
      "/home/jorge/.cache/pypoetry/virtualenvs/banomalies-ml-24-q3wM3yKA-py3.10/lib/python3.10/site-packages/ckmutil/ckm.py:28: ComplexWarning: Casting complex values to real discards the imaginary part\n",
      "  s23 = sin(t23)\n",
      "/home/jorge/.cache/pypoetry/virtualenvs/banomalies-ml-24-q3wM3yKA-py3.10/lib/python3.10/site-packages/ckmutil/ckm.py:23: ComplexWarning: Casting complex values to real discards the imaginary part\n",
      "  c12 = cos(t12)\n",
      "/home/jorge/.cache/pypoetry/virtualenvs/banomalies-ml-24-q3wM3yKA-py3.10/lib/python3.10/site-packages/ckmutil/ckm.py:25: ComplexWarning: Casting complex values to real discards the imaginary part\n",
      "  c23 = cos(t23)\n",
      "/home/jorge/.cache/pypoetry/virtualenvs/banomalies-ml-24-q3wM3yKA-py3.10/lib/python3.10/site-packages/ckmutil/ckm.py:26: ComplexWarning: Casting complex values to real discards the imaginary part\n",
      "  s12 = sin(t12)\n",
      "/home/jorge/.cache/pypoetry/virtualenvs/banomalies-ml-24-q3wM3yKA-py3.10/lib/python3.10/site-packages/ckmutil/ckm.py:28: ComplexWarning: Casting complex values to real discards the imaginary part\n",
      "  s23 = sin(t23)\n",
      "/home/jorge/.cache/pypoetry/virtualenvs/banomalies-ml-24-q3wM3yKA-py3.10/lib/python3.10/site-packages/ckmutil/ckm.py:23: ComplexWarning: Casting complex values to real discards the imaginary part\n",
      "  c12 = cos(t12)\n",
      "/home/jorge/.cache/pypoetry/virtualenvs/banomalies-ml-24-q3wM3yKA-py3.10/lib/python3.10/site-packages/ckmutil/ckm.py:25: ComplexWarning: Casting complex values to real discards the imaginary part\n",
      "  c23 = cos(t23)\n",
      "/home/jorge/.cache/pypoetry/virtualenvs/banomalies-ml-24-q3wM3yKA-py3.10/lib/python3.10/site-packages/ckmutil/ckm.py:26: ComplexWarning: Casting complex values to real discards the imaginary part\n",
      "  s12 = sin(t12)\n",
      "/home/jorge/.cache/pypoetry/virtualenvs/banomalies-ml-24-q3wM3yKA-py3.10/lib/python3.10/site-packages/ckmutil/ckm.py:28: ComplexWarning: Casting complex values to real discards the imaginary part\n",
      "  s23 = sin(t23)\n",
      "/home/jorge/.cache/pypoetry/virtualenvs/banomalies-ml-24-q3wM3yKA-py3.10/lib/python3.10/site-packages/ckmutil/ckm.py:23: ComplexWarning: Casting complex values to real discards the imaginary part\n",
      "  c12 = cos(t12)\n",
      "/home/jorge/.cache/pypoetry/virtualenvs/banomalies-ml-24-q3wM3yKA-py3.10/lib/python3.10/site-packages/ckmutil/ckm.py:25: ComplexWarning: Casting complex values to real discards the imaginary part\n",
      "  c23 = cos(t23)\n",
      "/home/jorge/.cache/pypoetry/virtualenvs/banomalies-ml-24-q3wM3yKA-py3.10/lib/python3.10/site-packages/ckmutil/ckm.py:26: ComplexWarning: Casting complex values to real discards the imaginary part\n",
      "  s12 = sin(t12)\n",
      "/home/jorge/.cache/pypoetry/virtualenvs/banomalies-ml-24-q3wM3yKA-py3.10/lib/python3.10/site-packages/ckmutil/ckm.py:28: ComplexWarning: Casting complex values to real discards the imaginary part\n",
      "  s23 = sin(t23)\n",
      "/home/jorge/.cache/pypoetry/virtualenvs/banomalies-ml-24-q3wM3yKA-py3.10/lib/python3.10/site-packages/ckmutil/ckm.py:23: ComplexWarning: Casting complex values to real discards the imaginary part\n",
      "  c12 = cos(t12)\n",
      "/home/jorge/.cache/pypoetry/virtualenvs/banomalies-ml-24-q3wM3yKA-py3.10/lib/python3.10/site-packages/ckmutil/ckm.py:25: ComplexWarning: Casting complex values to real discards the imaginary part\n",
      "  c23 = cos(t23)\n",
      "/home/jorge/.cache/pypoetry/virtualenvs/banomalies-ml-24-q3wM3yKA-py3.10/lib/python3.10/site-packages/ckmutil/ckm.py:26: ComplexWarning: Casting complex values to real discards the imaginary part\n",
      "  s12 = sin(t12)\n",
      "/home/jorge/.cache/pypoetry/virtualenvs/banomalies-ml-24-q3wM3yKA-py3.10/lib/python3.10/site-packages/ckmutil/ckm.py:28: ComplexWarning: Casting complex values to real discards the imaginary part\n",
      "  s23 = sin(t23)\n",
      "/home/jorge/.cache/pypoetry/virtualenvs/banomalies-ml-24-q3wM3yKA-py3.10/lib/python3.10/site-packages/ckmutil/ckm.py:23: ComplexWarning: Casting complex values to real discards the imaginary part\n",
      "  c12 = cos(t12)\n",
      "/home/jorge/.cache/pypoetry/virtualenvs/banomalies-ml-24-q3wM3yKA-py3.10/lib/python3.10/site-packages/ckmutil/ckm.py:25: ComplexWarning: Casting complex values to real discards the imaginary part\n",
      "  c23 = cos(t23)\n",
      "/home/jorge/.cache/pypoetry/virtualenvs/banomalies-ml-24-q3wM3yKA-py3.10/lib/python3.10/site-packages/ckmutil/ckm.py:26: ComplexWarning: Casting complex values to real discards the imaginary part\n",
      "  s12 = sin(t12)\n",
      "/home/jorge/.cache/pypoetry/virtualenvs/banomalies-ml-24-q3wM3yKA-py3.10/lib/python3.10/site-packages/ckmutil/ckm.py:28: ComplexWarning: Casting complex values to real discards the imaginary part\n",
      "  s23 = sin(t23)\n",
      "/home/jorge/.cache/pypoetry/virtualenvs/banomalies-ml-24-q3wM3yKA-py3.10/lib/python3.10/site-packages/ckmutil/ckm.py:23: ComplexWarning: Casting complex values to real discards the imaginary part\n",
      "  c12 = cos(t12)\n",
      "/home/jorge/.cache/pypoetry/virtualenvs/banomalies-ml-24-q3wM3yKA-py3.10/lib/python3.10/site-packages/ckmutil/ckm.py:25: ComplexWarning: Casting complex values to real discards the imaginary part\n",
      "  c23 = cos(t23)\n",
      "/home/jorge/.cache/pypoetry/virtualenvs/banomalies-ml-24-q3wM3yKA-py3.10/lib/python3.10/site-packages/ckmutil/ckm.py:26: ComplexWarning: Casting complex values to real discards the imaginary part\n",
      "  s12 = sin(t12)\n",
      "/home/jorge/.cache/pypoetry/virtualenvs/banomalies-ml-24-q3wM3yKA-py3.10/lib/python3.10/site-packages/ckmutil/ckm.py:28: ComplexWarning: Casting complex values to real discards the imaginary part\n",
      "  s23 = sin(t23)\n",
      "/home/jorge/.cache/pypoetry/virtualenvs/banomalies-ml-24-q3wM3yKA-py3.10/lib/python3.10/site-packages/ckmutil/ckm.py:23: ComplexWarning: Casting complex values to real discards the imaginary part\n",
      "  c12 = cos(t12)\n",
      "/home/jorge/.cache/pypoetry/virtualenvs/banomalies-ml-24-q3wM3yKA-py3.10/lib/python3.10/site-packages/ckmutil/ckm.py:25: ComplexWarning: Casting complex values to real discards the imaginary part\n",
      "  c23 = cos(t23)\n",
      "/home/jorge/.cache/pypoetry/virtualenvs/banomalies-ml-24-q3wM3yKA-py3.10/lib/python3.10/site-packages/ckmutil/ckm.py:26: ComplexWarning: Casting complex values to real discards the imaginary part\n",
      "  s12 = sin(t12)\n",
      "/home/jorge/.cache/pypoetry/virtualenvs/banomalies-ml-24-q3wM3yKA-py3.10/lib/python3.10/site-packages/ckmutil/ckm.py:28: ComplexWarning: Casting complex values to real discards the imaginary part\n",
      "  s23 = sin(t23)\n",
      "/home/jorge/.cache/pypoetry/virtualenvs/banomalies-ml-24-q3wM3yKA-py3.10/lib/python3.10/site-packages/ckmutil/ckm.py:23: ComplexWarning: Casting complex values to real discards the imaginary part\n",
      "  c12 = cos(t12)\n",
      "/home/jorge/.cache/pypoetry/virtualenvs/banomalies-ml-24-q3wM3yKA-py3.10/lib/python3.10/site-packages/ckmutil/ckm.py:25: ComplexWarning: Casting complex values to real discards the imaginary part\n",
      "  c23 = cos(t23)\n",
      "/home/jorge/.cache/pypoetry/virtualenvs/banomalies-ml-24-q3wM3yKA-py3.10/lib/python3.10/site-packages/ckmutil/ckm.py:26: ComplexWarning: Casting complex values to real discards the imaginary part\n",
      "  s12 = sin(t12)\n",
      "/home/jorge/.cache/pypoetry/virtualenvs/banomalies-ml-24-q3wM3yKA-py3.10/lib/python3.10/site-packages/ckmutil/ckm.py:28: ComplexWarning: Casting complex values to real discards the imaginary part\n",
      "  s23 = sin(t23)\n",
      "/home/jorge/.cache/pypoetry/virtualenvs/banomalies-ml-24-q3wM3yKA-py3.10/lib/python3.10/site-packages/ckmutil/ckm.py:23: ComplexWarning: Casting complex values to real discards the imaginary part\n",
      "  c12 = cos(t12)\n",
      "/home/jorge/.cache/pypoetry/virtualenvs/banomalies-ml-24-q3wM3yKA-py3.10/lib/python3.10/site-packages/ckmutil/ckm.py:25: ComplexWarning: Casting complex values to real discards the imaginary part\n",
      "  c23 = cos(t23)\n",
      "/home/jorge/.cache/pypoetry/virtualenvs/banomalies-ml-24-q3wM3yKA-py3.10/lib/python3.10/site-packages/ckmutil/ckm.py:26: ComplexWarning: Casting complex values to real discards the imaginary part\n",
      "  s12 = sin(t12)\n",
      "/home/jorge/.cache/pypoetry/virtualenvs/banomalies-ml-24-q3wM3yKA-py3.10/lib/python3.10/site-packages/ckmutil/ckm.py:28: ComplexWarning: Casting complex values to real discards the imaginary part\n",
      "  s23 = sin(t23)\n",
      "/home/jorge/.cache/pypoetry/virtualenvs/banomalies-ml-24-q3wM3yKA-py3.10/lib/python3.10/site-packages/ckmutil/ckm.py:23: ComplexWarning: Casting complex values to real discards the imaginary part\n",
      "  c12 = cos(t12)\n",
      "/home/jorge/.cache/pypoetry/virtualenvs/banomalies-ml-24-q3wM3yKA-py3.10/lib/python3.10/site-packages/ckmutil/ckm.py:25: ComplexWarning: Casting complex values to real discards the imaginary part\n",
      "  c23 = cos(t23)\n",
      "/home/jorge/.cache/pypoetry/virtualenvs/banomalies-ml-24-q3wM3yKA-py3.10/lib/python3.10/site-packages/ckmutil/ckm.py:26: ComplexWarning: Casting complex values to real discards the imaginary part\n",
      "  s12 = sin(t12)\n",
      "/home/jorge/.cache/pypoetry/virtualenvs/banomalies-ml-24-q3wM3yKA-py3.10/lib/python3.10/site-packages/ckmutil/ckm.py:28: ComplexWarning: Casting complex values to real discards the imaginary part\n",
      "  s23 = sin(t23)\n",
      "/home/jorge/.cache/pypoetry/virtualenvs/banomalies-ml-24-q3wM3yKA-py3.10/lib/python3.10/site-packages/ckmutil/ckm.py:23: ComplexWarning: Casting complex values to real discards the imaginary part\n",
      "  c12 = cos(t12)\n",
      "/home/jorge/.cache/pypoetry/virtualenvs/banomalies-ml-24-q3wM3yKA-py3.10/lib/python3.10/site-packages/ckmutil/ckm.py:25: ComplexWarning: Casting complex values to real discards the imaginary part\n",
      "  c23 = cos(t23)\n",
      "/home/jorge/.cache/pypoetry/virtualenvs/banomalies-ml-24-q3wM3yKA-py3.10/lib/python3.10/site-packages/ckmutil/ckm.py:26: ComplexWarning: Casting complex values to real discards the imaginary part\n",
      "  s12 = sin(t12)\n",
      "/home/jorge/.cache/pypoetry/virtualenvs/banomalies-ml-24-q3wM3yKA-py3.10/lib/python3.10/site-packages/ckmutil/ckm.py:28: ComplexWarning: Casting complex values to real discards the imaginary part\n",
      "  s23 = sin(t23)\n",
      "/home/jorge/.cache/pypoetry/virtualenvs/banomalies-ml-24-q3wM3yKA-py3.10/lib/python3.10/site-packages/ckmutil/ckm.py:23: ComplexWarning: Casting complex values to real discards the imaginary part\n",
      "  c12 = cos(t12)\n",
      "/home/jorge/.cache/pypoetry/virtualenvs/banomalies-ml-24-q3wM3yKA-py3.10/lib/python3.10/site-packages/ckmutil/ckm.py:25: ComplexWarning: Casting complex values to real discards the imaginary part\n",
      "  c23 = cos(t23)\n",
      "/home/jorge/.cache/pypoetry/virtualenvs/banomalies-ml-24-q3wM3yKA-py3.10/lib/python3.10/site-packages/ckmutil/ckm.py:26: ComplexWarning: Casting complex values to real discards the imaginary part\n",
      "  s12 = sin(t12)\n",
      "/home/jorge/.cache/pypoetry/virtualenvs/banomalies-ml-24-q3wM3yKA-py3.10/lib/python3.10/site-packages/ckmutil/ckm.py:28: ComplexWarning: Casting complex values to real discards the imaginary part\n",
      "  s23 = sin(t23)\n",
      "/home/jorge/.cache/pypoetry/virtualenvs/banomalies-ml-24-q3wM3yKA-py3.10/lib/python3.10/site-packages/ckmutil/ckm.py:23: ComplexWarning: Casting complex values to real discards the imaginary part\n",
      "  c12 = cos(t12)\n",
      "/home/jorge/.cache/pypoetry/virtualenvs/banomalies-ml-24-q3wM3yKA-py3.10/lib/python3.10/site-packages/ckmutil/ckm.py:25: ComplexWarning: Casting complex values to real discards the imaginary part\n",
      "  c23 = cos(t23)\n",
      "/home/jorge/.cache/pypoetry/virtualenvs/banomalies-ml-24-q3wM3yKA-py3.10/lib/python3.10/site-packages/ckmutil/ckm.py:26: ComplexWarning: Casting complex values to real discards the imaginary part\n",
      "  s12 = sin(t12)\n",
      "/home/jorge/.cache/pypoetry/virtualenvs/banomalies-ml-24-q3wM3yKA-py3.10/lib/python3.10/site-packages/ckmutil/ckm.py:28: ComplexWarning: Casting complex values to real discards the imaginary part\n",
      "  s23 = sin(t23)\n",
      "/home/jorge/.cache/pypoetry/virtualenvs/banomalies-ml-24-q3wM3yKA-py3.10/lib/python3.10/site-packages/ckmutil/ckm.py:23: ComplexWarning: Casting complex values to real discards the imaginary part\n",
      "  c12 = cos(t12)\n",
      "/home/jorge/.cache/pypoetry/virtualenvs/banomalies-ml-24-q3wM3yKA-py3.10/lib/python3.10/site-packages/ckmutil/ckm.py:25: ComplexWarning: Casting complex values to real discards the imaginary part\n",
      "  c23 = cos(t23)\n",
      "/home/jorge/.cache/pypoetry/virtualenvs/banomalies-ml-24-q3wM3yKA-py3.10/lib/python3.10/site-packages/ckmutil/ckm.py:26: ComplexWarning: Casting complex values to real discards the imaginary part\n",
      "  s12 = sin(t12)\n",
      "/home/jorge/.cache/pypoetry/virtualenvs/banomalies-ml-24-q3wM3yKA-py3.10/lib/python3.10/site-packages/ckmutil/ckm.py:28: ComplexWarning: Casting complex values to real discards the imaginary part\n",
      "  s23 = sin(t23)\n",
      "/home/jorge/.cache/pypoetry/virtualenvs/banomalies-ml-24-q3wM3yKA-py3.10/lib/python3.10/site-packages/tqdm/auto.py:21: TqdmWarning: IProgress not found. Please update jupyter and ipywidgets. See https://ipywidgets.readthedocs.io/en/stable/user_install.html\n",
      "  from .autonotebook import tqdm as notebook_tqdm\n"
     ]
    }
   ],
   "source": [
    "import SMEFT19\n",
    "import numpy as np\n",
    "import matplotlib.pyplot as plt\n",
    "import pandas as pd\n",
    "from flavio.statistics.functions import pull\n",
    "import warnings"
   ]
  },
  {
   "cell_type": "code",
   "execution_count": 3,
   "id": "69eb7139-776c-46c0-bcfd-dc8eee584097",
   "metadata": {},
   "outputs": [],
   "source": [
    "with warnings.catch_warnings():\n",
    "    warnings.simplefilter(\"ignore\")\n",
    "    SMEFT19.SMEFTglob.gl.make_measurement()"
   ]
  },
  {
   "cell_type": "code",
   "execution_count": null,
   "id": "03385f3e-3bcf-4d6c-9d37-2eacf70cccc2",
   "metadata": {},
   "outputs": [],
   "source": [
    "def fit_I(x):\n",
    "    return -SMEFT19.likelihood_global(x, SMEFT19.scenarios.rotBI)"
   ]
  },
  {
   "cell_type": "code",
   "execution_count": null,
   "id": "2fae73c6-5c90-4fb9-8450-dfbf3e6d7dab",
   "metadata": {},
   "outputs": [],
   "source": [
    "bf, v, d, L = SMEFT19.ellipse.minimum(fit_I, [-0.13, 0, 0.851])"
   ]
  },
  {
   "cell_type": "code",
   "execution_count": null,
   "id": "42b282df-263f-451f-b24c-dce2cc2bb016",
   "metadata": {},
   "outputs": [],
   "source": [
    "SMEFT19.__path__"
   ]
  },
  {
   "cell_type": "code",
   "execution_count": null,
   "id": "d581bbf9-3d01-401a-8959-4500592bf916",
   "metadata": {},
   "outputs": [],
   "source": [
    "SMEFT19.SMEFTglob.likelihood_fits([-0.13, 0, 0.851], SMEFT19.scenarios.rotBI)"
   ]
  },
  {
   "cell_type": "code",
   "execution_count": null,
   "id": "3ebd4b8e-7733-49ee-bd83-32435e82f13a",
   "metadata": {},
   "outputs": [],
   "source": [
    "d1 = {5: 'a', 7: 'b', 4.3: 'c'}"
   ]
  },
  {
   "cell_type": "code",
   "execution_count": null,
   "id": "8efa5fd1-8797-4070-8524-276750c6301e",
   "metadata": {},
   "outputs": [],
   "source": [
    "d1[4.3]"
   ]
  },
  {
   "cell_type": "code",
   "execution_count": null,
   "id": "5bc45ab6-a068-4aab-8876-02b98fbad9a1",
   "metadata": {},
   "outputs": [],
   "source": [
    "SMEFT19.scenarios.rotBI([-0.13, 0, 0.851]).wc.values.keys()"
   ]
  },
  {
   "cell_type": "code",
   "execution_count": null,
   "id": "527ff2d9-78a7-4c90-968a-cfc7fccf4cc7",
   "metadata": {},
   "outputs": [],
   "source": [
    "from wilson import Wilson"
   ]
  },
  {
   "cell_type": "code",
   "execution_count": null,
   "id": "0efa655f-4666-45ee-bc92-3fd9e2bb55a8",
   "metadata": {},
   "outputs": [],
   "source": [
    "from collections import defaultdict"
   ]
  },
  {
   "cell_type": "code",
   "execution_count": null,
   "id": "64658922-9354-4224-9137-8710d0ee3531",
   "metadata": {},
   "outputs": [],
   "source": [
    "d = defaultdict(float)"
   ]
  },
  {
   "cell_type": "code",
   "execution_count": null,
   "id": "c6b89e25-03ea-4255-a6b1-c2970d74d44a",
   "metadata": {},
   "outputs": [],
   "source": [
    "d['a'] += 7"
   ]
  },
  {
   "cell_type": "code",
   "execution_count": null,
   "id": "a3fb334b-84f5-481a-9482-a7f3a11003bf",
   "metadata": {},
   "outputs": [],
   "source": [
    "d['a']"
   ]
  },
  {
   "cell_type": "code",
   "execution_count": null,
   "id": "9719216a-5c3b-4181-897f-fcf914f2ad8e",
   "metadata": {},
   "outputs": [],
   "source": [
    "d['b'] -= 2.3"
   ]
  },
  {
   "cell_type": "code",
   "execution_count": null,
   "id": "83c7cfd6-b175-473d-bf02-6ebd4857699b",
   "metadata": {},
   "outputs": [],
   "source": [
    "d['b']"
   ]
  },
  {
   "cell_type": "code",
   "execution_count": null,
   "id": "d8430e89-e331-443d-95be-41a525f15d6a",
   "metadata": {},
   "outputs": [],
   "source": [
    "dict(d)"
   ]
  },
  {
   "cell_type": "code",
   "execution_count": null,
   "id": "e1d282e5-d2e1-42cb-a87f-83d95a53c6ac",
   "metadata": {},
   "outputs": [],
   "source": [
    "cache_running = {125.0: {}, 91.1876: {}, 4.8: {}, 1.8: {} }"
   ]
  },
  {
   "cell_type": "code",
   "execution_count": null,
   "id": "785898d5-4402-4575-9ed5-d1cee18e83a4",
   "metadata": {},
   "outputs": [],
   "source": [
    "fit_scale = {'fast_likelihood_quarks.yaml': 4.8,\n",
    "                 'fast_likelihood_leptons.yaml': 1.8,\n",
    "                 'likelihood_ewpt.yaml': 91.1876,\n",
    "                 'likelihood_eeww.yaml': 91.1876,\n",
    "                 'likelihood_lept.yaml': 1.8,\n",
    "                 'likelihood_rd_rds.yaml': 4.8,\n",
    "                 'likelihood_lfu_fccc.yaml': 4.8,\n",
    "                 'likelihood_lfu_fcnc.yaml': 4.8,\n",
    "                 'likelihood_bcpv.yaml': 4.8,\n",
    "                 'likelihood_bqnunu.yaml': 4.8,\n",
    "                 'likelihood_lfv.yaml': 4.8,\n",
    "                 'likelihood_zlfv.yaml': 91.1876,\n",
    "                 'likelihood_higgs.yaml': 125.0\n",
    "                 }"
   ]
  },
  {
   "cell_type": "code",
   "execution_count": null,
   "id": "d39e7b74-6c67-4481-b06d-c5fff2d89b6d",
   "metadata": {},
   "outputs": [],
   "source": [
    "with warnings.catch_warnings():\n",
    "    warnings.simplefilter(\"ignore\")\n",
    "    glfit = {}\n",
    "    for fit in fit_scale.keys():\n",
    "            scale = fit_scale[fit]\n",
    "            if scale > 80:\n",
    "                eft = 'SMEFT'\n",
    "                basis = 'Warsaw'\n",
    "            else:\n",
    "                eft = 'WET'\n",
    "                basis = 'flavio'\n",
    "            glfit[fit] = smelli.GlobalLikelihood(eft=eft, include_likelihoods=[fit,])\n",
    "            glfit[fit].make_measurement()"
   ]
  },
  {
   "cell_type": "code",
   "execution_count": null,
   "id": "ebf1258d-f194-4b78-ab11-7815cfe076d3",
   "metadata": {},
   "outputs": [],
   "source": [
    "import smelli"
   ]
  },
  {
   "cell_type": "code",
   "execution_count": null,
   "id": "835e1d09-f6fb-44eb-b36e-d1764488708a",
   "metadata": {},
   "outputs": [],
   "source": [
    "def likelihood_fits_cached(x, wfun):\n",
    "    global cache_running\n",
    "    res = {}\n",
    "    for fit in fit_scale.keys():\n",
    "        scale = fit_scale[fit]\n",
    "        if scale > 80:\n",
    "            eft = 'SMEFT'\n",
    "            basis = 'Warsaw'\n",
    "        else:\n",
    "            eft = 'WET'\n",
    "            basis = 'flavio'\n",
    "        w0 = wfun(x)\n",
    "        wc_res = defaultdict(float)\n",
    "        for wc in w0.wc.values.keys():\n",
    "            if wc not in cache_running[scale].keys():\n",
    "                cache_running[scale][wc] = Wilson({wc: 1e-6}, scale=1e3, basis='Warsaw', eft='SMEFT').match_run(scale=scale, eft=eft, basis=basis).values\n",
    "            for w in cache_running[scale][wc].keys():\n",
    "                if isinstance(cache_running[scale][wc][w], float):\n",
    "                    wc_res[w] += cache_running[scale][wc][w]/1e-6 * w0.wc.values[wc]\n",
    "                else:\n",
    "                    wc_res[w] += (cache_running[scale][wc][w]['Re']+cache_running[scale][wc][w]['Im'])/1e-6 * w0.wc.values[wc]\n",
    "        res[fit] = glfit[fit].parameter_point(Wilson(dict(wc_res), scale=scale, eft=eft, basis=basis )).log_likelihood_global()\n",
    "    res['global'] = sum(res[fit] for fit in fit_scale.keys())\n",
    "    return res"
   ]
  },
  {
   "cell_type": "code",
   "execution_count": null,
   "id": "acab9bea-f25a-45a4-8cd1-5dc59747fbbf",
   "metadata": {
    "editable": true,
    "slideshow": {
     "slide_type": ""
    },
    "tags": []
   },
   "outputs": [],
   "source": [
    "t0 = time.time()\n",
    "with warnings.catch_warnings():\n",
    "    warnings.simplefilter(\"ignore\")\n",
    "    l1 = likelihood_fits_cached([-0.13, 0, 0.851], SMEFT19.scenarios.rotBI)\n",
    "tf = time.time()"
   ]
  },
  {
   "cell_type": "code",
   "execution_count": null,
   "id": "f3dc3802-976c-45e9-a762-ee0bb30ac395",
   "metadata": {},
   "outputs": [],
   "source": [
    "import time"
   ]
  },
  {
   "cell_type": "code",
   "execution_count": null,
   "id": "1e37aab9-4af5-4560-adc7-6129b356b5b2",
   "metadata": {},
   "outputs": [],
   "source": [
    "with warnings.catch_warnings():\n",
    "    warnings.simplefilter(\"ignore\")\n",
    "    print(l1['fast_likelihood_quarks.yaml'].log_likelihood_global())"
   ]
  },
  {
   "cell_type": "code",
   "execution_count": null,
   "id": "89e7ffd2-f6e0-4e05-80d4-f6b05cd1eb24",
   "metadata": {},
   "outputs": [],
   "source": [
    "tf-t0"
   ]
  },
  {
   "cell_type": "code",
   "execution_count": null,
   "id": "080749a4-1ceb-43b0-be55-d10dfbbfe7cf",
   "metadata": {},
   "outputs": [],
   "source": [
    "l1['global']"
   ]
  },
  {
   "cell_type": "code",
   "execution_count": null,
   "id": "61baa30c-526d-49c7-b6b8-eeef3c134fb7",
   "metadata": {},
   "outputs": [],
   "source": [
    "def fit_I(x):\n",
    "    with warnings.catch_warnings():\n",
    "        warnings.simplefilter(\"ignore\")\n",
    "        return -likelihood_fits_cached(x, SMEFT19.scenarios.rotBI)['global']"
   ]
  },
  {
   "cell_type": "code",
   "execution_count": null,
   "id": "60eeec0a-cfda-4800-b729-cc296f73d9f2",
   "metadata": {},
   "outputs": [],
   "source": [
    "bf_I, v_I, d_I, L_I = SMEFT19.ellipse.minimum(fit_I, [-0.13, 0, 0.851])"
   ]
  },
  {
   "cell_type": "code",
   "execution_count": null,
   "id": "a9cbbf35-4261-49d0-9cb1-26eaaec4a39c",
   "metadata": {},
   "outputs": [],
   "source": [
    "cache_running"
   ]
  },
  {
   "cell_type": "code",
   "execution_count": 2,
   "id": "8b745543-0d4e-48ed-a071-d6da507dc02a",
   "metadata": {},
   "outputs": [],
   "source": [
    "import matplotlib.pyplot as plt\n",
    "import pandas as pd\n",
    "from flavio.statistics.functions import pull\n",
    "import warnings\n",
    "from flavio.statistics.functions import pull, delta_chi2, pvalue\n",
    "from SMEFT19 import likelihood_global\n",
    "from SMEFT19.scenarios import rotBIII\n",
    "warnings.simplefilter(\"ignore\")\n"
   ]
  },
  {
   "cell_type": "code",
   "execution_count": 3,
   "id": "f97e1075-7f52-4b75-a8fe-45e69cbfa444",
   "metadata": {},
   "outputs": [],
   "source": [
    "def fit_II(x):\n",
    "    try:\n",
    "        return -SMEFT19.likelihood_global(x, SMEFT19.scenarios.rotBIII)\n",
    "    except:\n",
    "        return -2000"
   ]
  },
  {
   "cell_type": "code",
   "execution_count": 4,
   "id": "3b04aca4-4be7-48b7-adbd-9442ac44977b",
   "metadata": {},
   "outputs": [
    {
     "data": {
      "text/plain": [
       "-0.0"
      ]
     },
     "execution_count": 4,
     "metadata": {},
     "output_type": "execute_result"
    }
   ],
   "source": [
    "fit_II([0, 0, 0])"
   ]
  },
  {
   "cell_type": "code",
   "execution_count": 8,
   "id": "58ebc543-3d8e-41d2-8cd7-eac2868c5242",
   "metadata": {},
   "outputs": [
    {
     "data": {
      "text/plain": [
       "-24.50348422150495"
      ]
     },
     "execution_count": 8,
     "metadata": {},
     "output_type": "execute_result"
    }
   ],
   "source": [
    "fit_II([-0.11, -0.11, 0.78])"
   ]
  },
  {
   "cell_type": "code",
   "execution_count": 7,
   "id": "7dce5f4b-4e65-48e7-917b-b64b844de603",
   "metadata": {},
   "outputs": [],
   "source": [
    "def fit_I(x):\n",
    "    return -SMEFT19.likelihood_global(x, SMEFT19.scenarios.rotBI)"
   ]
  },
  {
   "cell_type": "code",
   "execution_count": null,
   "id": "22a53fdd-2793-4728-bf82-00083b5acd8b",
   "metadata": {},
   "outputs": [],
   "source": [
    "fit_I([-0.11, 0, 0.78])"
   ]
  },
  {
   "cell_type": "code",
   "execution_count": 3,
   "id": "88d7231b",
   "metadata": {},
   "outputs": [],
   "source": [
    "import smelli"
   ]
  },
  {
   "cell_type": "code",
   "execution_count": null,
   "id": "b02f1340",
   "metadata": {},
   "outputs": [],
   "source": [
    "gl = smelli.GlobalLikelihood()\n",
    "gl.make_measurement()"
   ]
  },
  {
   "cell_type": "code",
   "execution_count": 39,
   "id": "0044b320",
   "metadata": {},
   "outputs": [],
   "source": [
    "import yaml\n",
    "\n",
    "glSM = gl.parameter_point({}, scale=1000)\n",
    "obsSM = glSM.obstable()\n",
    "obscoll = list(obsSM['pull exp.'].keys())\n",
    "for o in obscoll:\n",
    "    if isinstance(o, tuple):\n",
    "        o = list(o)\n",
    "with open('../observables.yaml', 'wt', encoding='utf-8') as fyaml:\n",
    "    yaml.safe_dump(obscoll, fyaml)"
   ]
  },
  {
   "cell_type": "code",
   "execution_count": 9,
   "id": "6f3b729c",
   "metadata": {},
   "outputs": [],
   "source": [
    "import warnings\n",
    "warnings.simplefilter(\"ignore\")"
   ]
  },
  {
   "cell_type": "code",
   "execution_count": 40,
   "id": "46c2c282",
   "metadata": {},
   "outputs": [],
   "source": [
    "from scenarios import rotBIII\n",
    "\n",
    "bf = [-0.1023464, -0.11863709, 0.9034919 ]\n",
    "w = rotBIII(bf)\n",
    "\n",
    "glNP = gl.parameter_point(w)\n",
    "glSM = gl.parameter_point({}, scale=1000)\n",
    "obsSM = glSM.obstable()\n",
    "obsNP = glNP.obstable()"
   ]
  },
  {
   "cell_type": "code",
   "execution_count": 41,
   "id": "575c5e53",
   "metadata": {},
   "outputs": [],
   "source": [
    "import re \n",
    "import flavio\n",
    "\n",
    "def texnumber(x, prec=3):\n",
    "    r'''\n",
    "Returns the TeX representation of a number in scientific notation.\n",
    "    '''\n",
    "    texn = ('{:.'+str(prec)+'g}').format(float(x))\n",
    "    match = re.match(r'(-?[0-9]+(\\.[0-9]+)?)e(.[0-9]+)', texn)\n",
    "    if match:\n",
    "        texn = '$' + match.group(1) + '\\\\times 10^{' + str(int(match.group(3))) + '}$'\n",
    "    return texn\n",
    "\n",
    "def tex(obs):\n",
    "    r'''\n",
    "Returns the TeX representation for a given flavio observable.\n",
    "If the observable includes arguments (e. g. q2), they are represented as superindex.\n",
    "    '''\n",
    "    if isinstance(obs, str):\n",
    "        text = flavio.Observable[obs].tex\n",
    "    else:\n",
    "        text = (flavio.Observable[obs[0]].tex[:-1] + '^{' +\n",
    "                str(list(obs[1:])).replace(',', ',\\\\ ') + '}$')\n",
    "    return text.replace('text', 'mathrm')\n",
    "\n",
    "f = open('rotBIII.tex', 'wt', encoding='utf-8')\n",
    "obsnum = 0\n",
    "f.write('\\\\begin{longtable}{|c|c|c|c|c|}\\\\hline\\n & Observable &\\t NP prediction '+\n",
    "        '&\\t NP pull & SM pull\\\\endhead\\\\hline\\n')\n",
    "for obs in obscoll:\n",
    "    if isinstance(obs, list):\n",
    "        obs = tuple(obs)\n",
    "    NPpull = float(obsNP.loc[[obs], 'pull exp.'])\n",
    "    SMpull = float(obsSM.loc[[obs], 'pull exp.'])\n",
    "    if NPpull > SMpull:\n",
    "        col = int(min(50, 50*(NPpull-SMpull)))\n",
    "        f.write(f'{obsnum} &\\t {tex(obs)} &\\t {texnumber(obsNP.loc[[obs], \"theory\"], 5)} &'+\n",
    "                f'\\t \\cellcolor{{red!{col}}}{texnumber(NPpull, 2)} $ \\sigma$ &\\t '+\n",
    "                f'{texnumber(SMpull, 2)} $ \\sigma$ \\\\\\\\ \\hline\\n')\n",
    "    elif SMpull > NPpull:\n",
    "        col = int(min(50, 50*(SMpull-NPpull)))\n",
    "        f.write(f'{obsnum} &\\t {tex(obs)} &\\t {texnumber(obsNP.loc[[obs], \"theory\"], 5)} &'+\n",
    "                f'\\t \\cellcolor{{green!{col}}}{texnumber(NPpull, 2)} $ \\sigma$ &\\t '+\n",
    "                f'{texnumber(SMpull, 2)} $ \\sigma$ \\\\\\\\ \\hline\\n')\n",
    "    else:\n",
    "        f.write(f'{obsnum} &\\t {tex(obs)} &\\t {texnumber(obsNP.loc[[obs], \"theory\"], 5)} &'+\n",
    "                f'\\t {texnumber(NPpull, 2)} $ \\sigma$ &\\t {texnumber(SMpull, 2)} '+\n",
    "                '$ \\sigma$ \\\\\\\\ \\hline\\n')\n",
    "    obsnum += 1\n",
    "f.write(r'\\end{longtable}')\n",
    "f.close()"
   ]
  },
  {
   "cell_type": "code",
   "execution_count": 42,
   "id": "dfb0df8d",
   "metadata": {},
   "outputs": [
    {
     "data": {
      "image/png": "[encoded data removed]",
      "text/plain": [
       "<Figure size 640x480 with 1 Axes>"
      ]
     },
     "metadata": {},
     "output_type": "display_data"
    }
   ],
   "source": [
    "import matplotlib.pyplot as plt\n",
    "plt.rcParams.update({'pgf.texsystem':'pdflatex'})\n",
    "\n",
    "NP = []\n",
    "SM = []\n",
    "for obs in obscoll:\n",
    "    if isinstance(obs, list):\n",
    "        obs = tuple(obs)\n",
    "    NP.append(float(obsNP.loc[[obs], 'pull exp.']))\n",
    "    SM.append(float(obsSM.loc[[obs], 'pull exp.']))\n",
    "\n",
    "fig = plt.figure()\n",
    "plt.plot(NP, label='Scenario III')\n",
    "plt.plot(SM, label='Standard Model')\n",
    "vertplus = 0\n",
    "vertminus = 0\n",
    "sigmas = 1\n",
    "for i, (SMi, NPi) in enumerate(zip(SM, NP)):\n",
    "    if (NPi-SMi) > sigmas:\n",
    "        v = 0.3 + vertplus\n",
    "        vertplus += 0.1\n",
    "        plt.annotate(str(i), xy=(i, NPi), xytext=(i, NPi+v), fontsize=6,\n",
    "                        horizontalalignment='right',\n",
    "                        arrowprops=dict(facecolor='black', arrowstyle='->'))\n",
    "    elif (SMi-NPi) > sigmas:\n",
    "        v = 0.3 + vertminus\n",
    "        #vertminus += 0.1\n",
    "        plt.annotate(str(i), xy=(i, NPi), xytext=(i, NPi-v), fontsize=6,\n",
    "                        horizontalalignment='left',\n",
    "                        arrowprops=dict(facecolor='black', arrowstyle='->'))\n",
    "plt.xlabel('Observable')\n",
    "plt.ylabel(r'$|$Pull$|$')\n",
    "plt.legend(loc=1)\n",
    "plt.tight_layout(pad=0.5)\n",
    "fig.savefig('rotBIII.pdf')"
   ]
  },
  {
   "cell_type": "code",
   "execution_count": 19,
   "id": "09bf5d74",
   "metadata": {},
   "outputs": [],
   "source": [
    "from scenarios import idemp"
   ]
  },
  {
   "cell_type": "code",
   "execution_count": 20,
   "id": "98c03547",
   "metadata": {},
   "outputs": [
    {
     "data": {
      "text/plain": [
       "matrix([[0.        , 0.        , 0.        ],\n",
       "        [0.        , 0.44942944, 0.49743604],\n",
       "        [0.        , 0.49743604, 0.55057056]])"
      ]
     },
     "execution_count": 20,
     "metadata": {},
     "output_type": "execute_result"
    }
   ],
   "source": [
    "idemp(0, bf[2])"
   ]
  },
  {
   "cell_type": "code",
   "execution_count": 22,
   "id": "1ab608ed",
   "metadata": {},
   "outputs": [],
   "source": [
    "w_low = w.match_run(scale=4.8, basis='flavio', eft='WET')"
   ]
  },
  {
   "cell_type": "code",
   "execution_count": 23,
   "id": "e52e7e5a",
   "metadata": {},
   "outputs": [
    {
     "data": {
      "text/plain": [
       "(0.08872214241326881-2.2863763264296097e-06j)"
      ]
     },
     "execution_count": 23,
     "metadata": {},
     "output_type": "execute_result"
    }
   ],
   "source": [
    "w_low['CVL_bctaunutau']"
   ]
  },
  {
   "cell_type": "code",
   "execution_count": 24,
   "id": "df92fea1",
   "metadata": {},
   "outputs": [
    {
     "data": {
      "text/plain": [
       "0"
      ]
     },
     "execution_count": 24,
     "metadata": {},
     "output_type": "execute_result"
    }
   ],
   "source": [
    "w_low['CVR_bctaunutau']"
   ]
  },
  {
   "cell_type": "code",
   "execution_count": 25,
   "id": "2ca2e86d",
   "metadata": {},
   "outputs": [
    {
     "data": {
      "text/plain": [
       "(1.2756652345188523e-07-2.9133212699958064e-12j)"
      ]
     },
     "execution_count": 25,
     "metadata": {},
     "output_type": "execute_result"
    }
   ],
   "source": [
    "w_low['CSL_bctaunutau']"
   ]
  },
  {
   "cell_type": "code",
   "execution_count": 26,
   "id": "40accc8c",
   "metadata": {},
   "outputs": [
    {
     "data": {
      "text/plain": [
       "(-1.013985238152431e-06+3.292696311805009e-11j)"
      ]
     },
     "execution_count": 26,
     "metadata": {},
     "output_type": "execute_result"
    }
   ],
   "source": [
    "w_low['CSR_bctaunutau']"
   ]
  },
  {
   "cell_type": "code",
   "execution_count": 27,
   "id": "2aeee34e",
   "metadata": {},
   "outputs": [
    {
     "data": {
      "text/plain": [
       "(-2.1127549986382166e-08+4.825038661607983e-13j)"
      ]
     },
     "execution_count": 27,
     "metadata": {},
     "output_type": "execute_result"
    }
   ],
   "source": [
    "w_low['CT_bctaunutau']"
   ]
  },
  {
   "cell_type": "code",
   "execution_count": 34,
   "id": "3bbfba32",
   "metadata": {},
   "outputs": [
    {
     "data": {
      "text/plain": [
       "(0.616022748031058+0.011318002380635902j)"
      ]
     },
     "execution_count": 34,
     "metadata": {},
     "output_type": "execute_result"
    }
   ],
   "source": [
    "w_low['CL_bsnutaunutau']*(-0.08287)"
   ]
  },
  {
   "cell_type": "code",
   "execution_count": 29,
   "id": "3864771b",
   "metadata": {},
   "outputs": [
    {
     "data": {
      "text/plain": [
       "(3.544926270264555e-06+6.50666915006711e-08j)"
      ]
     },
     "execution_count": 29,
     "metadata": {},
     "output_type": "execute_result"
    }
   ],
   "source": [
    "w_low['CR_bsnutaunutau']"
   ]
  },
  {
   "cell_type": "code",
   "execution_count": 30,
   "id": "5a92b952",
   "metadata": {},
   "outputs": [
    {
     "data": {
      "text/plain": [
       "(0.0002116658592473824+3.890076195786354e-06j)"
      ]
     },
     "execution_count": 30,
     "metadata": {},
     "output_type": "execute_result"
    }
   ],
   "source": [
    "w_low['CL_bsnumunumu']"
   ]
  },
  {
   "cell_type": "code",
   "execution_count": 31,
   "id": "ee43fb08",
   "metadata": {},
   "outputs": [
    {
     "data": {
      "text/plain": [
       "(0.0002116658592473824+3.890076195786354e-06j)"
      ]
     },
     "execution_count": 31,
     "metadata": {},
     "output_type": "execute_result"
    }
   ],
   "source": [
    "w_low['CL_bsnuenue']"
   ]
  },
  {
   "cell_type": "code",
   "execution_count": 32,
   "id": "cff98df4",
   "metadata": {},
   "outputs": [
    {
     "data": {
      "text/plain": [
       "(-2.8550958603507304e-07+6.227017760596083e-12j)"
      ]
     },
     "execution_count": 32,
     "metadata": {},
     "output_type": "execute_result"
    }
   ],
   "source": [
    "w_low['CVL_bcmunumu']"
   ]
  },
  {
   "cell_type": "code",
   "execution_count": 35,
   "id": "97286137",
   "metadata": {},
   "outputs": [
    {
     "data": {
      "text/plain": [
       "(-0.5764847945720568-0.01059187122654822j)"
      ]
     },
     "execution_count": 35,
     "metadata": {},
     "output_type": "execute_result"
    }
   ],
   "source": [
    "w_low['C9_bsmumu']"
   ]
  },
  {
   "cell_type": "code",
   "execution_count": 36,
   "id": "c2d47153",
   "metadata": {},
   "outputs": [
    {
     "data": {
      "text/plain": [
       "(-0.5764847945720568-0.010591871226548219j)"
      ]
     },
     "execution_count": 36,
     "metadata": {},
     "output_type": "execute_result"
    }
   ],
   "source": [
    "w_low['C9_bsee']"
   ]
  },
  {
   "cell_type": "code",
   "execution_count": 37,
   "id": "bd388d79",
   "metadata": {},
   "outputs": [
    {
     "data": {
      "text/plain": [
       "(-0.0017818713997265257-3.274791476685417e-05j)"
      ]
     },
     "execution_count": 37,
     "metadata": {},
     "output_type": "execute_result"
    }
   ],
   "source": [
    "w_low['C10_bsmumu']"
   ]
  },
  {
   "cell_type": "code",
   "execution_count": 38,
   "id": "ebc3f6aa",
   "metadata": {},
   "outputs": [
    {
     "data": {
      "text/plain": [
       "(-0.001781871399726526-3.2747914766852365e-05j)"
      ]
     },
     "execution_count": 38,
     "metadata": {},
     "output_type": "execute_result"
    }
   ],
   "source": [
    "w_low['C10_bsee']"
   ]
  },
  {
   "cell_type": "code",
   "execution_count": null,
   "id": "6f7ab745",
   "metadata": {},
   "outputs": [],
   "source": []
  }
 ],
 "metadata": {
  "kernelspec": {
   "display_name": "banomalies-ml-24-q3wM3yKA-py3.10",
   "language": "python",
   "name": "python3"
  },
  "language_info": {
   "codemirror_mode": {
    "name": "ipython",
    "version": 3
   },
   "file_extension": ".py",
   "mimetype": "text/x-python",
   "name": "python",
   "nbconvert_exporter": "python",
   "pygments_lexer": "ipython3",
   "version": "3.10.15"
  }
 },
 "nbformat": 4,
 "nbformat_minor": 5
}
