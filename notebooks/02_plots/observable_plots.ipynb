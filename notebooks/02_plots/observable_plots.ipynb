{
 "cells": [
  {
   "cell_type": "code",
   "execution_count": 1,
   "metadata": {},
   "outputs": [],
   "source": [
    "import warnings\n",
    "warnings.simplefilter('ignore')\n",
    "\n",
    "import SMEFT19 \n",
    "import matplotlib.pyplot as plt\n",
    "\n",
    "from matplotlib.patches import Ellipse\n",
    "import matplotlib.transforms as transforms\n",
    "plt.rcParams['text.usetex'] = True\n",
    "import flavio\n",
    "from wilson import Wilson\n",
    "import numpy as np"
   ]
  },
  {
   "cell_type": "code",
   "execution_count": 2,
   "metadata": {},
   "outputs": [],
   "source": [
    "wI = Wilson.from_wc(SMEFT19.scenarios.rotBI([-0.11, 0, 0.78]).match_run(4.8, 'WET', 'flavio'))"
   ]
  },
  {
   "cell_type": "code",
   "execution_count": 3,
   "metadata": {},
   "outputs": [],
   "source": [
    "wII = Wilson.from_wc(SMEFT19.scenarios.rotBII([-0.12, 0.07, 0, -0.076, 0.851]).match_run(4.8, 'WET', 'flavio'))"
   ]
  },
  {
   "cell_type": "code",
   "execution_count": 4,
   "metadata": {},
   "outputs": [],
   "source": [
    "wIII = Wilson.from_wc(SMEFT19.scenarios.rotBIII([-0.11, -0.13, 0.64]).match_run(4.8, 'WET', 'flavio'))"
   ]
  },
  {
   "cell_type": "code",
   "execution_count": 5,
   "metadata": {},
   "outputs": [],
   "source": [
    "wc = [wI, wII, wIII]"
   ]
  },
  {
   "cell_type": "code",
   "execution_count": 6,
   "metadata": {},
   "outputs": [],
   "source": [
    "RD = {}\n",
    "RD |= {'SM_pred' :flavio.sm_prediction('Rtaul(B->Dlnu)')}\n",
    "RD |= {'SM_unc' :flavio.sm_uncertainty('Rtaul(B->Dlnu)')}\n",
    "RD |= {'exp': flavio.combine_measurements('Rtaul(B->Dlnu)').get_central()}\n",
    "RD |= {'exp_unc-': flavio.combine_measurements('Rtaul(B->Dlnu)').get_error_left()}\n",
    "RD |= {'exp_unc+': flavio.combine_measurements('Rtaul(B->Dlnu)').get_error_right()}\n",
    "for i in range(3):\n",
    "    RD |= {f'sc{i+1}_pred': flavio.np_prediction('Rtaul(B->Dlnu)', wc[i])}\n",
    "    RD |= {f'sc{i+1}_unc': flavio.np_uncertainty('Rtaul(B->Dlnu)', wc[i])}"
   ]
  },
  {
   "cell_type": "code",
   "execution_count": 7,
   "metadata": {},
   "outputs": [],
   "source": [
    "RDs = {}\n",
    "RDs |= {'SM_pred' :flavio.sm_prediction('Rtaul(B->D*lnu)')}\n",
    "RDs |= {'SM_unc' :flavio.sm_uncertainty('Rtaul(B->D*lnu)')}\n",
    "RDs |= {'exp': flavio.combine_measurements('Rtaul(B->D*lnu)').get_central()}\n",
    "RDs |= {'exp_unc-': flavio.combine_measurements('Rtaul(B->D*lnu)').get_error_left()}\n",
    "RDs |= {'exp_unc+': flavio.combine_measurements('Rtaul(B->D*lnu)').get_error_right()}\n",
    "for i in range(3):\n",
    "    RDs |= {f'sc{i+1}_pred': flavio.np_prediction('Rtaul(B->D*lnu)', wc[i])}\n",
    "    RDs |= {f'sc{i+1}_unc': flavio.np_uncertainty('Rtaul(B->D*lnu)', wc[i])}"
   ]
  },
  {
   "cell_type": "code",
   "execution_count": 8,
   "metadata": {},
   "outputs": [],
   "source": [
    "RDs_mu = {}\n",
    "RDs_mu |= {'SM_pred' :flavio.sm_prediction('Rtaumu(B->D*lnu)')}\n",
    "RDs_mu |= {'SM_unc' :flavio.sm_uncertainty('Rtaumu(B->D*lnu)')}\n",
    "RDs_mu |= {'exp': flavio.combine_measurements('Rtaumu(B->D*lnu)').get_central()}\n",
    "RDs_mu |= {'exp_unc-': flavio.combine_measurements('Rtaumu(B->D*lnu)').get_error_left()}\n",
    "RDs_mu |= {'exp_unc+': flavio.combine_measurements('Rtaumu(B->D*lnu)').get_error_right()}\n",
    "for i in range(3):\n",
    "    RDs_mu |= {f'sc{i+1}_pred': flavio.np_prediction('Rtaumu(B->D*lnu)', wc[i])}\n",
    "    RDs_mu |= {f'sc{i+1}_unc': flavio.np_uncertainty('Rtaumu(B->D*lnu)', wc[i])}"
   ]
  },
  {
   "cell_type": "code",
   "execution_count": 9,
   "metadata": {},
   "outputs": [],
   "source": [
    "RJpsi = {}\n",
    "RJpsi |= {'SM_pred' :flavio.sm_prediction('Rtaumu(Bc->J/psilnu)')}\n",
    "RJpsi |= {'SM_unc' :flavio.sm_uncertainty('Rtaumu(Bc->J/psilnu)')}\n",
    "RJpsi |= {'exp': flavio.combine_measurements('Rtaumu(Bc->J/psilnu)').get_central()}\n",
    "RJpsi |= {'exp_unc-': flavio.combine_measurements('Rtaumu(Bc->J/psilnu)').get_error_left()}\n",
    "RJpsi |= {'exp_unc+': flavio.combine_measurements('Rtaumu(Bc->J/psilnu)').get_error_right()}\n",
    "for i in range(3):\n",
    "    RJpsi |= {f'sc{i+1}_pred': flavio.np_prediction('Rtaumu(Bc->J/psilnu)', wc[i])}\n",
    "    RJpsi |= {f'sc{i+1}_unc': flavio.np_uncertainty('Rtaumu(Bc->J/psilnu)', wc[i])}"
   ]
  },
  {
   "cell_type": "code",
   "execution_count": 10,
   "metadata": {},
   "outputs": [],
   "source": [
    "obs_RD = [RD, RDs, RDs_mu, RJpsi]"
   ]
  },
  {
   "cell_type": "code",
   "execution_count": 11,
   "metadata": {},
   "outputs": [],
   "source": [
    "markers = ['o', '^', 's']"
   ]
  },
  {
   "cell_type": "code",
   "execution_count": 12,
   "metadata": {},
   "outputs": [
    {
     "data": {
      "image/png": "[encoded data removed]",
      "text/plain": [
       "<Figure size 640x480 with 1 Axes>"
      ]
     },
     "metadata": {},
     "output_type": "display_data"
    }
   ],
   "source": [
    "label_SM = ['SM',] + [None,]*(len(obs_RD)-1)\n",
    "label_exp = ['Experimental',] + [None,]*(len(obs_RD)-1)\n",
    "label_sc = [['Scenario I',] + [None,]*(len(obs_RD)-1), ['Scenario II',] + [None,]*(len(obs_RD)-1), ['Scenario III',] + [None,]*(len(obs_RD)-1)]\n",
    "\n",
    "for j in range(len(obs_RD)):\n",
    "    plt.fill_between([j,j+1], obs_RD[j]['SM_pred']-obs_RD[j]['SM_unc'], obs_RD[j]['SM_pred']+obs_RD[j]['SM_unc'], color='goldenrod', alpha=0.4, label=label_SM[j])\n",
    "    plt.plot([j, j+1], [obs_RD[j]['SM_pred'], obs_RD[j]['SM_pred']], c='goldenrod', ls='dashed')\n",
    "\n",
    "    plt.fill_between([j,j+1], obs_RD[j]['exp']-obs_RD[j]['exp_unc-'], obs_RD[j]['exp']+obs_RD[j]['exp_unc+'], color='forestgreen', alpha=0.4, label = label_exp[j])\n",
    "    plt.plot([j, j+1], [obs_RD[j]['exp'], obs_RD[j]['exp']], c='forestgreen', ls='dashed')\n",
    "\n",
    "    for i in range(3):\n",
    "        plt.errorbar([j+0.25*(1+i)], [obs_RD[j][f'sc{i+1}_pred']], [obs_RD[j][f'sc{i+1}_unc']], fmt=markers[i], c='tab:blue', label=label_sc[i][j])\n",
    "plt.xticks([0.5, 1.5, 2.5, 3.5], [r'$R_D^\\ell$', r'$R_{D^*}^\\ell$', r'$R_{D^*}^\\mu$', r'$R_{J/\\psi}$'], fontsize=16)\n",
    "plt.yticks(fontsize=16)\n",
    "plt.legend(fontsize=14)\n",
    "plt.ylabel('$R$', fontsize=16)\n",
    "\n",
    "plt.xlim(0, len(obs_RD))\n",
    "plt.tight_layout(pad=0.5)\n",
    "plt.savefig('observables_RD.pdf')"
   ]
  },
  {
   "cell_type": "code",
   "execution_count": 13,
   "metadata": {},
   "outputs": [],
   "source": [
    "BRK = {}\n",
    "BRK |= {'SM_pred' :flavio.sm_prediction('BR(B+->Knunu)')*1e5}\n",
    "BRK |= {'SM_unc' :flavio.sm_uncertainty('BR(B+->Knunu)')*1e5}\n",
    "BRK |= {'exp': flavio.combine_measurements('BR(B+->Knunu)').get_central()*1e5}\n",
    "BRK |= {'exp_unc-': flavio.combine_measurements('BR(B+->Knunu)').get_error_left()*1e5}\n",
    "BRK |= {'exp_unc+': flavio.combine_measurements('BR(B+->Knunu)').get_error_right()*1e5}\n",
    "for i in range(3):\n",
    "    BRK |= {f'sc{i+1}_pred': flavio.np_prediction('BR(B+->Knunu)', wc[i])*1e5}\n",
    "    BRK |= {f'sc{i+1}_unc': flavio.np_uncertainty('BR(B+->Knunu)', wc[i])*1e5}"
   ]
  },
  {
   "cell_type": "code",
   "execution_count": 14,
   "metadata": {},
   "outputs": [],
   "source": [
    "BRKs = {}\n",
    "BRKs |= {'SM_pred' :flavio.sm_prediction('BR(B0->K*nunu)')*1e5}\n",
    "BRKs |= {'SM_unc' :flavio.sm_uncertainty('BR(B0->K*nunu)')*1e5}\n",
    "BRKs |= {'exp': flavio.combine_measurements('BR(B0->K*nunu)').get_central()*1e5}\n",
    "BRKs |= {'exp_unc-': flavio.combine_measurements('BR(B0->K*nunu)').get_error_left()*1e5}\n",
    "BRKs |= {'exp_unc+': flavio.combine_measurements('BR(B0->K*nunu)').get_error_right()*1e5}\n",
    "for i in range(3):\n",
    "    BRKs |= {f'sc{i+1}_pred': flavio.np_prediction('BR(B0->K*nunu)', wc[i])*1e5}\n",
    "    BRKs |= {f'sc{i+1}_unc': flavio.np_uncertainty('BR(B0->K*nunu)', wc[i])*1e5}"
   ]
  },
  {
   "cell_type": "code",
   "execution_count": 15,
   "metadata": {},
   "outputs": [],
   "source": [
    "obs_BRK = [BRK, BRKs]"
   ]
  },
  {
   "cell_type": "code",
   "execution_count": 16,
   "metadata": {},
   "outputs": [
    {
     "data": {
      "image/png": "[encoded data removed]",
      "text/plain": [
       "<Figure size 640x480 with 1 Axes>"
      ]
     },
     "metadata": {},
     "output_type": "display_data"
    }
   ],
   "source": [
    "label_SM = ['SM',] + [None,]*(len(obs_BRK)-1)\n",
    "label_exp = ['Experimental',] + [None,]*(len(obs_BRK)-1)\n",
    "label_sc = [['Scenario I',] + [None,]*(len(obs_BRK)-1), ['Scenario II',] + [None,]*(len(obs_BRK)-1), ['Scenario III',] + [None,]*(len(obs_BRK)-1)]\n",
    "\n",
    "for j in range(len(obs_BRK)):\n",
    "    plt.fill_between([j,j+1], obs_BRK[j]['SM_pred']-obs_BRK[j]['SM_unc'], obs_BRK[j]['SM_pred']+obs_BRK[j]['SM_unc'], color='goldenrod', alpha=0.4, label=label_SM[j])\n",
    "    plt.plot([j, j+1], [obs_BRK[j]['SM_pred'], obs_BRK[j]['SM_pred']], c='goldenrod', ls='dashed')\n",
    "\n",
    "    plt.fill_between([j,j+1], obs_BRK[j]['exp']-obs_BRK[j]['exp_unc-'], obs_BRK[j]['exp']+obs_BRK[j]['exp_unc+'], color='forestgreen', alpha=0.4, label = label_exp[j])\n",
    "    plt.plot([j, j+1], [obs_BRK[j]['exp'], obs_BRK[j]['exp']], c='forestgreen', ls='dashed')\n",
    "\n",
    "    for i in range(3):\n",
    "        plt.errorbar([j+0.25*(1+i)], [obs_BRK[j][f'sc{i+1}_pred']], [obs_BRK[j][f'sc{i+1}_unc']], fmt=markers[i], c='tab:blue', label=label_sc[i][j])\n",
    "plt.xticks([0.5, 1.5], [r'$\\mathrm{BR}(B^+ \\to K^+\\nu\\bar{\\nu})$', r'$\\mathrm{BR}(B^0 \\to K^{*0}\\nu\\bar{\\nu})$'], fontsize=16)\n",
    "plt.yticks(fontsize=16)\n",
    "plt.ylabel(r'$\\mathrm{BR}\\times 10^5$', fontsize=16)\n",
    "\n",
    "plt.xlim(0, len(obs_BRK))\n",
    "\n",
    "plt.tight_layout(pad=0.5)\n",
    "plt.savefig('observables_BKnunu.pdf')"
   ]
  },
  {
   "cell_type": "code",
   "execution_count": 17,
   "metadata": {},
   "outputs": [
    {
     "data": {
      "text/plain": [
       "9.083179034642552e-06"
      ]
     },
     "execution_count": 17,
     "metadata": {},
     "output_type": "execute_result"
    }
   ],
   "source": [
    "flavio.combine_measurements('BR(B0->K*nunu)').get_error_right()"
   ]
  },
  {
   "cell_type": "code",
   "execution_count": 18,
   "metadata": {},
   "outputs": [
    {
     "data": {
      "text/plain": [
       "0.0"
      ]
     },
     "execution_count": 18,
     "metadata": {},
     "output_type": "execute_result"
    }
   ],
   "source": [
    "flavio.combine_measurements('BR(B0->K*nunu)').get_error_left()"
   ]
  },
  {
   "cell_type": "code",
   "execution_count": 19,
   "metadata": {},
   "outputs": [],
   "source": [
    "covRD_SM = flavio.sm_covariance(['Rtaul(B->Dlnu)', 'Rtaul(B->D*lnu)'])"
   ]
  },
  {
   "cell_type": "code",
   "execution_count": 20,
   "metadata": {},
   "outputs": [
    {
     "data": {
      "text/plain": [
       "array([[ 5.82656189e-05, -3.53318847e-06],\n",
       "       [-3.53318847e-06,  6.51105537e-05]])"
      ]
     },
     "execution_count": 20,
     "metadata": {},
     "output_type": "execute_result"
    }
   ],
   "source": [
    "covRD_SM"
   ]
  },
  {
   "cell_type": "code",
   "execution_count": 21,
   "metadata": {},
   "outputs": [],
   "source": [
    "def confidence_ellipse(cov, mean_x, mean_y, ax, n_std=3.0, facecolor='none', **kwargs):\n",
    "\n",
    "    pearson = cov[0, 1]/np.sqrt(cov[0, 0] * cov[1, 1])\n",
    "    print(pearson)\n",
    "    # Using a special case to obtain the eigenvalues of this\n",
    "    # two-dimensional dataset.\n",
    "    ell_radius_x = np.sqrt(1 + pearson)\n",
    "    ell_radius_y = np.sqrt(1 - pearson)\n",
    "    ellipse = Ellipse((0, 0), width=ell_radius_x * 2, height=ell_radius_y * 2,\n",
    "                      facecolor=facecolor, **kwargs)\n",
    "\n",
    "    # Calculating the standard deviation of x from\n",
    "    # the squareroot of the variance and multiplying\n",
    "    # with the given number of standard deviations.\n",
    "    scale_x = np.sqrt(cov[0, 0]) * n_std\n",
    "\n",
    "    # calculating the standard deviation of y ...\n",
    "    scale_y = np.sqrt(cov[1, 1]) * n_std\n",
    "\n",
    "    transf = transforms.Affine2D() \\\n",
    "        .rotate_deg(45) \\\n",
    "        .scale(scale_x, scale_y) \\\n",
    "        .translate(mean_x, mean_y)\n",
    "\n",
    "    ellipse.set_transform(transf + ax.transData)\n",
    "    return ax.add_patch(ellipse)"
   ]
  },
  {
   "cell_type": "code",
   "execution_count": 22,
   "metadata": {},
   "outputs": [],
   "source": [
    "covRD_exp = np.matrix(np.diag([RD['exp_unc+'], RDs['exp_unc+']])) @ np.matrix([[1, -0.39], [-0.39, 1]]) @ np.matrix(np.diag([RD['exp_unc+'], RDs['exp_unc+']])) "
   ]
  },
  {
   "cell_type": "code",
   "execution_count": 23,
   "metadata": {},
   "outputs": [
    {
     "data": {
      "text/plain": [
       "array([[ 5.82656189e-05, -3.53318847e-06],\n",
       "       [-3.53318847e-06,  6.51105537e-05]])"
      ]
     },
     "execution_count": 23,
     "metadata": {},
     "output_type": "execute_result"
    }
   ],
   "source": [
    "covRD_SM"
   ]
  },
  {
   "cell_type": "code",
   "execution_count": 24,
   "metadata": {},
   "outputs": [],
   "source": [
    "covRD_ml = np.matrix([[1.04953200e-04, 8.64909766e-05],\n",
    "       [8.64909766e-05, 7.12764266e-05]])"
   ]
  },
  {
   "cell_type": "code",
   "execution_count": 25,
   "metadata": {},
   "outputs": [
    {
     "name": "stdout",
     "output_type": "stream",
     "text": [
      "-0.05736340566969781\n",
      "-0.38999999999999996\n",
      "0.9999999984618148\n"
     ]
    },
    {
     "data": {
      "text/plain": [
       "Text(0, 0.5, '$R_{D^*}^\\\\ell$')"
      ]
     },
     "execution_count": 25,
     "metadata": {},
     "output_type": "execute_result"
    },
    {
     "data": {
      "image/png": "[encoded data removed]",
      "text/plain": [
       "<Figure size 640x480 with 1 Axes>"
      ]
     },
     "metadata": {},
     "output_type": "display_data"
    }
   ],
   "source": [
    "ax = plt.gca()\n",
    "confidence_ellipse(covRD_SM, RD['SM_pred'], RDs['SM_pred'], ax, 1, facecolor='goldenrod', alpha=0.3, edgecolor='goldenrod', label='SM')\n",
    "confidence_ellipse(covRD_exp, RD['exp'], RDs['exp'], ax, 1, facecolor='forestgreen', alpha=0.3, edgecolor='forestgreen', label='Experimental')\n",
    "confidence_ellipse(covRD_ml, 0.343509, 0.283080, ax, 1, edgecolor='tab:blue', label = 'ML points', facecolor='tab:blue', alpha=0.6)\n",
    "plt.xlim(0.28, 0.37)\n",
    "plt.ylim(0.2, 0.35)\n",
    "plt.legend(fontsize=14)\n",
    "plt.xlabel(r'$R_D^\\ell$', fontsize=18)\n",
    "plt.ylabel(r'$R_{D^*}^\\ell$', fontsize=18)"
   ]
  },
  {
   "cell_type": "code",
   "execution_count": 26,
   "metadata": {},
   "outputs": [],
   "source": [
    "covRDBR = flavio.sm_covariance(['Rtaul(B->D*lnu)', 'BR(B+->Knunu)'])"
   ]
  },
  {
   "cell_type": "code",
   "execution_count": 27,
   "metadata": {},
   "outputs": [],
   "source": [
    "covRDBR[0,1] *= 1e5\n",
    "covRDBR[1,0] *= 1e5\n",
    "covRDBR[1,1] *= 1e10"
   ]
  },
  {
   "cell_type": "code",
   "execution_count": 28,
   "metadata": {},
   "outputs": [],
   "source": [
    "covRDBR_ml = np.matrix([[7.12764266e-05, 9.05890253e-05],\n",
    "       [9.05890253e-05, 1.57465692e-01]])"
   ]
  },
  {
   "cell_type": "code",
   "execution_count": 29,
   "metadata": {},
   "outputs": [
    {
     "name": "stdout",
     "output_type": "stream",
     "text": [
      "-0.15203723649279824\n",
      "0.0\n",
      "0.027040184750755238\n"
     ]
    },
    {
     "data": {
      "text/plain": [
       "(0.22, 0.32)"
      ]
     },
     "execution_count": 29,
     "metadata": {},
     "output_type": "execute_result"
    },
    {
     "data": {
      "image/png": "[encoded data removed]",
      "text/plain": [
       "<Figure size 640x480 with 1 Axes>"
      ]
     },
     "metadata": {},
     "output_type": "display_data"
    }
   ],
   "source": [
    "ax = plt.gca()\n",
    "confidence_ellipse(covRDBR, RDs['SM_pred'], BRK['SM_pred'], ax, 1, 'goldenrod', edgecolor='goldenrod')\n",
    "confidence_ellipse(np.matrix([[RDs['exp_unc+']**2, 0], [0, BRK['exp_unc+']**2]]), RDs['exp'], BRK['exp'], ax, 1, 'forestgreen', edgecolor='forestgreen')\n",
    "plt.ylim(0,2)\n",
    "confidence_ellipse(covRDBR_ml, 0.283080, 7.187924218905508e-1, ax, 1, 'tab:blue', edgecolor='tab:blue')\n",
    "plt.xlim(0.22, 0.32)"
   ]
  },
  {
   "cell_type": "code",
   "execution_count": 30,
   "metadata": {},
   "outputs": [
    {
     "data": {
      "text/plain": [
       "matrix([[0.00017643, 0.        ],\n",
       "        [0.        , 0.13357028]])"
      ]
     },
     "execution_count": 30,
     "metadata": {},
     "output_type": "execute_result"
    }
   ],
   "source": [
    "np.matrix([[RDs['exp_unc+']**2, 0], [0, BRK['exp_unc+']**2]])"
   ]
  },
  {
   "cell_type": "code",
   "execution_count": 31,
   "metadata": {},
   "outputs": [
    {
     "data": {
      "text/plain": [
       "array([[ 7.86277650e-05, -8.96798498e-05],\n",
       "       [-8.96798498e-05,  4.42500616e-03]])"
      ]
     },
     "execution_count": 31,
     "metadata": {},
     "output_type": "execute_result"
    }
   ],
   "source": [
    "covRDBR"
   ]
  },
  {
   "cell_type": "code",
   "execution_count": 32,
   "metadata": {},
   "outputs": [
    {
     "data": {
      "text/plain": [
       "{'SM_pred': 0.43586197885628436,\n",
       " 'SM_unc': 0.06349216582205483,\n",
       " 'exp': 1.4670000992891374,\n",
       " 'exp_unc-': 0.3399977935998039,\n",
       " 'exp_unc+': 0.36547268274696765,\n",
       " 'sc1_pred': 0.5615626470038817,\n",
       " 'sc1_unc': 0.0773253792895214,\n",
       " 'sc2_pred': 0.5772308280962162,\n",
       " 'sc2_unc': 0.08265961766725613,\n",
       " 'sc3_pred': 1.0307390300682302,\n",
       " 'sc3_unc': 0.15072454506023403}"
      ]
     },
     "execution_count": 32,
     "metadata": {},
     "output_type": "execute_result"
    }
   ],
   "source": [
    "BRK"
   ]
  },
  {
   "cell_type": "code",
   "execution_count": 33,
   "metadata": {},
   "outputs": [],
   "source": [
    "import pandas as pd"
   ]
  },
  {
   "cell_type": "code",
   "execution_count": 34,
   "metadata": {},
   "outputs": [],
   "source": [
    "data_scII = pd.read_csv('../01_global_fits/random_scII.dat')"
   ]
  },
  {
   "cell_type": "code",
   "execution_count": 35,
   "metadata": {},
   "outputs": [],
   "source": [
    "cov_scIIII =np.cov(data_scII['RD*'], data_scII['BKnunu'])"
   ]
  },
  {
   "cell_type": "code",
   "execution_count": 56,
   "metadata": {},
   "outputs": [],
   "source": [
    "data_scIII = pd.read_csv('../03_ml/observables.csv')"
   ]
  },
  {
   "cell_type": "code",
   "execution_count": 57,
   "metadata": {},
   "outputs": [
    {
     "data": {
      "text/html": [
       "<div>\n",
       "<style scoped>\n",
       "    .dataframe tbody tr th:only-of-type {\n",
       "        vertical-align: middle;\n",
       "    }\n",
       "\n",
       "    .dataframe tbody tr th {\n",
       "        vertical-align: top;\n",
       "    }\n",
       "\n",
       "    .dataframe thead th {\n",
       "        text-align: right;\n",
       "    }\n",
       "</style>\n",
       "<table border=\"1\" class=\"dataframe\">\n",
       "  <thead>\n",
       "    <tr style=\"text-align: right;\">\n",
       "      <th></th>\n",
       "      <th>RD</th>\n",
       "      <th>RD*</th>\n",
       "      <th>RD*_mu</th>\n",
       "      <th>RJpsi</th>\n",
       "      <th>BKnunu</th>\n",
       "      <th>BKsnunu</th>\n",
       "      <th>RK</th>\n",
       "      <th>RK*</th>\n",
       "      <th>RK*_low</th>\n",
       "    </tr>\n",
       "  </thead>\n",
       "  <tbody>\n",
       "    <tr>\n",
       "      <th>count</th>\n",
       "      <td>1000.000000</td>\n",
       "      <td>1000.000000</td>\n",
       "      <td>1000.000000</td>\n",
       "      <td>1000.000000</td>\n",
       "      <td>1000.000000</td>\n",
       "      <td>1000.000000</td>\n",
       "      <td>1000.000000</td>\n",
       "      <td>1000.000000</td>\n",
       "      <td>1000.000000</td>\n",
       "    </tr>\n",
       "    <tr>\n",
       "      <th>mean</th>\n",
       "      <td>0.343509</td>\n",
       "      <td>0.283080</td>\n",
       "      <td>0.283531</td>\n",
       "      <td>0.298817</td>\n",
       "      <td>0.000007</td>\n",
       "      <td>0.000016</td>\n",
       "      <td>1.000911</td>\n",
       "      <td>0.996076</td>\n",
       "      <td>0.924465</td>\n",
       "    </tr>\n",
       "    <tr>\n",
       "      <th>std</th>\n",
       "      <td>0.010245</td>\n",
       "      <td>0.008443</td>\n",
       "      <td>0.008456</td>\n",
       "      <td>0.008912</td>\n",
       "      <td>0.000004</td>\n",
       "      <td>0.000009</td>\n",
       "      <td>0.000032</td>\n",
       "      <td>0.000081</td>\n",
       "      <td>0.000219</td>\n",
       "    </tr>\n",
       "    <tr>\n",
       "      <th>min</th>\n",
       "      <td>0.309798</td>\n",
       "      <td>0.255299</td>\n",
       "      <td>0.255706</td>\n",
       "      <td>0.269492</td>\n",
       "      <td>0.000003</td>\n",
       "      <td>0.000006</td>\n",
       "      <td>1.000816</td>\n",
       "      <td>0.995841</td>\n",
       "      <td>0.923888</td>\n",
       "    </tr>\n",
       "    <tr>\n",
       "      <th>25%</th>\n",
       "      <td>0.336389</td>\n",
       "      <td>0.277213</td>\n",
       "      <td>0.277655</td>\n",
       "      <td>0.292624</td>\n",
       "      <td>0.000004</td>\n",
       "      <td>0.000008</td>\n",
       "      <td>1.000887</td>\n",
       "      <td>0.996021</td>\n",
       "      <td>0.924312</td>\n",
       "    </tr>\n",
       "    <tr>\n",
       "      <th>50%</th>\n",
       "      <td>0.343239</td>\n",
       "      <td>0.282858</td>\n",
       "      <td>0.283308</td>\n",
       "      <td>0.298583</td>\n",
       "      <td>0.000006</td>\n",
       "      <td>0.000014</td>\n",
       "      <td>1.000911</td>\n",
       "      <td>0.996074</td>\n",
       "      <td>0.924455</td>\n",
       "    </tr>\n",
       "    <tr>\n",
       "      <th>75%</th>\n",
       "      <td>0.350324</td>\n",
       "      <td>0.288697</td>\n",
       "      <td>0.289157</td>\n",
       "      <td>0.304746</td>\n",
       "      <td>0.000009</td>\n",
       "      <td>0.000020</td>\n",
       "      <td>1.000932</td>\n",
       "      <td>0.996136</td>\n",
       "      <td>0.924621</td>\n",
       "    </tr>\n",
       "    <tr>\n",
       "      <th>max</th>\n",
       "      <td>0.374651</td>\n",
       "      <td>0.308745</td>\n",
       "      <td>0.309237</td>\n",
       "      <td>0.325909</td>\n",
       "      <td>0.000022</td>\n",
       "      <td>0.000047</td>\n",
       "      <td>1.001009</td>\n",
       "      <td>0.996332</td>\n",
       "      <td>0.925210</td>\n",
       "    </tr>\n",
       "  </tbody>\n",
       "</table>\n",
       "</div>"
      ],
      "text/plain": [
       "                RD          RD*       RD*_mu        RJpsi       BKnunu  \\\n",
       "count  1000.000000  1000.000000  1000.000000  1000.000000  1000.000000   \n",
       "mean      0.343509     0.283080     0.283531     0.298817     0.000007   \n",
       "std       0.010245     0.008443     0.008456     0.008912     0.000004   \n",
       "min       0.309798     0.255299     0.255706     0.269492     0.000003   \n",
       "25%       0.336389     0.277213     0.277655     0.292624     0.000004   \n",
       "50%       0.343239     0.282858     0.283308     0.298583     0.000006   \n",
       "75%       0.350324     0.288697     0.289157     0.304746     0.000009   \n",
       "max       0.374651     0.308745     0.309237     0.325909     0.000022   \n",
       "\n",
       "           BKsnunu           RK          RK*      RK*_low  \n",
       "count  1000.000000  1000.000000  1000.000000  1000.000000  \n",
       "mean      0.000016     1.000911     0.996076     0.924465  \n",
       "std       0.000009     0.000032     0.000081     0.000219  \n",
       "min       0.000006     1.000816     0.995841     0.923888  \n",
       "25%       0.000008     1.000887     0.996021     0.924312  \n",
       "50%       0.000014     1.000911     0.996074     0.924455  \n",
       "75%       0.000020     1.000932     0.996136     0.924621  \n",
       "max       0.000047     1.001009     0.996332     0.925210  "
      ]
     },
     "execution_count": 57,
     "metadata": {},
     "output_type": "execute_result"
    }
   ],
   "source": [
    "data_scIII.describe()"
   ]
  },
  {
   "cell_type": "code",
   "execution_count": 69,
   "metadata": {},
   "outputs": [
    {
     "name": "stdout",
     "output_type": "stream",
     "text": [
      "-0.15203723649279824\n",
      "-0.15203723649279824\n",
      "0.0\n",
      "0.0\n"
     ]
    },
    {
     "data": {
      "image/png": "[encoded data removed]",
      "text/plain": [
       "<Figure size 640x480 with 1 Axes>"
      ]
     },
     "metadata": {},
     "output_type": "display_data"
    }
   ],
   "source": [
    "ax = plt.gca()\n",
    "\n",
    "confidence_ellipse(covRDBR, RDs['SM_pred'], BRK['SM_pred'], ax, 1, 'goldenrod', alpha=0.4, label='SM')\n",
    "confidence_ellipse(covRDBR, RDs['SM_pred'], BRK['SM_pred'], ax, 1, edgecolor='goldenrod', lw=1.2)\n",
    "#plt.annotate('SM', (0.245, 0.55), color='goldenrod', fontsize=15)\n",
    "\n",
    "confidence_ellipse(np.matrix([[RDs['exp_unc+']**2, 0], [0, BRK['exp_unc+']**2]]), RDs['exp'], BRK['exp'], ax, 1, 'forestgreen', alpha=0.4, label='Experiment')\n",
    "confidence_ellipse(np.matrix([[RDs['exp_unc+']**2, 0], [0, BRK['exp_unc+']**2]]), RDs['exp'], BRK['exp'], ax, 1, edgecolor='forestgreen', lw=1.2)\n",
    "#plt.annotate('Experiment', (0.282, 1.44), color='forestgreen', fontsize=15)\n",
    "\n",
    "#confidence_ellipse(covRDBR_ml, 0.283080, 7.187924218905508e-1, ax, 1, 'tab:blue', alpha=0.4)\n",
    "#confidence_ellipse(covRDBR_ml, 0.283080, 7.187924218905508e-1, ax, 1, edgecolor='tab:blue', lw=1.2, label='Scenario III')\n",
    "\n",
    "plt.scatter(data_scII['RD*'], data_scII['BKnunu'], s=0.4, c='tab:orange', label='Scenario II')\n",
    "plt.scatter(data_scIII['RD*'][500:], data_scIII['BKnunu'][500:]*1e5, s=0.4, c='tab:blue', label='Scenario III')\n",
    "\n",
    "#plt.plot(np.linspace(RDs['sc2_pred']-RDs['sc2_unc'], RDs['sc2_pred']+RDs['sc2_unc'], 200), [BRK['sc2_pred']+(r-RDs['sc2_pred'])*BRKs['sc2_unc']/RDs['sc2_unc'] for r in np.linspace(RDs['sc2_pred']-RDs['sc2_unc'], RDs['sc2_pred']+RDs['sc2_unc'], 200)], c='tab:orange', lw=1.2, label='Scenario II')\n",
    "\n",
    "\n",
    "plt.xlim(0.22, 0.32)\n",
    "plt.ylim(0,2)\n",
    "plt.legend(fontsize=14, scatterpoints=6)\n",
    "\n",
    "plt.xlabel(r'$R_{D^*}$', fontsize=18)\n",
    "plt.ylabel(r'$\\mathrm{BR}(B^+\\to K^+ \\nu\\bar{\\nu})\\times 10^5$', fontsize=18)\n",
    "plt.xticks(fontsize=16)\n",
    "plt.yticks(fontsize=16)\n",
    "plt.tight_layout(pad=0.5)\n",
    "plt.savefig('correlation_RDs_BKnunu.pdf')"
   ]
  },
  {
   "cell_type": "code",
   "execution_count": 57,
   "metadata": {},
   "outputs": [
    {
     "data": {
      "text/plain": [
       "0.3483282089475941"
      ]
     },
     "execution_count": 57,
     "metadata": {},
     "output_type": "execute_result"
    }
   ],
   "source": [
    "np.mean(data_scII['RD*'])"
   ]
  },
  {
   "cell_type": "code",
   "execution_count": 38,
   "metadata": {},
   "outputs": [
    {
     "data": {
      "text/plain": [
       "(0.0, 2.0)"
      ]
     },
     "execution_count": 38,
     "metadata": {},
     "output_type": "execute_result"
    },
    {
     "data": {
      "image/png": "[encoded data removed]",
      "text/plain": [
       "<Figure size 640x480 with 1 Axes>"
      ]
     },
     "metadata": {},
     "output_type": "display_data"
    }
   ],
   "source": [
    "plt.plot(np.linspace(RDs['sc2_pred']-RDs['sc2_unc'], RDs['sc2_pred']+RDs['sc2_unc'], 200), [BRK['sc2_pred']+(r-RDs['sc2_pred'])*BRKs['sc2_unc']/RDs['sc2_unc'] for r in np.linspace(RDs['sc2_pred']-RDs['sc2_unc'], RDs['sc2_pred']+RDs['sc2_unc'], 200)])\n",
    "plt.xlim(0.22, 0.32)\n",
    "plt.ylim(0, 2)"
   ]
  },
  {
   "cell_type": "code",
   "execution_count": 54,
   "metadata": {},
   "outputs": [
    {
     "data": {
      "text/html": [
       "<div>\n",
       "<style scoped>\n",
       "    .dataframe tbody tr th:only-of-type {\n",
       "        vertical-align: middle;\n",
       "    }\n",
       "\n",
       "    .dataframe tbody tr th {\n",
       "        vertical-align: top;\n",
       "    }\n",
       "\n",
       "    .dataframe thead th {\n",
       "        text-align: right;\n",
       "    }\n",
       "</style>\n",
       "<table border=\"1\" class=\"dataframe\">\n",
       "  <thead>\n",
       "    <tr style=\"text-align: right;\">\n",
       "      <th></th>\n",
       "      <th>C</th>\n",
       "      <th>al</th>\n",
       "      <th>bl</th>\n",
       "      <th>aq</th>\n",
       "      <th>bq</th>\n",
       "      <th>likelihood</th>\n",
       "      <th>RD*</th>\n",
       "      <th>BKnunu</th>\n",
       "    </tr>\n",
       "  </thead>\n",
       "  <tbody>\n",
       "    <tr>\n",
       "      <th>count</th>\n",
       "      <td>36.000000</td>\n",
       "      <td>36.000000</td>\n",
       "      <td>36.000000</td>\n",
       "      <td>36.000000</td>\n",
       "      <td>36.000000</td>\n",
       "      <td>36.000000</td>\n",
       "      <td>36.000000</td>\n",
       "      <td>36.000000</td>\n",
       "    </tr>\n",
       "    <tr>\n",
       "      <th>mean</th>\n",
       "      <td>-0.090796</td>\n",
       "      <td>0.055328</td>\n",
       "      <td>0.000657</td>\n",
       "      <td>-0.058147</td>\n",
       "      <td>0.849436</td>\n",
       "      <td>18.572357</td>\n",
       "      <td>0.278642</td>\n",
       "      <td>0.538740</td>\n",
       "    </tr>\n",
       "    <tr>\n",
       "      <th>std</th>\n",
       "      <td>0.008050</td>\n",
       "      <td>0.007054</td>\n",
       "      <td>0.000117</td>\n",
       "      <td>0.009830</td>\n",
       "      <td>0.000310</td>\n",
       "      <td>0.868047</td>\n",
       "      <td>0.003096</td>\n",
       "      <td>0.010390</td>\n",
       "    </tr>\n",
       "    <tr>\n",
       "      <th>min</th>\n",
       "      <td>-0.110618</td>\n",
       "      <td>0.043531</td>\n",
       "      <td>0.000484</td>\n",
       "      <td>-0.075448</td>\n",
       "      <td>0.848694</td>\n",
       "      <td>16.801760</td>\n",
       "      <td>0.272150</td>\n",
       "      <td>0.517495</td>\n",
       "    </tr>\n",
       "    <tr>\n",
       "      <th>25%</th>\n",
       "      <td>-0.095613</td>\n",
       "      <td>0.049533</td>\n",
       "      <td>0.000589</td>\n",
       "      <td>-0.063617</td>\n",
       "      <td>0.849239</td>\n",
       "      <td>17.933684</td>\n",
       "      <td>0.276589</td>\n",
       "      <td>0.531773</td>\n",
       "    </tr>\n",
       "    <tr>\n",
       "      <th>50%</th>\n",
       "      <td>-0.091143</td>\n",
       "      <td>0.055261</td>\n",
       "      <td>0.000633</td>\n",
       "      <td>-0.058725</td>\n",
       "      <td>0.849444</td>\n",
       "      <td>18.667246</td>\n",
       "      <td>0.278738</td>\n",
       "      <td>0.539053</td>\n",
       "    </tr>\n",
       "    <tr>\n",
       "      <th>75%</th>\n",
       "      <td>-0.085402</td>\n",
       "      <td>0.059282</td>\n",
       "      <td>0.000684</td>\n",
       "      <td>-0.050848</td>\n",
       "      <td>0.849637</td>\n",
       "      <td>19.199814</td>\n",
       "      <td>0.280511</td>\n",
       "      <td>0.544891</td>\n",
       "    </tr>\n",
       "    <tr>\n",
       "      <th>max</th>\n",
       "      <td>-0.073947</td>\n",
       "      <td>0.070198</td>\n",
       "      <td>0.001072</td>\n",
       "      <td>-0.041297</td>\n",
       "      <td>0.849967</td>\n",
       "      <td>20.146599</td>\n",
       "      <td>0.286308</td>\n",
       "      <td>0.564884</td>\n",
       "    </tr>\n",
       "  </tbody>\n",
       "</table>\n",
       "</div>"
      ],
      "text/plain": [
       "               C         al         bl         aq         bq  likelihood  \\\n",
       "count  36.000000  36.000000  36.000000  36.000000  36.000000   36.000000   \n",
       "mean   -0.090796   0.055328   0.000657  -0.058147   0.849436   18.572357   \n",
       "std     0.008050   0.007054   0.000117   0.009830   0.000310    0.868047   \n",
       "min    -0.110618   0.043531   0.000484  -0.075448   0.848694   16.801760   \n",
       "25%    -0.095613   0.049533   0.000589  -0.063617   0.849239   17.933684   \n",
       "50%    -0.091143   0.055261   0.000633  -0.058725   0.849444   18.667246   \n",
       "75%    -0.085402   0.059282   0.000684  -0.050848   0.849637   19.199814   \n",
       "max    -0.073947   0.070198   0.001072  -0.041297   0.849967   20.146599   \n",
       "\n",
       "             RD*     BKnunu  \n",
       "count  36.000000  36.000000  \n",
       "mean    0.278642   0.538740  \n",
       "std     0.003096   0.010390  \n",
       "min     0.272150   0.517495  \n",
       "25%     0.276589   0.531773  \n",
       "50%     0.278738   0.539053  \n",
       "75%     0.280511   0.544891  \n",
       "max     0.286308   0.564884  "
      ]
     },
     "execution_count": 54,
     "metadata": {},
     "output_type": "execute_result"
    }
   ],
   "source": [
    "data_scII.describe()"
   ]
  },
  {
   "cell_type": "code",
   "execution_count": null,
   "metadata": {},
   "outputs": [],
   "source": []
  }
 ],
 "metadata": {
  "kernelspec": {
   "display_name": "banomalies-ml-24-q3wM3yKA-py3.10",
   "language": "python",
   "name": "python3"
  },
  "language_info": {
   "codemirror_mode": {
    "name": "ipython",
    "version": 3
   },
   "file_extension": ".py",
   "mimetype": "text/x-python",
   "name": "python",
   "nbconvert_exporter": "python",
   "pygments_lexer": "ipython3",
   "version": "3.10.15"
  }
 },
 "nbformat": 4,
 "nbformat_minor": 2
}
